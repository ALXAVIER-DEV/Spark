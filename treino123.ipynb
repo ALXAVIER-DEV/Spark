{
  "nbformat": 4,
  "nbformat_minor": 0,
  "metadata": {
    "colab": {
      "name": "treino123.ipynb",
      "provenance": [],
      "private_outputs": true,
      "collapsed_sections": [],
      "authorship_tag": "ABX9TyO7q0OFGQsYhrK6rk6dMRFi",
      "include_colab_link": true
    },
    "kernelspec": {
      "name": "python3",
      "display_name": "Python 3"
    }
  },
  "cells": [
    {
      "cell_type": "markdown",
      "metadata": {
        "id": "view-in-github",
        "colab_type": "text"
      },
      "source": [
        "<a href=\"https://colab.research.google.com/github/ALXAVIER-DEV/Spark/blob/master/treino123.ipynb\" target=\"_parent\"><img src=\"https://colab.research.google.com/assets/colab-badge.svg\" alt=\"Open In Colab\"/></a>"
      ]
    },
    {
      "cell_type": "markdown",
      "metadata": {
        "id": "foTa8CZvzrzU"
      },
      "source": [
        "## Numpy\n"
      ]
    },
    {
      "cell_type": "code",
      "metadata": {
        "id": "u96rF6Z4zupB"
      },
      "source": [
        "import pandas as pd\n",
        "import numpy as np"
      ],
      "execution_count": null,
      "outputs": []
    },
    {
      "cell_type": "code",
      "metadata": {
        "id": "uKqMvk4lzzhb"
      },
      "source": [
        "np.random.seed(100)\n",
        "Serie1 = pd.Series(np.random.rand(10))"
      ],
      "execution_count": null,
      "outputs": []
    },
    {
      "cell_type": "code",
      "metadata": {
        "id": "w_LcyBV50HJq"
      },
      "source": [
        "Serie1"
      ],
      "execution_count": null,
      "outputs": []
    },
    {
      "cell_type": "code",
      "metadata": {
        "id": "adD1LsCO0QaS"
      },
      "source": [
        "type(Serie1)"
      ],
      "execution_count": null,
      "outputs": []
    },
    {
      "cell_type": "code",
      "metadata": {
        "id": "TodsJvlA0Tto"
      },
      "source": [
        "import calendar as cal"
      ],
      "execution_count": null,
      "outputs": []
    },
    {
      "cell_type": "code",
      "metadata": {
        "id": "g40hlgpz0cuB"
      },
      "source": [
        "meses = [cal.month_name[i] for i in np.arange(1, 13)]\n",
        "meses_Series1 = pd.Series(np.arange(1, 13), index = meses)"
      ],
      "execution_count": null,
      "outputs": []
    },
    {
      "cell_type": "code",
      "metadata": {
        "id": "dVLYHSY300Lh"
      },
      "source": [
        "meses_Series1"
      ],
      "execution_count": null,
      "outputs": []
    },
    {
      "cell_type": "code",
      "metadata": {
        "id": "1M9GW3tU3MHh"
      },
      "source": [
        "meses_Series1.index"
      ],
      "execution_count": null,
      "outputs": []
    },
    {
      "cell_type": "markdown",
      "metadata": {
        "id": "Cip4mGoj3TLg"
      },
      "source": [
        "## Usando dicionario de dados"
      ]
    },
    {
      "cell_type": "code",
      "metadata": {
        "id": "SX4FbeKV3WQe"
      },
      "source": [
        "dict = {'US' : 'dollar', 'UK' : 'pound', 'Germany': 'euro', 'Brazil': 'real', 'China' : 'yuan', 'Japn': 'yen'}"
      ],
      "execution_count": null,
      "outputs": []
    },
    {
      "cell_type": "code",
      "metadata": {
        "id": "v7tzX0PO4NkN"
      },
      "source": [
        "moeda_Series1 = pd.Series(dict)"
      ],
      "execution_count": null,
      "outputs": []
    },
    {
      "cell_type": "code",
      "metadata": {
        "id": "kfhJ7Uti4ord"
      },
      "source": [
        "moeda_Series1"
      ],
      "execution_count": null,
      "outputs": []
    },
    {
      "cell_type": "code",
      "metadata": {
        "id": "wJgL059F4rCO"
      },
      "source": [
        "sttokPrices = {'GOOG' : 1092.23, 'FB' : 59.78, 'TWTR': 67.31,'AMZN': 342.90,'AAPL': 501.60 }"
      ],
      "execution_count": null,
      "outputs": []
    },
    {
      "cell_type": "code",
      "metadata": {
        "id": "lp4IR01R5ee9"
      },
      "source": [
        "sttokPricesSeries = pd.Series(sttokPrices,\n",
        "                              index = ( 'GOOG', 'FB','YHOO','TWTR','AMZN','AAPL'),\n",
        "                              name = 'sttokPrices'\n",
        "                              )"
      ],
      "execution_count": null,
      "outputs": []
    },
    {
      "cell_type": "code",
      "metadata": {
        "id": "A9EunXnw6XGr"
      },
      "source": [
        "sttokPricesSeries"
      ],
      "execution_count": null,
      "outputs": []
    },
    {
      "cell_type": "code",
      "metadata": {
        "id": "PhvvR41W6ZLz"
      },
      "source": [
        "## Usando valores escalares\n"
      ],
      "execution_count": null,
      "outputs": []
    },
    {
      "cell_type": "code",
      "metadata": {
        "id": "-acWb9Mg6gZs"
      },
      "source": [
        "humanSerie = pd.Series('Homen', index = ['pernas', 'tronco','peio', 'cabeca'])"
      ],
      "execution_count": null,
      "outputs": []
    },
    {
      "cell_type": "code",
      "metadata": {
        "id": "53UTIc-O64OL"
      },
      "source": [
        "humanSerie"
      ],
      "execution_count": null,
      "outputs": []
    },
    {
      "cell_type": "code",
      "metadata": {
        "id": "1hDU3IQj66wS"
      },
      "source": [
        "#Obtenddo valor unico\n",
        "dict['China']"
      ],
      "execution_count": null,
      "outputs": []
    },
    {
      "cell_type": "code",
      "metadata": {
        "id": "OHccQiji7rOv"
      },
      "source": [
        "#Alterando um elemento\n",
        "sttokPricesSeries['GOOG'] =1300.0"
      ],
      "execution_count": null,
      "outputs": []
    },
    {
      "cell_type": "code",
      "metadata": {
        "id": "Gmwr66Ka8k8u"
      },
      "source": [
        "sttokPricesSeries['XPTO']"
      ],
      "execution_count": null,
      "outputs": []
    },
    {
      "cell_type": "code",
      "metadata": {
        "id": "FUV6Kwg-9IbU"
      },
      "source": [
        "sttokPricesSeries.get('XPTO', np.NaN)"
      ],
      "execution_count": null,
      "outputs": []
    },
    {
      "cell_type": "code",
      "metadata": {
        "id": "O9JnySfM9fkS"
      },
      "source": [
        "sttokPricesSeries[sttokPricesSeries > 100]"
      ],
      "execution_count": null,
      "outputs": []
    },
    {
      "cell_type": "code",
      "metadata": {
        "id": "-vueBD6o-Bbq"
      },
      "source": [
        "np.mean(sttokPricesSeries)"
      ],
      "execution_count": null,
      "outputs": []
    },
    {
      "cell_type": "code",
      "metadata": {
        "id": "Zq_6XOU2-HRi"
      },
      "source": [
        "np.std(sttokPricesSeries)"
      ],
      "execution_count": null,
      "outputs": []
    },
    {
      "cell_type": "code",
      "metadata": {
        "id": "QemeIJwrGHXj"
      },
      "source": [
        "!apt update\n",
        "!apt list --update\n"
      ],
      "execution_count": null,
      "outputs": []
    },
    {
      "cell_type": "code",
      "metadata": {
        "id": "2UratxGL_Tz9"
      },
      "source": [
        "\n",
        "!apt-get install openjdk-8-jdk-headless -qq > /dev/null\n",
        "!pip install pyspark"
      ],
      "execution_count": null,
      "outputs": []
    },
    {
      "cell_type": "code",
      "metadata": {
        "id": "I86JOjSm_lxd"
      },
      "source": [
        "import os\n",
        "os.environ[\"JAVA_HOME\"] = \"/usr/lib/jvm/java-8-openjdk-amd64\""
      ],
      "execution_count": null,
      "outputs": []
    },
    {
      "cell_type": "code",
      "metadata": {
        "id": "lW3Xqpax-K1b"
      },
      "source": [
        "#from pyspark.sql import SparkSession\n",
        "spark = SparkSession.builder.master(\"local[*]\").getOrCreate()\n"
      ],
      "execution_count": null,
      "outputs": []
    },
    {
      "cell_type": "code",
      "metadata": {
        "id": "H2KUvCNoBT4o"
      },
      "source": [
        "sc = spark.sparkContext"
      ],
      "execution_count": null,
      "outputs": []
    },
    {
      "cell_type": "code",
      "metadata": {
        "id": "aUOhJgmn_LRm"
      },
      "source": [
        "spark"
      ],
      "execution_count": null,
      "outputs": []
    },
    {
      "cell_type": "code",
      "metadata": {
        "id": "RdGJRLDcAeZk"
      },
      "source": [
        "from google.colab import drive\n",
        "drive.mount('/content/drive')"
      ],
      "execution_count": null,
      "outputs": []
    },
    {
      "cell_type": "code",
      "metadata": {
        "id": "h2RmyadUA8bF"
      },
      "source": [
        "linhaRDD1 = sc.textFile (\"/content/drive/My Drive/Spark_Treinamento/vgsales.csv\")"
      ],
      "execution_count": null,
      "outputs": []
    },
    {
      "cell_type": "code",
      "metadata": {
        "id": "EjVsvKDXBoUs"
      },
      "source": [
        "linhaRDD1.take(5)"
      ],
      "execution_count": null,
      "outputs": []
    },
    {
      "cell_type": "code",
      "metadata": {
        "id": "6vwS5hbYBv-7"
      },
      "source": [
        "#Removendo a primeira linha da transformacao\n",
        "linhardd2 = linhaRDD1.filter(lambda x : \"EU_Sales\" not in x)"
      ],
      "execution_count": null,
      "outputs": []
    },
    {
      "cell_type": "code",
      "metadata": {
        "id": "W4Fynd5JCgY5"
      },
      "source": [
        "linhardd2.take(5)"
      ],
      "execution_count": null,
      "outputs": []
    },
    {
      "cell_type": "code",
      "metadata": {
        "id": "RgNOeXnCCjLK"
      },
      "source": [
        "linhardd2.count()"
      ],
      "execution_count": null,
      "outputs": []
    },
    {
      "cell_type": "code",
      "metadata": {
        "id": "J6JyCTG6Csx6"
      },
      "source": [
        "linhardd3 = linhardd2.map(lambda x: x.split(\",\"))"
      ],
      "execution_count": null,
      "outputs": []
    },
    {
      "cell_type": "code",
      "metadata": {
        "id": "J1GTEyizDpUZ"
      },
      "source": [
        "linhaddr4 = linhardd3.map(lambda x: Row(make = x[0], body = x[4], hp = int(x[7])))"
      ],
      "execution_count": null,
      "outputs": []
    },
    {
      "cell_type": "code",
      "metadata": {
        "id": "sn18TOxxFCwH"
      },
      "source": [
        "df = spark.createDataFrame(linhaddr4)"
      ],
      "execution_count": null,
      "outputs": []
    },
    {
      "cell_type": "code",
      "metadata": {
        "id": "8hT9qsRvFsf-"
      },
      "source": [
        ""
      ],
      "execution_count": null,
      "outputs": []
    }
  ]
}