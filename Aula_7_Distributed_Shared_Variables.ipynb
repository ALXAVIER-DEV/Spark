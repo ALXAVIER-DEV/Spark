{
  "nbformat": 4,
  "nbformat_minor": 0,
  "metadata": {
    "kernelspec": {
      "display_name": "Python 3",
      "language": "python",
      "name": "python3"
    },
    "language_info": {
      "codemirror_mode": {
        "name": "ipython",
        "version": 3
      },
      "file_extension": ".py",
      "mimetype": "text/x-python",
      "name": "python",
      "nbconvert_exporter": "python",
      "pygments_lexer": "ipython3",
      "version": "3.6.9"
    },
    "colab": {
      "name": "Aula 7 - Distributed Shared Variables.ipynb",
      "provenance": [],
      "collapsed_sections": [],
      "toc_visible": true,
      "include_colab_link": true
    }
  },
  "cells": [
    {
      "cell_type": "markdown",
      "metadata": {
        "id": "view-in-github",
        "colab_type": "text"
      },
      "source": [
        "<a href=\"https://colab.research.google.com/github/ALXAVIER-DEV/Spark/blob/master/Aula_7_Distributed_Shared_Variables.ipynb\" target=\"_parent\"><img src=\"https://colab.research.google.com/assets/colab-badge.svg\" alt=\"Open In Colab\"/></a>"
      ]
    },
    {
      "cell_type": "code",
      "metadata": {
        "id": "jks1yfqwCeVe"
      },
      "source": [
        ""
      ],
      "execution_count": null,
      "outputs": []
    },
    {
      "cell_type": "markdown",
      "metadata": {
        "id": "sq8U3BtmhtRx"
      },
      "source": [
        "\n",
        "# **Running Pyspark in Colab**\n",
        "\n",
        "To run spark in Colab, we need to first install all the dependencies in Colab environment i.e. Apache Spark 3.0.1 with hadoop 2.7 and Java 8. The tools installation can be carried out inside the Jupyter Notebook of the Colab. One important note is that if you are new in Spark, it is better to avoid Spark 2.4.0 version since some people have already complained about its compatibility issue with python. \n",
        "Follow the steps to install the dependencies:"
      ]
    },
    {
      "cell_type": "code",
      "metadata": {
        "id": "lh5NCoc8fsSO"
      },
      "source": [
        "!apt-get install openjdk-8-jdk-headless -qq > /dev/null\n",
        "!pip install pyspark"
      ],
      "execution_count": null,
      "outputs": []
    },
    {
      "cell_type": "markdown",
      "metadata": {
        "id": "ILheUROOhprv"
      },
      "source": [
        "Now that you installed Spark and Java in Colab, it is time to set the environment path which enables you to run Pyspark in your Colab environment. Set the location of Java and Spark by running the following code:"
      ]
    },
    {
      "cell_type": "code",
      "metadata": {
        "id": "v1b8k_OVf2QF"
      },
      "source": [
        "import os\n",
        "os.environ[\"JAVA_HOME\"] = \"/usr/lib/jvm/java-8-openjdk-amd64\""
      ],
      "execution_count": null,
      "outputs": []
    },
    {
      "cell_type": "markdown",
      "metadata": {
        "id": "KwrqMk3HiMiE"
      },
      "source": [
        "Run a local spark session to test your installation:"
      ]
    },
    {
      "cell_type": "code",
      "metadata": {
        "id": "9_Uz1NL4gHFx"
      },
      "source": [
        "from pyspark.sql import SparkSession\n",
        "spark = SparkSession.builder.master(\"local[*]\").getOrCreate()"
      ],
      "execution_count": null,
      "outputs": []
    },
    {
      "cell_type": "code",
      "metadata": {
        "id": "14pXEN-M0hfV"
      },
      "source": [
        "spark"
      ],
      "execution_count": null,
      "outputs": []
    },
    {
      "cell_type": "markdown",
      "metadata": {
        "id": "l57w6j1HrcGr"
      },
      "source": [
        "# Reading a CSV from google drive\n",
        "\n",
        "Utilizando o Google Colab, é possível importar os datasets diretamente do Google Drive, sem ter que realizar o upload manual dos mesmos para a instância colab manualmente"
      ]
    },
    {
      "cell_type": "code",
      "metadata": {
        "id": "GyIlwwr7xENz"
      },
      "source": [
        "from google.colab import drive\n",
        "drive.mount('/content/drive')"
      ],
      "execution_count": null,
      "outputs": []
    },
    {
      "cell_type": "code",
      "metadata": {
        "id": "Y4LB-SAxzAFr"
      },
      "source": [
        "spark.read\\\n",
        "  .option(\"inferSchema\", \"true\") \\\n",
        "  .option(\"header\", \"true\") \\\n",
        "  .option(\"delimiter\", \",\") \\\n",
        "  .csv(\"drive/My\\ Drive/My\\ Professional\\ Carrer/Spark\\ course/virtual_classroom/colab_test/test.csv\") \\\n",
        "  .show()"
      ],
      "execution_count": null,
      "outputs": []
    },
    {
      "cell_type": "markdown",
      "metadata": {
        "id": "E5fc4ObMCbK-"
      },
      "source": [
        "# Distributed Shared Variables\n",
        "Além dos RDDs, as APIs low-level do Spark fornecem operações para trabalhar com variáveis distribuídas e compartilhadas ao longo do cluster. São elas\n",
        "1. Broadcast variables\n",
        "2. Accumulators\n",
        "\n",
        "### Broadcast variables\n",
        "As Broadcast variables podem ser entendidas da seguinte forma:\n",
        "\n",
        "![bv.png](data:image/png;base64,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)\n",
        "\n",
        "Basicamente, uma varíavel de broadcast é criada no Driver da aplicação e depois armazenada em cada executor. Esse recurso é útil quando se tem a necessidade de passar um parâmetro grande (um grande dicionário em Python ou um modelo de Machine Learning) dentro de funções utilizadas em `UDFs` ou operações do tipo `map`. A principal vantagem é:\n",
        "\n",
        "- Utilizando as Broadcast variables, não é necessário reenviar a mesma estrutura de dados a cada job para os executores porque isso implica em **serializar/deserializar** aquela estrutura repetidamente\n",
        "\n",
        "Obs.: As Broadcast Variables só são de fato distribuídas ao longo dos executores quando ocorre uma ação devido ao conceito de *Lazy Evaluation*\n",
        "\n",
        "##### Criando um RDD simples"
      ]
    },
    {
      "cell_type": "code",
      "metadata": {
        "id": "y3LCby_9sWq6"
      },
      "source": [
        "sc = spark.sparkContext"
      ],
      "execution_count": null,
      "outputs": []
    },
    {
      "cell_type": "code",
      "metadata": {
        "id": "_c7y23-ACbK_"
      },
      "source": [
        "my_collection = \"Spark The Definitive Guide : Big Data Processing Made Simple\".split(\" \")\n",
        "words = spark.sparkContext.parallelize(my_collection, 2)"
      ],
      "execution_count": null,
      "outputs": []
    },
    {
      "cell_type": "code",
      "metadata": {
        "id": "BsP_GYnAsElM"
      },
      "source": [
        "words.take(10)"
      ],
      "execution_count": null,
      "outputs": []
    },
    {
      "cell_type": "markdown",
      "metadata": {
        "id": "-B6x_nPCCbLD"
      },
      "source": [
        "##### Definindo a estrutura a ser mantida como Broadcast Variable"
      ]
    },
    {
      "cell_type": "code",
      "metadata": {
        "id": "k56TYzYPCbLE"
      },
      "source": [
        "supplemental_data = {\"Spark\":1000, \"Definitive\":200, \"Big\":-300, \"Simple\":100}"
      ],
      "execution_count": null,
      "outputs": []
    },
    {
      "cell_type": "code",
      "metadata": {
        "id": "VOp2IFvNtDZy"
      },
      "source": [
        "supplemental_data.get(\"Igor\", 0)"
      ],
      "execution_count": null,
      "outputs": []
    },
    {
      "cell_type": "markdown",
      "metadata": {
        "id": "0ob9QjImCbLG"
      },
      "source": [
        "##### Criando a Broadcast Variable"
      ]
    },
    {
      "cell_type": "code",
      "metadata": {
        "id": "0n9zc4F-CbLH"
      },
      "source": [
        "supp_broadcast = sc.broadcast(supplemental_data)"
      ],
      "execution_count": null,
      "outputs": []
    },
    {
      "cell_type": "code",
      "metadata": {
        "id": "tJTO4PWUuN5S"
      },
      "source": [
        "supp_broadcast.value[\"Guide\"] = 50"
      ],
      "execution_count": null,
      "outputs": []
    },
    {
      "cell_type": "code",
      "metadata": {
        "id": "Lsl8-Xwb2Lmc",
        "outputId": "86481555-b26d-470c-e746-e69b27e9a44d",
        "colab": {
          "base_uri": "https://localhost:8080/"
        }
      },
      "source": [
        "supp_broadcast.value"
      ],
      "execution_count": null,
      "outputs": [
        {
          "output_type": "execute_result",
          "data": {
            "text/plain": [
              "{'Big': -300,\n",
              " 'Definitive': 200,\n",
              " 'Guide': 50,\n",
              " 'Igor': 10,\n",
              " 'Simple': 100,\n",
              " 'Spark': 1000}"
            ]
          },
          "metadata": {
            "tags": []
          },
          "execution_count": 64
        }
      ]
    },
    {
      "cell_type": "markdown",
      "metadata": {
        "id": "Ubc1db2yCbLJ"
      },
      "source": [
        "##### Usando a Broadcast Variable"
      ]
    },
    {
      "cell_type": "code",
      "metadata": {
        "id": "FH1TIDhGCbLJ",
        "outputId": "3787f939-c7e3-47b6-b793-3adf8add1f2d",
        "colab": {
          "base_uri": "https://localhost:8080/"
        }
      },
      "source": [
        "words \\\n",
        "    .map(lambda word: (word, supp_broadcast.value.get(word, 0)))\\\n",
        "    .sortBy(lambda wordPair: wordPair[1])\\\n",
        "    .collect()"
      ],
      "execution_count": null,
      "outputs": [
        {
          "output_type": "execute_result",
          "data": {
            "text/plain": [
              "[('Big', -300),\n",
              " ('The', 0),\n",
              " ('Guide', 0),\n",
              " (':', 0),\n",
              " ('Data', 0),\n",
              " ('Processing', 0),\n",
              " ('Made', 0),\n",
              " ('Simple', 100),\n",
              " ('Definitive', 200),\n",
              " ('Spark', 1000)]"
            ]
          },
          "metadata": {
            "tags": []
          },
          "execution_count": 63
        }
      ]
    },
    {
      "cell_type": "markdown",
      "metadata": {
        "id": "hl_EFe8bCbLM"
      },
      "source": [
        "### Accumulators\n",
        "Os Accumlators podem ser entendidos da seguinte forma:\n",
        "\n",
        "![av.png](data:image/png;base64,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)\n",
        "\n",
        "Os Accumulators são uma forma segura e eficiente de atualizar uma um valor ao longo de transformações e propagar esse valor para o Driver da aplicação. O Spark suporta nativamente acumuladores numéricos em que é possível contar ou somar valores\n",
        "\n",
        "Obs.: Os Accumulators só são de fato executados quando ocorre uma ação devido ao conceito de *Lazy Evaluation*.\n",
        "\n",
        "##### Criando o Accumulator\n",
        "O acumulador irá contar a quantidade de linhas que contém a Platform \"Wii\" "
      ]
    },
    {
      "cell_type": "code",
      "metadata": {
        "id": "HEeC1yj3CbLN",
        "outputId": "872f9a69-1416-4b9b-a022-0f0c9a329c6c",
        "colab": {
          "base_uri": "https://localhost:8080/"
        }
      },
      "source": [
        "acc_wii = sc.accumulator(0)\n",
        "acc_wii"
      ],
      "execution_count": null,
      "outputs": [
        {
          "output_type": "execute_result",
          "data": {
            "text/plain": [
              "Accumulator<id=5, value=0>"
            ]
          },
          "metadata": {
            "tags": []
          },
          "execution_count": 52
        }
      ]
    },
    {
      "cell_type": "markdown",
      "metadata": {
        "id": "hL0b4ZXMCbLP"
      },
      "source": [
        "##### Carregando o dataset em um Dataframe"
      ]
    },
    {
      "cell_type": "code",
      "metadata": {
        "id": "NHRr5kKtCbLQ"
      },
      "source": [
        "data_dir = \"vgsales.csv\"\n",
        "\n",
        "df = spark.read.load(data_dir, format=\"csv\", inferSchema=\"true\", header=\"true\")"
      ],
      "execution_count": null,
      "outputs": []
    },
    {
      "cell_type": "code",
      "metadata": {
        "id": "I5jel9ZUvvV4",
        "outputId": "6922cc22-4ec0-44f7-d3ec-a401aaef37f4",
        "colab": {
          "base_uri": "https://localhost:8080/"
        }
      },
      "source": [
        "df.show()"
      ],
      "execution_count": null,
      "outputs": [
        {
          "output_type": "stream",
          "text": [
            "+----+--------------------+--------+----+------------+--------------------+--------+--------+--------+-----------+------------+\n",
            "|Rank|                Name|Platform|Year|       Genre|           Publisher|NA_Sales|EU_Sales|JP_Sales|Other_Sales|Global_Sales|\n",
            "+----+--------------------+--------+----+------------+--------------------+--------+--------+--------+-----------+------------+\n",
            "|   1|          Wii Sports|     Wii|2006|      Sports|            Nintendo|   41.49|   29.02|    3.77|       8.46|       82.74|\n",
            "|   2|   Super Mario Bros.|     NES|1985|    Platform|            Nintendo|   29.08|    3.58|    6.81|       0.77|       40.24|\n",
            "|   3|      Mario Kart Wii|     Wii|2008|      Racing|            Nintendo|   15.85|   12.88|    3.79|       3.31|       35.82|\n",
            "|   4|   Wii Sports Resort|     Wii|2009|      Sports|            Nintendo|   15.75|   11.01|    3.28|       2.96|        33.0|\n",
            "|   5|Pokemon Red/Pokem...|      GB|1996|Role-Playing|            Nintendo|   11.27|    8.89|   10.22|        1.0|       31.37|\n",
            "|   6|              Tetris|      GB|1989|      Puzzle|            Nintendo|    23.2|    2.26|    4.22|       0.58|       30.26|\n",
            "|   7|New Super Mario B...|      DS|2006|    Platform|            Nintendo|   11.38|    9.23|     6.5|        2.9|       30.01|\n",
            "|   8|            Wii Play|     Wii|2006|        Misc|            Nintendo|   14.03|     9.2|    2.93|       2.85|       29.02|\n",
            "|   9|New Super Mario B...|     Wii|2009|    Platform|            Nintendo|   14.59|    7.06|     4.7|       2.26|       28.62|\n",
            "|  10|           Duck Hunt|     NES|1984|     Shooter|            Nintendo|   26.93|    0.63|    0.28|       0.47|       28.31|\n",
            "|  11|          Nintendogs|      DS|2005|  Simulation|            Nintendo|    9.07|    11.0|    1.93|       2.75|       24.76|\n",
            "|  12|       Mario Kart DS|      DS|2005|      Racing|            Nintendo|    9.81|    7.57|    4.13|       1.92|       23.42|\n",
            "|  13|Pokemon Gold/Poke...|      GB|1999|Role-Playing|            Nintendo|     9.0|    6.18|     7.2|       0.71|        23.1|\n",
            "|  14|             Wii Fit|     Wii|2007|      Sports|            Nintendo|    8.94|    8.03|     3.6|       2.15|       22.72|\n",
            "|  15|        Wii Fit Plus|     Wii|2009|      Sports|            Nintendo|    9.09|    8.59|    2.53|       1.79|        22.0|\n",
            "|  16|  Kinect Adventures!|    X360|2010|        Misc|Microsoft Game St...|   14.97|    4.94|    0.24|       1.67|       21.82|\n",
            "|  17|  Grand Theft Auto V|     PS3|2013|      Action|Take-Two Interactive|    7.01|    9.27|    0.97|       4.14|        21.4|\n",
            "|  18|Grand Theft Auto:...|     PS2|2004|      Action|Take-Two Interactive|    9.43|     0.4|    0.41|      10.57|       20.81|\n",
            "|  19|   Super Mario World|    SNES|1990|    Platform|            Nintendo|   12.78|    3.75|    3.54|       0.55|       20.61|\n",
            "|  20|Brain Age: Train ...|      DS|2005|        Misc|            Nintendo|    4.75|    9.26|    4.16|       2.05|       20.22|\n",
            "+----+--------------------+--------+----+------------+--------------------+--------+--------+--------+-----------+------------+\n",
            "only showing top 20 rows\n",
            "\n"
          ],
          "name": "stdout"
        }
      ]
    },
    {
      "cell_type": "markdown",
      "metadata": {
        "id": "Za3gtDnjCbLT"
      },
      "source": [
        "##### Definindo a função para incrementar o acumulador"
      ]
    },
    {
      "cell_type": "code",
      "metadata": {
        "id": "AEA3UOuvCbLT"
      },
      "source": [
        "def acc_wii_platform(row):\n",
        "  platform = row[\"Platform\"]\n",
        "  if platform == \"Wii\":\n",
        "    acc_wii.add(1)"
      ],
      "execution_count": null,
      "outputs": []
    },
    {
      "cell_type": "markdown",
      "metadata": {
        "id": "0DHFqCVuCbLW"
      },
      "source": [
        "##### Usando o acumulador"
      ]
    },
    {
      "cell_type": "code",
      "metadata": {
        "id": "HRMaYLccwKF4",
        "outputId": "277952cc-7209-4327-b233-0ae14d96ad80",
        "colab": {
          "base_uri": "https://localhost:8080/"
        }
      },
      "source": [
        "rdd2 = df.rdd.map(lambda row: acc_wii_platform(row))\n",
        "a = rdd2.collect()"
      ],
      "execution_count": null,
      "outputs": [
        {
          "output_type": "execute_result",
          "data": {
            "text/plain": [
              "[None, None, None, None, None, None, None, None, None, None]"
            ]
          },
          "metadata": {
            "tags": []
          },
          "execution_count": 54
        }
      ]
    },
    {
      "cell_type": "code",
      "metadata": {
        "id": "jDHeQOH5CbLW"
      },
      "source": [
        "df.foreach(lambda row: acc_wii_platform(row))"
      ],
      "execution_count": null,
      "outputs": []
    },
    {
      "cell_type": "code",
      "metadata": {
        "id": "OmsL3QPCCbLZ",
        "outputId": "50f2106b-a22d-4ae3-9e33-b427c4b47f94",
        "colab": {
          "base_uri": "https://localhost:8080/"
        }
      },
      "source": [
        "acc_wii.value"
      ],
      "execution_count": null,
      "outputs": [
        {
          "output_type": "execute_result",
          "data": {
            "text/plain": [
              "1330"
            ]
          },
          "metadata": {
            "tags": []
          },
          "execution_count": 55
        }
      ]
    },
    {
      "cell_type": "code",
      "metadata": {
        "id": "RXPxy9Y6wURa",
        "outputId": "a2e9651e-8777-4437-b9db-0fdb50344f85",
        "colab": {
          "base_uri": "https://localhost:8080/",
          "height": 35
        }
      },
      "source": [
        ""
      ],
      "execution_count": null,
      "outputs": [
        {
          "output_type": "execute_result",
          "data": {
            "application/vnd.google.colaboratory.intrinsic+json": {
              "type": "string"
            },
            "text/plain": [
              "'http://3dce5fcc641e:4040'"
            ]
          },
          "metadata": {
            "tags": []
          },
          "execution_count": 56
        }
      ]
    },
    {
      "cell_type": "markdown",
      "metadata": {
        "id": "NloS2Tepyk9d"
      },
      "source": [
        "# Exercícios \n",
        "\n",
        "Utilize o RDD abaixo para realizar as questões\n",
        "\n",
        "1) Realize o output do RDD em uma partição no formato de texto."
      ]
    },
    {
      "cell_type": "code",
      "metadata": {
        "id": "C0qcC8dxymhJ"
      },
      "source": [
        "text = \"At a high level, every Spark application consists of a driver program that runs the user’s main function and executes various parallel operations on a cluster. The main abstraction Spark provides is a resilient distributed dataset (RDD), which is a collection of elements partitioned across the nodes of the cluster that can be operated on in parallel. RDDs are created by starting with a file in the Hadoop file system (or any other Hadoop-supported file system), or an existing Scala collection in the driver program, and transforming it. Users may also ask Spark to persist an RDD in memory, allowing it to be reused efficiently across parallel operations. Finally, RDDs automatically recover from node failures. A second abstraction in Spark is shared variables that can be used in parallel operations. By default, when Spark runs a function in parallel as a set of tasks on different nodes, it ships a copy of each variable used in the function to each task. Sometimes, a variable needs to be shared across tasks, or between tasks and the driver program. Spark supports two types of shared variables: broadcast variables, which can be used to cache a value in memory on all nodes, and accumulators, which are variables that are only added to, such as counters and sums\"\n",
        "words = text.split(\" \")"
      ],
      "execution_count": null,
      "outputs": []
    },
    {
      "cell_type": "code",
      "metadata": {
        "id": "nFWI32SHzDV8"
      },
      "source": [
        "rdd = sc.parallelize(words)\n",
        "\n",
        "rdd.coalesce(1) \\\n",
        "    .saveAsTextFile(\"./output/words\")"
      ],
      "execution_count": null,
      "outputs": []
    },
    {
      "cell_type": "markdown",
      "metadata": {
        "id": "COYc7LINzEGK"
      },
      "source": [
        "2) Utilizando o dicionário de pesos abaixo:"
      ]
    },
    {
      "cell_type": "code",
      "metadata": {
        "id": "pyvtwkjvzI9u"
      },
      "source": [
        "weights_words = {\n",
        "    \"spark\": 1000,\n",
        "    \"parallel\": 500,\n",
        "    \"function\": 300,\n",
        "    \"driver\": 400\n",
        "}"
      ],
      "execution_count": null,
      "outputs": []
    },
    {
      "cell_type": "markdown",
      "metadata": {
        "id": "IwDt9PklzKK9"
      },
      "source": [
        "Escreva um RDD que mostre a palavra, a quantidade de vezes que aquela palavra se repete e o peso dela, dado o RDD de pesos acima (utilizando o conceito de broadcast variable). O que não der match com as chaves disponíveis, atribua o valor -1:"
      ]
    },
    {
      "cell_type": "code",
      "metadata": {
        "id": "9KWh2tD7zUIk",
        "outputId": "f6c886fd-a277-49f3-c240-e814b97377ab",
        "colab": {
          "base_uri": "https://localhost:8080/"
        }
      },
      "source": [
        "weights_words = {\n",
        "    \"spark\": 1000,\n",
        "    \"parallel\": 500,\n",
        "    \"function\": 300,\n",
        "    \"driver\": 400\n",
        "}\n",
        "\n",
        "rdd = sc.parallelize(words)\n",
        "\n",
        "# definindo a variável de broadcast\n",
        "weights_broadcast = sc.broadcast(weights_words)\n",
        "\n",
        "def generate_rdd2(value):\n",
        "  return \n",
        "\n",
        "word_count = rdd \\\n",
        "  .map(lambda line: (line.lower(), 1)) \\\n",
        "  .reduceByKey(lambda left_value, right_value: left_value + right_value) \\\n",
        "  .sortBy(lambda line: line[1] * -1)\n",
        "\n",
        "word_count.take(10)"
      ],
      "execution_count": null,
      "outputs": [
        {
          "output_type": "execute_result",
          "data": {
            "text/plain": [
              "[('a', 12),\n",
              " ('in', 9),\n",
              " ('the', 8),\n",
              " ('of', 6),\n",
              " ('spark', 6),\n",
              " ('and', 5),\n",
              " ('be', 5),\n",
              " ('to', 5),\n",
              " ('parallel', 4),\n",
              " ('that', 4)]"
            ]
          },
          "metadata": {
            "tags": []
          },
          "execution_count": 80
        }
      ]
    },
    {
      "cell_type": "markdown",
      "metadata": {
        "id": "5dFlIGfGzVEE"
      },
      "source": [
        "3) Escreva um código que conte a quantidade de linhas totais no RDD utilizando os accumulators"
      ]
    },
    {
      "cell_type": "code",
      "metadata": {
        "id": "5xkz4MMVzg_N"
      },
      "source": [
        "# rdd"
      ],
      "execution_count": null,
      "outputs": []
    }
  ]
}