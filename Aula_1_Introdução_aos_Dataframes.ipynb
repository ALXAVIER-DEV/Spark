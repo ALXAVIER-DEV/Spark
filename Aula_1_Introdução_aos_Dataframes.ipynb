{
  "nbformat": 4,
  "nbformat_minor": 0,
  "metadata": {
    "colab": {
      "name": "Aula 1 - Introdução aos Dataframes",
      "provenance": [],
      "collapsed_sections": [],
      "toc_visible": true,
      "include_colab_link": true
    },
    "kernelspec": {
      "name": "python3",
      "display_name": "Python 3"
    }
  },
  "cells": [
    {
      "cell_type": "markdown",
      "metadata": {
        "id": "view-in-github",
        "colab_type": "text"
      },
      "source": [
        "<a href=\"https://colab.research.google.com/github/ALXAVIER-DEV/Spark/blob/master/Aula_1_Introdu%C3%A7%C3%A3o_aos_Dataframes.ipynb\" target=\"_parent\"><img src=\"https://colab.research.google.com/assets/colab-badge.svg\" alt=\"Open In Colab\"/></a>"
      ]
    },
    {
      "cell_type": "markdown",
      "metadata": {
        "id": "sq8U3BtmhtRx"
      },
      "source": [
        "\n",
        "# **Running Pyspark in Colab**\n",
        "\n",
        "To run spark in Colab, we need to first install all the dependencies in Colab environment i.e. Apache Spark 3.0.1 with hadoop 2.7 and Java 8. The tools installation can be carried out inside the Jupyter Notebook of the Colab. One important note is that if you are new in Spark, it is better to avoid Spark 2.4.0 version since some people have already complained about its compatibility issue with python. \n",
        "Follow the steps to install the dependencies:"
      ]
    },
    {
      "cell_type": "code",
      "metadata": {
        "id": "lh5NCoc8fsSO"
      },
      "source": [
        "!apt-get install openjdk-8-jdk-headless -qq > /dev/null\n",
        "!pip install pyspark"
      ],
      "execution_count": null,
      "outputs": []
    },
    {
      "cell_type": "markdown",
      "metadata": {
        "id": "ILheUROOhprv"
      },
      "source": [
        "Now that you installed Spark and Java in Colab, it is time to set the environment path which enables you to run Pyspark in your Colab environment. Set the location of Java and Spark by running the following code:"
      ]
    },
    {
      "cell_type": "code",
      "metadata": {
        "id": "v1b8k_OVf2QF"
      },
      "source": [
        "import os\n",
        "os.environ[\"JAVA_HOME\"] = \"/usr/lib/jvm/java-8-openjdk-amd64\""
      ],
      "execution_count": null,
      "outputs": []
    },
    {
      "cell_type": "markdown",
      "metadata": {
        "id": "KwrqMk3HiMiE"
      },
      "source": [
        "Run a local spark session to test your installation:"
      ]
    },
    {
      "cell_type": "code",
      "metadata": {
        "id": "9_Uz1NL4gHFx"
      },
      "source": [
        "from pyspark.sql import SparkSession\n",
        "spark = SparkSession.builder.master(\"local[*]\").getOrCreate()"
      ],
      "execution_count": null,
      "outputs": []
    },
    {
      "cell_type": "code",
      "metadata": {
        "id": "14pXEN-M0hfV"
      },
      "source": [
        "spark"
      ],
      "execution_count": null,
      "outputs": []
    },
    {
      "cell_type": "markdown",
      "metadata": {
        "id": "l57w6j1HrcGr"
      },
      "source": [
        "# Reading a CSV from google drive\n",
        "\n",
        "Utilizando o Google Colab, é possível importar os datasets diretamente do Google Drive, sem ter que realizar o upload manual dos mesmos para a instância colab manualmente"
      ]
    },
    {
      "cell_type": "code",
      "metadata": {
        "id": "GyIlwwr7xENz",
        "outputId": "9caecb4b-87fd-40ab-a342-1d7231ece486",
        "colab": {
          "base_uri": "https://localhost:8080/"
        }
      },
      "source": [
        "from google.colab import drive\n",
        "drive.mount('/content/drive')"
      ],
      "execution_count": null,
      "outputs": [
        {
          "output_type": "stream",
          "text": [
            "Mounted at /content/drive\n"
          ],
          "name": "stdout"
        }
      ]
    },
    {
      "cell_type": "code",
      "metadata": {
        "id": "Y4LB-SAxzAFr"
      },
      "source": [
        "spark.read\\\n",
        "  .option(\"inferSchema\", \"true\") \\\n",
        "  .option(\"header\", \"true\") \\\n",
        "  .option(\"delimiter\", \",\") \\\n",
        "  .csv(\"drive/My\\ Drive/My\\ Professional\\ Carrer/Spark\\ course/virtual_classroom/colab_test/test.csv\") \\\n",
        "  .show()"
      ],
      "execution_count": null,
      "outputs": []
    },
    {
      "cell_type": "markdown",
      "metadata": {
        "id": "UAHex7p4tN3S"
      },
      "source": [
        "# Introdução aos Dataframes\n",
        "Nessa aula, daremos uma breve explicação do que vêm a ser **Dataframes** no âmbito do Apache Spark e como eles podem ser muito úteis na construção de aplicações escaláveis. Construiremos um dataframe baseado em um arquivo .csv de testes."
      ]
    },
    {
      "cell_type": "markdown",
      "metadata": {
        "id": "V8il--iNtX9m"
      },
      "source": [
        "### Overwiew de uma aplicação Spark\n",
        "Relembrando o conceito de uma aplicação Spark submetida a um cluster\n",
        "![Spark](https://spark.apache.org/docs/latest/img/cluster-overview.png)\n",
        "*Fonte: https://spark.apache.org/docs/latest/cluster-overview.html*\n",
        "\n",
        "Podemos ver aqui dois processos principais:\n",
        "\n",
        "- Executors: processo responsável por realizar a computação bruta dos dados, de forma paralela, ou seja, cada executor em um cluster irá processar uma parte dos dados.\n",
        "- Driver: processo responsável por coordenar a aplicação e enviar instrução de processamento (transformações) para os executores e receber os resultados das ações. **Códigos não paralelizáveis (códigos que não usufruem dos Dataframes ou RDDs), consumirão poder de processamento e memória do processo Driver**. Exemplo: Pandas"
      ]
    },
    {
      "cell_type": "markdown",
      "metadata": {
        "id": "HPY5ii3otyNy"
      },
      "source": [
        "### SparkSession\n",
        "O `SparkSession` é o objeto responsável por criar Dataframes, ou seja, estrutura de dados paralelizáveis semelhante aos dataframes do framework `pandas` e da linguagem `R`. Em modos interativos, como é o caso do CLI pyspark, o objeto `SparkSession` já vem previamente instânciado, permitindo ao usuário, o uso imediato. Para checar, basta rodar o comando abaixo:\n"
      ]
    },
    {
      "cell_type": "code",
      "metadata": {
        "id": "JEKH_w-Nt8VX"
      },
      "source": [
        "spark"
      ],
      "execution_count": null,
      "outputs": []
    },
    {
      "cell_type": "markdown",
      "metadata": {
        "id": "HMGZKD5wuGDO"
      },
      "source": [
        "### Criando um Spark Dataframe a partir de um array de dicionários"
      ]
    },
    {
      "cell_type": "code",
      "metadata": {
        "id": "wgsTnnsNuHSB"
      },
      "source": [
        "data_dict = [{\n",
        "    \"nome\":\"Jose\",\n",
        "    \"idade\": 52,\n",
        "    \"profissao\": \"Advogado\"\n",
        "},{\n",
        "    \"nome\":\"Maria\",\n",
        "    \"idade\": 35,\n",
        "    \"profissao\": \"Médico\"\n",
        "},{\n",
        "    \"nome\":\"Pedro\",\n",
        "    \"idade\": 25,\n",
        "    \"profissao\": \"Estudante\"\n",
        "}]\n",
        "\n",
        "data_dict"
      ],
      "execution_count": null,
      "outputs": []
    },
    {
      "cell_type": "markdown",
      "metadata": {
        "id": "ektKnduIuOj-"
      },
      "source": [
        "Método do SparkSession, createDataFrame responsável por criar o DataFrame\n"
      ]
    },
    {
      "cell_type": "code",
      "metadata": {
        "id": "QuIH7pyfuRPE"
      },
      "source": [
        "df = spark.createDataFrame(data_dict)"
      ],
      "execution_count": null,
      "outputs": []
    },
    {
      "cell_type": "markdown",
      "metadata": {
        "id": "efRgTRMsuUFu"
      },
      "source": [
        "Método show() responsável por exibir o DataFrame"
      ]
    },
    {
      "cell_type": "code",
      "metadata": {
        "id": "9_mqQR85uWBX",
        "outputId": "fa119226-5c9b-421b-a4d1-5e096b116d51",
        "colab": {
          "base_uri": "https://localhost:8080/"
        }
      },
      "source": [
        "df.show()"
      ],
      "execution_count": null,
      "outputs": [
        {
          "output_type": "stream",
          "text": [
            "+-----+-----+---------+\n",
            "|idade| nome|profissao|\n",
            "+-----+-----+---------+\n",
            "|   52| Jose| Advogado|\n",
            "|   35|Maria|   Médico|\n",
            "|   25|Pedro|Estudante|\n",
            "+-----+-----+---------+\n",
            "\n"
          ],
          "name": "stdout"
        }
      ]
    },
    {
      "cell_type": "markdown",
      "metadata": {
        "id": "8FjbbnKOuY7W"
      },
      "source": [
        "Printando o schema do DataFrame"
      ]
    },
    {
      "cell_type": "code",
      "metadata": {
        "id": "ILRYc3gVuaNm",
        "outputId": "2a966295-dfb4-46de-b11b-a76f874b63b7",
        "colab": {
          "base_uri": "https://localhost:8080/"
        }
      },
      "source": [
        "df.printSchema()"
      ],
      "execution_count": null,
      "outputs": [
        {
          "output_type": "stream",
          "text": [
            "root\n",
            " |-- idade: long (nullable = true)\n",
            " |-- nome: string (nullable = true)\n",
            " |-- profissao: string (nullable = true)\n",
            "\n"
          ],
          "name": "stdout"
        }
      ]
    },
    {
      "cell_type": "markdown",
      "metadata": {
        "id": "x2tB7w5HvKyC"
      },
      "source": [
        "## Criando um dataframe a partir de um arquivo CSV\n",
        "\n",
        "Utilizaremos um dataset que contém algumas das vendas de jogos para consoles. O mesmo se encontra em https://www.kaggle.com/gregorut/videogamesales/data.\n",
        "\n",
        "Obs.: é necessário criar uma conta no Kaggle para isso.\n",
        "\n",
        "Realizado o download, importe-o para dentro do armazenamento no seu notebook. Todos os arquivos de dados dentro de uma seção irão ser removidos após a finalização da mesma. Caso deseje salvar permanentemente os arquivos de dados, utilize a opção de importar do Google Drive (seção \"Reading a CSV from google drive\")."
      ]
    },
    {
      "cell_type": "code",
      "metadata": {
        "id": "kHZE4vxKw5K-"
      },
      "source": [
        "data_dir = \"vgsales.csv\""
      ],
      "execution_count": null,
      "outputs": []
    },
    {
      "cell_type": "markdown",
      "metadata": {
        "id": "HQ5wMnpQxi7j"
      },
      "source": [
        "### Sem inferência de schema\n"
      ]
    },
    {
      "cell_type": "code",
      "metadata": {
        "id": "4WNgkEySxmNX"
      },
      "source": [
        "df = spark.read.load(data_dir, format=\"csv\", header=\"true\")"
      ],
      "execution_count": null,
      "outputs": []
    },
    {
      "cell_type": "markdown",
      "metadata": {
        "id": "v8a7JCR6x5fc"
      },
      "source": [
        "Visualizando o Dataframe Lido"
      ]
    },
    {
      "cell_type": "code",
      "metadata": {
        "id": "iXgolm7wx8Cr",
        "outputId": "fefe2c85-28ca-4b02-a088-c16e4d0ea4b8",
        "colab": {
          "base_uri": "https://localhost:8080/"
        }
      },
      "source": [
        "df.show()"
      ],
      "execution_count": null,
      "outputs": [
        {
          "output_type": "stream",
          "text": [
            "+----+--------------------+--------+----+------------+--------------------+--------+--------+--------+-----------+------------+\n",
            "|Rank|                Name|Platform|Year|       Genre|           Publisher|NA_Sales|EU_Sales|JP_Sales|Other_Sales|Global_Sales|\n",
            "+----+--------------------+--------+----+------------+--------------------+--------+--------+--------+-----------+------------+\n",
            "|   1|          Wii Sports|     Wii|2006|      Sports|            Nintendo|   41.49|   29.02|    3.77|       8.46|       82.74|\n",
            "|   2|   Super Mario Bros.|     NES|1985|    Platform|            Nintendo|   29.08|    3.58|    6.81|       0.77|       40.24|\n",
            "|   3|      Mario Kart Wii|     Wii|2008|      Racing|            Nintendo|   15.85|   12.88|    3.79|       3.31|       35.82|\n",
            "|   4|   Wii Sports Resort|     Wii|2009|      Sports|            Nintendo|   15.75|   11.01|    3.28|       2.96|          33|\n",
            "|   5|Pokemon Red/Pokem...|      GB|1996|Role-Playing|            Nintendo|   11.27|    8.89|   10.22|          1|       31.37|\n",
            "|   6|              Tetris|      GB|1989|      Puzzle|            Nintendo|    23.2|    2.26|    4.22|       0.58|       30.26|\n",
            "|   7|New Super Mario B...|      DS|2006|    Platform|            Nintendo|   11.38|    9.23|     6.5|        2.9|       30.01|\n",
            "|   8|            Wii Play|     Wii|2006|        Misc|            Nintendo|   14.03|     9.2|    2.93|       2.85|       29.02|\n",
            "|   9|New Super Mario B...|     Wii|2009|    Platform|            Nintendo|   14.59|    7.06|     4.7|       2.26|       28.62|\n",
            "|  10|           Duck Hunt|     NES|1984|     Shooter|            Nintendo|   26.93|    0.63|    0.28|       0.47|       28.31|\n",
            "|  11|          Nintendogs|      DS|2005|  Simulation|            Nintendo|    9.07|      11|    1.93|       2.75|       24.76|\n",
            "|  12|       Mario Kart DS|      DS|2005|      Racing|            Nintendo|    9.81|    7.57|    4.13|       1.92|       23.42|\n",
            "|  13|Pokemon Gold/Poke...|      GB|1999|Role-Playing|            Nintendo|       9|    6.18|     7.2|       0.71|        23.1|\n",
            "|  14|             Wii Fit|     Wii|2007|      Sports|            Nintendo|    8.94|    8.03|     3.6|       2.15|       22.72|\n",
            "|  15|        Wii Fit Plus|     Wii|2009|      Sports|            Nintendo|    9.09|    8.59|    2.53|       1.79|          22|\n",
            "|  16|  Kinect Adventures!|    X360|2010|        Misc|Microsoft Game St...|   14.97|    4.94|    0.24|       1.67|       21.82|\n",
            "|  17|  Grand Theft Auto V|     PS3|2013|      Action|Take-Two Interactive|    7.01|    9.27|    0.97|       4.14|        21.4|\n",
            "|  18|Grand Theft Auto:...|     PS2|2004|      Action|Take-Two Interactive|    9.43|     0.4|    0.41|      10.57|       20.81|\n",
            "|  19|   Super Mario World|    SNES|1990|    Platform|            Nintendo|   12.78|    3.75|    3.54|       0.55|       20.61|\n",
            "|  20|Brain Age: Train ...|      DS|2005|        Misc|            Nintendo|    4.75|    9.26|    4.16|       2.05|       20.22|\n",
            "+----+--------------------+--------+----+------------+--------------------+--------+--------+--------+-----------+------------+\n",
            "only showing top 20 rows\n",
            "\n"
          ],
          "name": "stdout"
        }
      ]
    },
    {
      "cell_type": "markdown",
      "metadata": {
        "id": "ZgRNhzXpxxdb"
      },
      "source": [
        "Visualizando o Schema"
      ]
    },
    {
      "cell_type": "code",
      "metadata": {
        "id": "W0FlrcGLxzRK",
        "outputId": "494a15b1-742b-4a08-a9ce-d2784c856d92",
        "colab": {
          "base_uri": "https://localhost:8080/"
        }
      },
      "source": [
        "df.printSchema()"
      ],
      "execution_count": null,
      "outputs": [
        {
          "output_type": "stream",
          "text": [
            "root\n",
            " |-- Rank: string (nullable = true)\n",
            " |-- Name: string (nullable = true)\n",
            " |-- Platform: string (nullable = true)\n",
            " |-- Year: string (nullable = true)\n",
            " |-- Genre: string (nullable = true)\n",
            " |-- Publisher: string (nullable = true)\n",
            " |-- NA_Sales: string (nullable = true)\n",
            " |-- EU_Sales: string (nullable = true)\n",
            " |-- JP_Sales: string (nullable = true)\n",
            " |-- Other_Sales: string (nullable = true)\n",
            " |-- Global_Sales: string (nullable = true)\n",
            "\n"
          ],
          "name": "stdout"
        }
      ]
    },
    {
      "cell_type": "markdown",
      "metadata": {
        "id": "SLNtwRE6yBZ7"
      },
      "source": [
        "### Usando a opção para inferir o schema dos dados automaticamente"
      ]
    },
    {
      "cell_type": "code",
      "metadata": {
        "id": "wQATIFf9yC-a"
      },
      "source": [
        "df = spark.read.load(data_dir, format=\"csv\", inferSchema=\"true\", header=\"true\")"
      ],
      "execution_count": null,
      "outputs": []
    },
    {
      "cell_type": "code",
      "metadata": {
        "id": "yU4vw4rHyHJb",
        "outputId": "20870df3-963e-4315-8637-2cb02920d988",
        "colab": {
          "base_uri": "https://localhost:8080/"
        }
      },
      "source": [
        "df.printSchema()"
      ],
      "execution_count": null,
      "outputs": [
        {
          "output_type": "stream",
          "text": [
            "root\n",
            " |-- Rank: integer (nullable = true)\n",
            " |-- Name: string (nullable = true)\n",
            " |-- Platform: string (nullable = true)\n",
            " |-- Year: string (nullable = true)\n",
            " |-- Genre: string (nullable = true)\n",
            " |-- Publisher: string (nullable = true)\n",
            " |-- NA_Sales: double (nullable = true)\n",
            " |-- EU_Sales: double (nullable = true)\n",
            " |-- JP_Sales: double (nullable = true)\n",
            " |-- Other_Sales: double (nullable = true)\n",
            " |-- Global_Sales: double (nullable = true)\n",
            "\n"
          ],
          "name": "stdout"
        }
      ]
    },
    {
      "cell_type": "markdown",
      "metadata": {
        "id": "IeOAh-oByKMy"
      },
      "source": [
        "### Utilizando um schema definido pelo usuário"
      ]
    },
    {
      "cell_type": "code",
      "metadata": {
        "id": "ZDRSfzxuyOXI"
      },
      "source": [
        "from pyspark.sql.types import StructType, StructField, StringType, IntegerType, DoubleType\n",
        "\n",
        "schema = StructType([\n",
        "    StructField(\"new_rank\", IntegerType(), True),\n",
        "    StructField(\"new_name\", StringType(), True),\n",
        "    StructField(\"new_platform\", StringType(), True),\n",
        "    StructField(\"new_year\", IntegerType(), True),\n",
        "    StructField(\"new_genre\", StringType(), True),\n",
        "    StructField(\"new_publisher\", StringType(), True),\n",
        "    StructField(\"new_na_sales\", DoubleType(), True),\n",
        "    StructField(\"new_eu_sales\", DoubleType(), True),\n",
        "    StructField(\"new_jp_sales\", DoubleType(), True),\n",
        "    StructField(\"new_other_sales\", DoubleType(), True),\n",
        "    StructField(\"new_global_sales\", DoubleType(), True)\n",
        "])"
      ],
      "execution_count": null,
      "outputs": []
    },
    {
      "cell_type": "code",
      "metadata": {
        "id": "iBajq7ZkySz6"
      },
      "source": [
        "df = spark.read.load(data_dir, format=\"csv\", schema=schema, header=\"true\")"
      ],
      "execution_count": null,
      "outputs": []
    },
    {
      "cell_type": "code",
      "metadata": {
        "id": "nefcvQwFyWAr",
        "outputId": "239f272b-fafc-4a87-89d9-d81ef0c19dba",
        "colab": {
          "base_uri": "https://localhost:8080/"
        }
      },
      "source": [
        "df.printSchema()"
      ],
      "execution_count": null,
      "outputs": [
        {
          "output_type": "stream",
          "text": [
            "root\n",
            " |-- new_rank: integer (nullable = true)\n",
            " |-- new_name: string (nullable = true)\n",
            " |-- new_platform: string (nullable = true)\n",
            " |-- new_year: integer (nullable = true)\n",
            " |-- new_genre: string (nullable = true)\n",
            " |-- new_publisher: string (nullable = true)\n",
            " |-- new_na_sales: double (nullable = true)\n",
            " |-- new_eu_sales: double (nullable = true)\n",
            " |-- new_jp_sales: double (nullable = true)\n",
            " |-- new_other_sales: double (nullable = true)\n",
            " |-- new_global_sales: double (nullable = true)\n",
            "\n"
          ],
          "name": "stdout"
        }
      ]
    },
    {
      "cell_type": "code",
      "metadata": {
        "id": "_TfmTOkJ4CC2",
        "outputId": "836e4679-ec2c-4743-f4e4-dd9f9bfd83f9",
        "colab": {
          "base_uri": "https://localhost:8080/"
        }
      },
      "source": [
        "df.show()"
      ],
      "execution_count": null,
      "outputs": [
        {
          "output_type": "stream",
          "text": [
            "+--------+--------------------+------------+--------+------------+--------------------+------------+------------+------------+---------------+----------------+\n",
            "|new_rank|            new_name|new_platform|new_year|   new_genre|       new_publisher|new_na_sales|new_eu_sales|new_jp_sales|new_other_sales|new_global_sales|\n",
            "+--------+--------------------+------------+--------+------------+--------------------+------------+------------+------------+---------------+----------------+\n",
            "|       1|          Wii Sports|         Wii|    2006|      Sports|            Nintendo|       41.49|       29.02|        3.77|           8.46|           82.74|\n",
            "|       2|   Super Mario Bros.|         NES|    1985|    Platform|            Nintendo|       29.08|        3.58|        6.81|           0.77|           40.24|\n",
            "|       3|      Mario Kart Wii|         Wii|    2008|      Racing|            Nintendo|       15.85|       12.88|        3.79|           3.31|           35.82|\n",
            "|       4|   Wii Sports Resort|         Wii|    2009|      Sports|            Nintendo|       15.75|       11.01|        3.28|           2.96|            33.0|\n",
            "|       5|Pokemon Red/Pokem...|          GB|    1996|Role-Playing|            Nintendo|       11.27|        8.89|       10.22|            1.0|           31.37|\n",
            "|       6|              Tetris|          GB|    1989|      Puzzle|            Nintendo|        23.2|        2.26|        4.22|           0.58|           30.26|\n",
            "|       7|New Super Mario B...|          DS|    2006|    Platform|            Nintendo|       11.38|        9.23|         6.5|            2.9|           30.01|\n",
            "|       8|            Wii Play|         Wii|    2006|        Misc|            Nintendo|       14.03|         9.2|        2.93|           2.85|           29.02|\n",
            "|       9|New Super Mario B...|         Wii|    2009|    Platform|            Nintendo|       14.59|        7.06|         4.7|           2.26|           28.62|\n",
            "|      10|           Duck Hunt|         NES|    1984|     Shooter|            Nintendo|       26.93|        0.63|        0.28|           0.47|           28.31|\n",
            "|      11|          Nintendogs|          DS|    2005|  Simulation|            Nintendo|        9.07|        11.0|        1.93|           2.75|           24.76|\n",
            "|      12|       Mario Kart DS|          DS|    2005|      Racing|            Nintendo|        9.81|        7.57|        4.13|           1.92|           23.42|\n",
            "|      13|Pokemon Gold/Poke...|          GB|    1999|Role-Playing|            Nintendo|         9.0|        6.18|         7.2|           0.71|            23.1|\n",
            "|      14|             Wii Fit|         Wii|    2007|      Sports|            Nintendo|        8.94|        8.03|         3.6|           2.15|           22.72|\n",
            "|      15|        Wii Fit Plus|         Wii|    2009|      Sports|            Nintendo|        9.09|        8.59|        2.53|           1.79|            22.0|\n",
            "|      16|  Kinect Adventures!|        X360|    2010|        Misc|Microsoft Game St...|       14.97|        4.94|        0.24|           1.67|           21.82|\n",
            "|      17|  Grand Theft Auto V|         PS3|    2013|      Action|Take-Two Interactive|        7.01|        9.27|        0.97|           4.14|            21.4|\n",
            "|      18|Grand Theft Auto:...|         PS2|    2004|      Action|Take-Two Interactive|        9.43|         0.4|        0.41|          10.57|           20.81|\n",
            "|      19|   Super Mario World|        SNES|    1990|    Platform|            Nintendo|       12.78|        3.75|        3.54|           0.55|           20.61|\n",
            "|      20|Brain Age: Train ...|          DS|    2005|        Misc|            Nintendo|        4.75|        9.26|        4.16|           2.05|           20.22|\n",
            "+--------+--------------------+------------+--------+------------+--------------------+------------+------------+------------+---------------+----------------+\n",
            "only showing top 20 rows\n",
            "\n"
          ],
          "name": "stdout"
        }
      ]
    },
    {
      "cell_type": "markdown",
      "metadata": {
        "id": "lwZZ0P_ZyYmE"
      },
      "source": [
        "## Formatos suportados\n",
        "O Spark é capaz de ler uma gama de arquivos e fontes de dados nativamente. Dentre eles, temos:\n",
        "\n",
        "- CSV\n",
        "- JSON (JSON lines text format)\n",
        "- Parquet files\n",
        "- ORC files\n",
        "- Hive tables\n",
        "- JDBC (MySQL, Postgresql, Oracle, SAP, e inúmeros outros BDs)\n",
        "- Avro\n",
        "\n",
        "É possível também encontrar dependências de terceiros, que apliam ainda mais o leque de opções de fontes de dados para o Spark. Ler mais em https://spark.apache.org/third-party-projects.html"
      ]
    },
    {
      "cell_type": "markdown",
      "metadata": {
        "id": "JBUQjkU80Qry"
      },
      "source": [
        "# Exercícios\n",
        "Para iniciar os exercícios, configure a variável abaixo para que possa apontar para o caminho correto em seu ambiente de desenvolvimento:\n"
      ]
    },
    {
      "cell_type": "code",
      "metadata": {
        "id": "lKum72hr0XSx"
      },
      "source": [
        "data_dir = \"vgsales.csv\""
      ],
      "execution_count": null,
      "outputs": []
    },
    {
      "cell_type": "markdown",
      "metadata": {
        "id": "wnkpHUxy0pMZ"
      },
      "source": [
        "Para auxiliar na visualização dos resultados, execute o paragrafo abaixo para definir a função display_df():"
      ]
    },
    {
      "cell_type": "code",
      "metadata": {
        "id": "KMiTnryK0ruj"
      },
      "source": [
        "def display_df(df, n=20):\n",
        "    return df.limit(n).toPandas()"
      ],
      "execution_count": null,
      "outputs": []
    },
    {
      "cell_type": "code",
      "metadata": {
        "id": "bB5mP12DBJ4p"
      },
      "source": [
        "display_df(df)\n",
        "#df.show()"
      ],
      "execution_count": null,
      "outputs": []
    },
    {
      "cell_type": "markdown",
      "metadata": {
        "id": "ldZa3qom0w0R"
      },
      "source": [
        "1) Leia o arquivo vgsales.csv em formato de inferência de schema e header desativado:"
      ]
    },
    {
      "cell_type": "code",
      "metadata": {
        "id": "FaUdM-Ps01Ar",
        "outputId": "0078f3a0-1609-4419-88bf-21c2f9d94fef",
        "colab": {
          "base_uri": "https://localhost:8080/"
        }
      },
      "source": [
        "df = spark.read.load(data_dir, format=\"csv\", inferSchema=\"true\", header=\"false\")\n",
        "df.show()"
      ],
      "execution_count": null,
      "outputs": [
        {
          "output_type": "stream",
          "text": [
            "+----+--------------------+--------+----+------------+--------------------+--------+--------+--------+-----------+------------+\n",
            "| _c0|                 _c1|     _c2| _c3|         _c4|                 _c5|     _c6|     _c7|     _c8|        _c9|        _c10|\n",
            "+----+--------------------+--------+----+------------+--------------------+--------+--------+--------+-----------+------------+\n",
            "|Rank|                Name|Platform|Year|       Genre|           Publisher|NA_Sales|EU_Sales|JP_Sales|Other_Sales|Global_Sales|\n",
            "|   1|          Wii Sports|     Wii|2006|      Sports|            Nintendo|   41.49|   29.02|    3.77|       8.46|       82.74|\n",
            "|   2|   Super Mario Bros.|     NES|1985|    Platform|            Nintendo|   29.08|    3.58|    6.81|       0.77|       40.24|\n",
            "|   3|      Mario Kart Wii|     Wii|2008|      Racing|            Nintendo|   15.85|   12.88|    3.79|       3.31|       35.82|\n",
            "|   4|   Wii Sports Resort|     Wii|2009|      Sports|            Nintendo|   15.75|   11.01|    3.28|       2.96|          33|\n",
            "|   5|Pokemon Red/Pokem...|      GB|1996|Role-Playing|            Nintendo|   11.27|    8.89|   10.22|          1|       31.37|\n",
            "|   6|              Tetris|      GB|1989|      Puzzle|            Nintendo|    23.2|    2.26|    4.22|       0.58|       30.26|\n",
            "|   7|New Super Mario B...|      DS|2006|    Platform|            Nintendo|   11.38|    9.23|     6.5|        2.9|       30.01|\n",
            "|   8|            Wii Play|     Wii|2006|        Misc|            Nintendo|   14.03|     9.2|    2.93|       2.85|       29.02|\n",
            "|   9|New Super Mario B...|     Wii|2009|    Platform|            Nintendo|   14.59|    7.06|     4.7|       2.26|       28.62|\n",
            "|  10|           Duck Hunt|     NES|1984|     Shooter|            Nintendo|   26.93|    0.63|    0.28|       0.47|       28.31|\n",
            "|  11|          Nintendogs|      DS|2005|  Simulation|            Nintendo|    9.07|      11|    1.93|       2.75|       24.76|\n",
            "|  12|       Mario Kart DS|      DS|2005|      Racing|            Nintendo|    9.81|    7.57|    4.13|       1.92|       23.42|\n",
            "|  13|Pokemon Gold/Poke...|      GB|1999|Role-Playing|            Nintendo|       9|    6.18|     7.2|       0.71|        23.1|\n",
            "|  14|             Wii Fit|     Wii|2007|      Sports|            Nintendo|    8.94|    8.03|     3.6|       2.15|       22.72|\n",
            "|  15|        Wii Fit Plus|     Wii|2009|      Sports|            Nintendo|    9.09|    8.59|    2.53|       1.79|          22|\n",
            "|  16|  Kinect Adventures!|    X360|2010|        Misc|Microsoft Game St...|   14.97|    4.94|    0.24|       1.67|       21.82|\n",
            "|  17|  Grand Theft Auto V|     PS3|2013|      Action|Take-Two Interactive|    7.01|    9.27|    0.97|       4.14|        21.4|\n",
            "|  18|Grand Theft Auto:...|     PS2|2004|      Action|Take-Two Interactive|    9.43|     0.4|    0.41|      10.57|       20.81|\n",
            "|  19|   Super Mario World|    SNES|1990|    Platform|            Nintendo|   12.78|    3.75|    3.54|       0.55|       20.61|\n",
            "+----+--------------------+--------+----+------------+--------------------+--------+--------+--------+-----------+------------+\n",
            "only showing top 20 rows\n",
            "\n"
          ],
          "name": "stdout"
        }
      ]
    },
    {
      "cell_type": "markdown",
      "metadata": {
        "id": "1v1tl8P40_HO"
      },
      "source": [
        "2) Leia o arquivo vgsales.csv com um schema pré-definido e header ativado:\n",
        "\n",
        "Obs.: considere todos os valores numéricos como inteiros para esse exercício\n"
      ]
    },
    {
      "cell_type": "code",
      "metadata": {
        "id": "Rn2AVXGh1MJG",
        "outputId": "209139d1-87ab-4cd6-ddca-fbc94a459c78",
        "colab": {
          "base_uri": "https://localhost:8080/"
        }
      },
      "source": [
        "from pyspark.sql.types import StructType, StructField, StringType, IntegerType, DoubleType\n",
        "\n",
        "schema = StructType([\n",
        "    StructField(\"new_rank\", IntegerType(), True),\n",
        "    StructField(\"new_name\", StringType(), True),\n",
        "    StructField(\"new_platform\", StringType(), True),\n",
        "    StructField(\"new_year\", StringType(), True),\n",
        "    StructField(\"new_genre\", StringType(), True),\n",
        "    StructField(\"new_publisher\", StringType(), True),\n",
        "    StructField(\"new_na_sales\", IntegerType(), True),\n",
        "    StructField(\"new_eu_sales\", IntegerType(), True),\n",
        "    StructField(\"new_jp_sales\", IntegerType(), True),\n",
        "    StructField(\"new_other_sales\", IntegerType(), True),\n",
        "    StructField(\"new_global_sales\", IntegerType(), True)\n",
        "])\n",
        "\n",
        "df = spark.read.load(data_dir, format=\"csv\", schema=schema, header=\"true\")\n",
        "df.printSchema()"
      ],
      "execution_count": null,
      "outputs": [
        {
          "output_type": "stream",
          "text": [
            "root\n",
            " |-- new_rank: integer (nullable = true)\n",
            " |-- new_name: string (nullable = true)\n",
            " |-- new_platform: string (nullable = true)\n",
            " |-- new_year: string (nullable = true)\n",
            " |-- new_genre: string (nullable = true)\n",
            " |-- new_publisher: string (nullable = true)\n",
            " |-- new_na_sales: integer (nullable = true)\n",
            " |-- new_eu_sales: integer (nullable = true)\n",
            " |-- new_jp_sales: integer (nullable = true)\n",
            " |-- new_other_sales: integer (nullable = true)\n",
            " |-- new_global_sales: integer (nullable = true)\n",
            "\n",
            "+--------+--------------------+------------+--------+------------+--------------------+------------+------------+------------+---------------+----------------+\n",
            "|new_rank|            new_name|new_platform|new_year|   new_genre|       new_publisher|new_na_sales|new_eu_sales|new_jp_sales|new_other_sales|new_global_sales|\n",
            "+--------+--------------------+------------+--------+------------+--------------------+------------+------------+------------+---------------+----------------+\n",
            "|       1|          Wii Sports|         Wii|    2006|      Sports|            Nintendo|        null|        null|        null|           null|            null|\n",
            "|       2|   Super Mario Bros.|         NES|    1985|    Platform|            Nintendo|        null|        null|        null|           null|            null|\n",
            "|       3|      Mario Kart Wii|         Wii|    2008|      Racing|            Nintendo|        null|        null|        null|           null|            null|\n",
            "|       4|   Wii Sports Resort|         Wii|    2009|      Sports|            Nintendo|        null|        null|        null|           null|              33|\n",
            "|       5|Pokemon Red/Pokem...|          GB|    1996|Role-Playing|            Nintendo|        null|        null|        null|              1|            null|\n",
            "|       6|              Tetris|          GB|    1989|      Puzzle|            Nintendo|        null|        null|        null|           null|            null|\n",
            "|       7|New Super Mario B...|          DS|    2006|    Platform|            Nintendo|        null|        null|        null|           null|            null|\n",
            "|       8|            Wii Play|         Wii|    2006|        Misc|            Nintendo|        null|        null|        null|           null|            null|\n",
            "|       9|New Super Mario B...|         Wii|    2009|    Platform|            Nintendo|        null|        null|        null|           null|            null|\n",
            "|      10|           Duck Hunt|         NES|    1984|     Shooter|            Nintendo|        null|        null|        null|           null|            null|\n",
            "|      11|          Nintendogs|          DS|    2005|  Simulation|            Nintendo|        null|          11|        null|           null|            null|\n",
            "|      12|       Mario Kart DS|          DS|    2005|      Racing|            Nintendo|        null|        null|        null|           null|            null|\n",
            "|      13|Pokemon Gold/Poke...|          GB|    1999|Role-Playing|            Nintendo|           9|        null|        null|           null|            null|\n",
            "|      14|             Wii Fit|         Wii|    2007|      Sports|            Nintendo|        null|        null|        null|           null|            null|\n",
            "|      15|        Wii Fit Plus|         Wii|    2009|      Sports|            Nintendo|        null|        null|        null|           null|              22|\n",
            "|      16|  Kinect Adventures!|        X360|    2010|        Misc|Microsoft Game St...|        null|        null|        null|           null|            null|\n",
            "|      17|  Grand Theft Auto V|         PS3|    2013|      Action|Take-Two Interactive|        null|        null|        null|           null|            null|\n",
            "|      18|Grand Theft Auto:...|         PS2|    2004|      Action|Take-Two Interactive|        null|        null|        null|           null|            null|\n",
            "|      19|   Super Mario World|        SNES|    1990|    Platform|            Nintendo|        null|        null|        null|           null|            null|\n",
            "|      20|Brain Age: Train ...|          DS|    2005|        Misc|            Nintendo|        null|        null|        null|           null|            null|\n",
            "+--------+--------------------+------------+--------+------------+--------------------+------------+------------+------------+---------------+----------------+\n",
            "only showing top 20 rows\n",
            "\n"
          ],
          "name": "stdout"
        }
      ]
    },
    {
      "cell_type": "markdown",
      "metadata": {
        "id": "YZOhPjSpuLZm"
      },
      "source": [
        ""
      ]
    }
  ]
}