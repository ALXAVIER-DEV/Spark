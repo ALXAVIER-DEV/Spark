{
  "nbformat": 4,
  "nbformat_minor": 0,
  "metadata": {
    "colab": {
      "name": "Pyspark_hands_on",
      "private_outputs": true,
      "provenance": [],
      "authorship_tag": "ABX9TyOcbLal/TR2OT6vaA7XUaZD",
      "include_colab_link": true
    },
    "kernelspec": {
      "name": "python3",
      "display_name": "Python 3"
    },
    "language_info": {
      "name": "python"
    }
  },
  "cells": [
    {
      "cell_type": "markdown",
      "metadata": {
        "id": "view-in-github",
        "colab_type": "text"
      },
      "source": [
        "<a href=\"https://colab.research.google.com/github/ALXAVIER-DEV/Spark/blob/master/Pyspark_hands_on.ipynb\" target=\"_parent\"><img src=\"https://colab.research.google.com/assets/colab-badge.svg\" alt=\"Open In Colab\"/></a>"
      ]
    },
    {
      "cell_type": "code",
      "execution_count": null,
      "metadata": {
        "id": "tGZ-A8XBJ6gQ"
      },
      "outputs": [],
      "source": [
        "## Instalando o java\n",
        "!apt-get install openjdk-8-jdk-headless -qq > /dev/null"
      ]
    },
    {
      "cell_type": "code",
      "source": [
        "## Baixando o spark\n",
        "!wget -q https://dlcdn.apache.org/spark/spark-3.2.1/spark-3.2.1-bin-hadoop3.2.tgz"
      ],
      "metadata": {
        "id": "u6I5wIQFKQIX"
      },
      "execution_count": null,
      "outputs": []
    },
    {
      "cell_type": "code",
      "source": [
        "##Unzip spark\n",
        "!tar xf /content/spark-3.2.1-bin-hadoop3.2.tgz"
      ],
      "metadata": {
        "id": "-gG7LTuvKp8r"
      },
      "execution_count": null,
      "outputs": []
    },
    {
      "cell_type": "code",
      "source": [
        "## Criando variaveis de ambiente necessarias\n",
        "import os\n",
        "os.environ[\"JAVA_HOME\"] = \"/usr/lib/jvm/java-8-openjdk-amd64\"\n",
        "os.environ[\"SPARK_HOME\"] = \"/content/spark-3.2.1-bin-hadoop3.2\""
      ],
      "metadata": {
        "id": "opTb2XjVK88E"
      },
      "execution_count": null,
      "outputs": []
    },
    {
      "cell_type": "code",
      "source": [
        "## Atalho : Instalar a lib find spark no sistema e import'a-lo como uma lib regular\n",
        "!pip install -q findspark"
      ],
      "metadata": {
        "id": "o6GpXIUAL1E6"
      },
      "execution_count": null,
      "outputs": []
    },
    {
      "cell_type": "code",
      "source": [
        "## Importando a lib\n",
        "import  findspark\n",
        "findspark.init()"
      ],
      "metadata": {
        "id": "XW67pnsXMRXO"
      },
      "execution_count": null,
      "outputs": []
    },
    {
      "cell_type": "code",
      "source": [
        "#Criando a session\n",
        "from pyspark.sql import SparkSession\n",
        "spark = SparkSession.builder\\\n",
        "        .master('local')\\\n",
        "        .appName('spark_handson')\\\n",
        "        .getOrCreate()"
      ],
      "metadata": {
        "id": "kuf5bpi6NXNt"
      },
      "execution_count": null,
      "outputs": []
    },
    {
      "cell_type": "code",
      "source": [
        "#importando o dataset\n",
        "from google.colab import files\n",
        "arquivo = files.upload()"
      ],
      "metadata": {
        "id": "ggKmPdD2N6uX"
      },
      "execution_count": null,
      "outputs": []
    },
    {
      "cell_type": "code",
      "source": [
        "##Criar Dataframe\n",
        "df = spark.read.csv('imdb_top_1000.csv', header=True, inferSchema=True)"
      ],
      "metadata": {
        "id": "PEq9IPOFOcv1"
      },
      "execution_count": null,
      "outputs": []
    },
    {
      "cell_type": "code",
      "source": [
        "\n",
        "df.printSchema()"
      ],
      "metadata": {
        "id": "psELKP-vw2Lr"
      },
      "execution_count": null,
      "outputs": []
    },
    {
      "cell_type": "code",
      "source": [
        "df.show()"
      ],
      "metadata": {
        "id": "TrevSUjKzIS0"
      },
      "execution_count": null,
      "outputs": []
    },
    {
      "cell_type": "code",
      "source": [
        "df_movies = df.select('Series_Title','Released_Year','Runtime','Genre','Director','No_of_Votes','Star1','Star2','Star3','Star4')"
      ],
      "metadata": {
        "id": "0oMRFMKvzOqe"
      },
      "execution_count": null,
      "outputs": []
    },
    {
      "cell_type": "code",
      "source": [
        "df_movies.show()"
      ],
      "metadata": {
        "id": "SVsMMpzh0Wm0"
      },
      "execution_count": null,
      "outputs": []
    },
    {
      "cell_type": "code",
      "source": [
        "df_vote = df_movies.withColumn('votos',df_movies['No_of_Votes'].cast('int')).drop('No_of_Votes')"
      ],
      "metadata": {
        "id": "MEIjoyuM0i-w"
      },
      "execution_count": null,
      "outputs": []
    },
    {
      "cell_type": "code",
      "source": [
        "df_vote.filter(df_vote.votos > 1000000).show()"
      ],
      "metadata": {
        "id": "tZEJxjg_3mW_"
      },
      "execution_count": null,
      "outputs": []
    },
    {
      "cell_type": "code",
      "source": [
        "from pyspark.sql.functions import max\n",
        "df_max = df_vote.agg(max('votos').alias('max_votos')).show()"
      ],
      "metadata": {
        "id": "OHTw53n73sSs"
      },
      "execution_count": null,
      "outputs": []
    },
    {
      "cell_type": "code",
      "source": [
        "df_max_votos = df_vote.filter(df_vote.votos == 2343110 )\n",
        "df_max_votos.show()"
      ],
      "metadata": {
        "id": "NK-rUG0b4kWE"
      },
      "execution_count": null,
      "outputs": []
    },
    {
      "cell_type": "code",
      "source": [
        "from pyspark.sql.functions import  count, col, asc, desc\n",
        "df_sum = df_vote.groupBy('Genre').count()\n",
        "df_sum.show(truncate=False)"
      ],
      "metadata": {
        "id": "oqnENlWd7Sgx"
      },
      "execution_count": null,
      "outputs": []
    },
    {
      "cell_type": "code",
      "source": [
        "df_sum.orderBy(col('count').desc()).show()"
      ],
      "metadata": {
        "id": "-dDO7Kpi8CWs"
      },
      "execution_count": null,
      "outputs": []
    },
    {
      "cell_type": "code",
      "source": [
        "df_vote.select('Series_Title','Released_Year','Director').filter(df_vote.Genre.isin('Comedy', 'Action', 'Drama')).show()"
      ],
      "metadata": {
        "id": "nj4F11yL-DSI"
      },
      "execution_count": null,
      "outputs": []
    },
    {
      "cell_type": "code",
      "source": [
        "df_vote.select('Series_Title','Released_Year','Director').filter(~df_vote.Genre.isin('Comedy', 'Action', 'Drama')).show()"
      ],
      "metadata": {
        "id": "HKdxQtnZ--sh"
      },
      "execution_count": null,
      "outputs": []
    },
    {
      "cell_type": "code",
      "source": [
        "### Use SQL\n",
        "df_vote.createOrReplaceTempView('movies')\n",
        "spark.sql('SELECT Released_Year, count(*) as qtd FROM movies GROUP BY Released_Year ORDER BY qtd desc').show(truncate=False)"
      ],
      "metadata": {
        "id": "E_2V-TMU_4Gw"
      },
      "execution_count": null,
      "outputs": []
    },
    {
      "cell_type": "code",
      "source": [
        ""
      ],
      "metadata": {
        "id": "8rItQ4V6Aod_"
      },
      "execution_count": null,
      "outputs": []
    }
  ]
}