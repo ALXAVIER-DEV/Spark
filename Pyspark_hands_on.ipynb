{
  "nbformat": 4,
  "nbformat_minor": 0,
  "metadata": {
    "colab": {
      "name": "Pyspark_hands_on",
      "private_outputs": true,
      "provenance": [],
      "authorship_tag": "ABX9TyPGClsqshkSH2UwS/th8ZVR",
      "include_colab_link": true
    },
    "kernelspec": {
      "name": "python3",
      "display_name": "Python 3"
    },
    "language_info": {
      "name": "python"
    }
  },
  "cells": [
    {
      "cell_type": "markdown",
      "metadata": {
        "id": "view-in-github",
        "colab_type": "text"
      },
      "source": [
        "<a href=\"https://colab.research.google.com/github/ALXAVIER-DEV/Spark/blob/master/Pyspark_hands_on.ipynb\" target=\"_parent\"><img src=\"https://colab.research.google.com/assets/colab-badge.svg\" alt=\"Open In Colab\"/></a>"
      ]
    },
    {
      "cell_type": "code",
      "execution_count": null,
      "metadata": {
        "id": "tGZ-A8XBJ6gQ"
      },
      "outputs": [],
      "source": [
        "## Instalando o java\n",
        "!apt-get install openjdk-8-jdk-headless -qq > /dev/null"
      ]
    },
    {
      "cell_type": "code",
      "source": [
        "## Baixando o spark\n",
        "!wget -q https://dlcdn.apache.org/spark/spark-3.2.1/spark-3.2.1-bin-hadoop3.2.tgz"
      ],
      "metadata": {
        "id": "u6I5wIQFKQIX"
      },
      "execution_count": null,
      "outputs": []
    },
    {
      "cell_type": "code",
      "source": [
        "##Unzip spark\n",
        "!tar xf /content/spark-3.2.1-bin-hadoop3.2.tgz"
      ],
      "metadata": {
        "id": "-gG7LTuvKp8r"
      },
      "execution_count": null,
      "outputs": []
    },
    {
      "cell_type": "code",
      "source": [
        "## Criando variaveis de ambiente necessarias"
      ],
      "metadata": {
        "id": "opTb2XjVK88E"
      },
      "execution_count": null,
      "outputs": []
    }
  ]
}