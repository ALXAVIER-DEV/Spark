{
  "nbformat": 4,
  "nbformat_minor": 0,
  "metadata": {
    "colab": {
      "name": "Fixação 1",
      "provenance": [],
      "collapsed_sections": [],
      "include_colab_link": true
    },
    "kernelspec": {
      "name": "python3",
      "display_name": "Python 3"
    }
  },
  "cells": [
    {
      "cell_type": "markdown",
      "metadata": {
        "id": "view-in-github",
        "colab_type": "text"
      },
      "source": [
        "<a href=\"https://colab.research.google.com/github/ALXAVIER-DEV/Spark/blob/master/Fixa%C3%A7%C3%A3o_1.ipynb\" target=\"_parent\"><img src=\"https://colab.research.google.com/assets/colab-badge.svg\" alt=\"Open In Colab\"/></a>"
      ]
    },
    {
      "cell_type": "markdown",
      "metadata": {
        "id": "sq8U3BtmhtRx"
      },
      "source": [
        "\n",
        "# **Running Pyspark in Colab**\n",
        "\n",
        "To run spark in Colab, we need to first install all the dependencies in Colab environment i.e. Apache Spark 3.0.1 with hadoop 2.7 and Java 8. The tools installation can be carried out inside the Jupyter Notebook of the Colab. One important note is that if you are new in Spark, it is better to avoid Spark 2.4.0 version since some people have already complained about its compatibility issue with python. \n",
        "Follow the steps to install the dependencies:"
      ]
    },
    {
      "cell_type": "code",
      "metadata": {
        "id": "lh5NCoc8fsSO",
        "outputId": "69f64513-0b56-4347-af68-1a8b314bfb57",
        "colab": {
          "base_uri": "https://localhost:8080/"
        }
      },
      "source": [
        "!apt update\n",
        "!apt-get install openjdk-8-jdk-headless -qq > /dev/null\n",
        "!pip install pyspark"
      ],
      "execution_count": 56,
      "outputs": [
        {
          "output_type": "stream",
          "text": [
            "Hit:1 https://cloud.r-project.org/bin/linux/ubuntu bionic-cran40/ InRelease\n",
            "Ign:2 https://developer.download.nvidia.com/compute/cuda/repos/ubuntu1804/x86_64  InRelease\n",
            "Ign:3 https://developer.download.nvidia.com/compute/machine-learning/repos/ubuntu1804/x86_64  InRelease\n",
            "Hit:4 https://developer.download.nvidia.com/compute/cuda/repos/ubuntu1804/x86_64  Release\n",
            "Hit:5 https://developer.download.nvidia.com/compute/machine-learning/repos/ubuntu1804/x86_64  Release\n",
            "Hit:6 http://ppa.launchpad.net/c2d4u.team/c2d4u4.0+/ubuntu bionic InRelease\n",
            "Hit:8 http://archive.ubuntu.com/ubuntu bionic InRelease\n",
            "Hit:9 http://security.ubuntu.com/ubuntu bionic-security InRelease\n",
            "Hit:11 http://ppa.launchpad.net/graphics-drivers/ppa/ubuntu bionic InRelease\n",
            "Hit:12 http://archive.ubuntu.com/ubuntu bionic-updates InRelease\n",
            "Hit:13 http://archive.ubuntu.com/ubuntu bionic-backports InRelease\n",
            "Reading package lists... Done\n",
            "Building dependency tree       \n",
            "Reading state information... Done\n",
            "40 packages can be upgraded. Run 'apt list --upgradable' to see them.\n",
            "Requirement already satisfied: pyspark in /usr/local/lib/python3.6/dist-packages (3.0.1)\n",
            "Requirement already satisfied: py4j==0.10.9 in /usr/local/lib/python3.6/dist-packages (from pyspark) (0.10.9)\n"
          ],
          "name": "stdout"
        }
      ]
    },
    {
      "cell_type": "markdown",
      "metadata": {
        "id": "ILheUROOhprv"
      },
      "source": [
        "Now that you installed Spark and Java in Colab, it is time to set the environment path which enables you to run Pyspark in your Colab environment. Set the location of Java and Spark by running the following code:"
      ]
    },
    {
      "cell_type": "code",
      "metadata": {
        "id": "v1b8k_OVf2QF"
      },
      "source": [
        "import os\n",
        "os.environ[\"JAVA_HOME\"] = \"/usr/lib/jvm/java-8-openjdk-amd64\""
      ],
      "execution_count": 57,
      "outputs": []
    },
    {
      "cell_type": "markdown",
      "metadata": {
        "id": "KwrqMk3HiMiE"
      },
      "source": [
        "Run a local spark session to test your installation:"
      ]
    },
    {
      "cell_type": "code",
      "metadata": {
        "id": "9_Uz1NL4gHFx"
      },
      "source": [
        "from pyspark.sql import SparkSession\n",
        "spark = SparkSession.builder.master(\"local[*]\").getOrCreate()"
      ],
      "execution_count": 58,
      "outputs": []
    },
    {
      "cell_type": "code",
      "metadata": {
        "id": "14pXEN-M0hfV",
        "outputId": "67aa73ce-5da6-4c3b-dd70-a40fccf874a8",
        "colab": {
          "base_uri": "https://localhost:8080/",
          "height": 216
        }
      },
      "source": [
        "spark"
      ],
      "execution_count": 59,
      "outputs": [
        {
          "output_type": "execute_result",
          "data": {
            "text/html": [
              "\n",
              "            <div>\n",
              "                <p><b>SparkSession - in-memory</b></p>\n",
              "                \n",
              "        <div>\n",
              "            <p><b>SparkContext</b></p>\n",
              "\n",
              "            <p><a href=\"http://3bd7ba6caabc:4040\">Spark UI</a></p>\n",
              "\n",
              "            <dl>\n",
              "              <dt>Version</dt>\n",
              "                <dd><code>v3.0.1</code></dd>\n",
              "              <dt>Master</dt>\n",
              "                <dd><code>local[*]</code></dd>\n",
              "              <dt>AppName</dt>\n",
              "                <dd><code>pyspark-shell</code></dd>\n",
              "            </dl>\n",
              "        </div>\n",
              "        \n",
              "            </div>\n",
              "        "
            ],
            "text/plain": [
              "<pyspark.sql.session.SparkSession at 0x7fa040ebfac8>"
            ]
          },
          "metadata": {
            "tags": []
          },
          "execution_count": 59
        }
      ]
    },
    {
      "cell_type": "markdown",
      "metadata": {
        "id": "l57w6j1HrcGr"
      },
      "source": [
        "# Reading a CSV from google drive\n",
        "\n",
        "Utilizando o Google Colab, é possível importar os datasets diretamente do Google Drive, sem ter que realizar o upload manual dos mesmos para a instância colab manualmente"
      ]
    },
    {
      "cell_type": "code",
      "metadata": {
        "id": "GyIlwwr7xENz",
        "outputId": "d043100f-3130-439a-c404-4ad39d0e6b1d",
        "colab": {
          "base_uri": "https://localhost:8080/"
        }
      },
      "source": [
        "from google.colab import drive\n",
        "drive.mount('/content/drive')"
      ],
      "execution_count": 60,
      "outputs": [
        {
          "output_type": "stream",
          "text": [
            "Drive already mounted at /content/drive; to attempt to forcibly remount, call drive.mount(\"/content/drive\", force_remount=True).\n"
          ],
          "name": "stdout"
        }
      ]
    },
    {
      "cell_type": "code",
      "metadata": {
        "id": "Y4LB-SAxzAFr",
        "outputId": "e93a729b-1b23-4fef-fdd2-e17cd3be581e",
        "colab": {
          "base_uri": "https://localhost:8080/"
        }
      },
      "source": [
        "spark.read\\\n",
        "  .option(\"inferSchema\", \"true\") \\\n",
        "  .option(\"header\", \"true\") \\\n",
        "  .option(\"delimiter\", \",\") \\\n",
        "  .csv(\"/content/drive/My Drive/Spark_Treinamento/vgsales.csv\") \\\n",
        "  .show()"
      ],
      "execution_count": 61,
      "outputs": [
        {
          "output_type": "stream",
          "text": [
            "+----+--------------------+--------+----+--------+------------+--------+--------+--------+-----------+------------+\n",
            "|Rank|                Name|Platform|Year|   Genre|   Publisher|NA_Sales|EU_Sales|JP_Sales|Other_Sales|Global_Sales|\n",
            "+----+--------------------+--------+----+--------+------------+--------+--------+--------+-----------+------------+\n",
            "| 259|           Asteroids|    2600|1980| Shooter|       Atari|     4.0|    0.26|     0.0|       0.05|        4.31|\n",
            "| 545|     Missile Command|    2600|1980| Shooter|       Atari|    2.56|    0.17|     0.0|       0.03|        2.76|\n",
            "|1768|             Kaboom!|    2600|1980|    Misc|  Activision|    1.07|    0.07|     0.0|       0.01|        1.15|\n",
            "|1971|            Defender|    2600|1980|    Misc|       Atari|    0.99|    0.05|     0.0|       0.01|        1.05|\n",
            "|2671|              Boxing|    2600|1980|Fighting|  Activision|    0.72|    0.04|     0.0|       0.01|        0.77|\n",
            "|4027|          Ice Hockey|    2600|1980|  Sports|  Activision|    0.46|    0.03|     0.0|       0.01|        0.49|\n",
            "|5368|             Freeway|    2600|1980|  Action|  Activision|    0.32|    0.02|     0.0|        0.0|        0.34|\n",
            "|6319|              Bridge|    2600|1980|    Misc|  Activision|    0.25|    0.02|     0.0|        0.0|        0.27|\n",
            "|6898|            Checkers|    2600|1980|    Misc|       Atari|    0.22|    0.01|     0.0|        0.0|        0.24|\n",
            "| 240|            Pitfall!|    2600|1981|Platform|  Activision|    4.21|    0.24|     0.0|       0.05|         4.5|\n",
            "| 736|             Frogger|    2600|1981|  Action|Parker Bros.|    2.06|    0.12|     0.0|       0.02|         2.2|\n",
            "| 768|        Demon Attack|    2600|1981| Shooter|      Imagic|    1.99|    0.12|     0.0|       0.02|        2.13|\n",
            "| 866|E.T.: The Extra T...|    2600|1981|  Action|       Atari|    1.84|    0.11|     0.0|       0.02|        1.97|\n",
            "|1108|         Ms. Pac-Man|    2600|1981|  Puzzle|       Atari|    1.54|     0.1|     0.0|       0.02|        1.65|\n",
            "|1155|          River Raid|    2600|1981| Shooter|  Activision|    1.49|    0.09|     0.0|       0.02|         1.6|\n",
            "|1308|         Donkey Kong|    2600|1981|Platform|      Coleco|    1.36|    0.08|     0.0|       0.02|        1.46|\n",
            "|1431|           Centipede|    2600|1981| Shooter|       Atari|    1.26|    0.08|     0.0|       0.01|        1.36|\n",
            "|1558|            Atlantis|    2600|1981| Shooter|      Imagic|    1.18|    0.08|     0.0|       0.01|        1.27|\n",
            "|1850|           Megamania|    2600|1981| Shooter|  Activision|    1.03|    0.06|     0.0|       0.01|         1.1|\n",
            "|1967|          Cosmic Ark|    2600|1981| Shooter|      Imagic|    0.99|    0.05|     0.0|       0.01|        1.05|\n",
            "+----+--------------------+--------+----+--------+------------+--------+--------+--------+-----------+------------+\n",
            "only showing top 20 rows\n",
            "\n"
          ],
          "name": "stdout"
        }
      ]
    },
    {
      "cell_type": "code",
      "metadata": {
        "id": "9aKclVCoLu0J"
      },
      "source": [
        "!pip install pandas\n",
        "!pip install matplotlib"
      ],
      "execution_count": null,
      "outputs": []
    },
    {
      "cell_type": "markdown",
      "metadata": {
        "id": "PE0S_cDewVb0"
      },
      "source": [
        "# Questão 1\n",
        "Utilizando o dataset vgsales:\n",
        "\n",
        "https://www.kaggle.com/gregorut/videogamesales/data.\n",
        "\n",
        "Recupere a quantidade de vendas globais (Global_Sales) da plataforma PS4, agrupado por gênero (Genre) entre os anos 2013 a 2019:\n",
        "\n",
        "Obs.: realizar duas transformações. A primeira utilizando SparkSQL e a segunda utilizando PySpark."
      ]
    },
    {
      "cell_type": "code",
      "metadata": {
        "id": "r4K1azmgxQND"
      },
      "source": [
        "data_dir = '/content/drive/My Drive/Spark_Treinamento/vgsales.csv'\n",
        "df = spark.read.load(data_dir, format= \"csv\", inferSchema=\"true\", header=\"true\")"
      ],
      "execution_count": 64,
      "outputs": []
    },
    {
      "cell_type": "code",
      "metadata": {
        "id": "ZV-BpQo1sU3E"
      },
      "source": [
        "def display_df(df, n=20):\n",
        "    return df.limit(n).toPandas()"
      ],
      "execution_count": 75,
      "outputs": []
    },
    {
      "cell_type": "code",
      "metadata": {
        "id": "RzkIElSCsa9-",
        "outputId": "3d58044c-1030-46d1-81fe-a0cdabbf6956",
        "colab": {
          "base_uri": "https://localhost:8080/",
          "height": 292
        }
      },
      "source": [
        "display_df(df.describe(), 10)\n"
      ],
      "execution_count": 76,
      "outputs": [
        {
          "output_type": "execute_result",
          "data": {
            "text/html": [
              "<div>\n",
              "<style scoped>\n",
              "    .dataframe tbody tr th:only-of-type {\n",
              "        vertical-align: middle;\n",
              "    }\n",
              "\n",
              "    .dataframe tbody tr th {\n",
              "        vertical-align: top;\n",
              "    }\n",
              "\n",
              "    .dataframe thead th {\n",
              "        text-align: right;\n",
              "    }\n",
              "</style>\n",
              "<table border=\"1\" class=\"dataframe\">\n",
              "  <thead>\n",
              "    <tr style=\"text-align: right;\">\n",
              "      <th></th>\n",
              "      <th>summary</th>\n",
              "      <th>Rank</th>\n",
              "      <th>Name</th>\n",
              "      <th>Platform</th>\n",
              "      <th>Year</th>\n",
              "      <th>Genre</th>\n",
              "      <th>Publisher</th>\n",
              "      <th>NA_Sales</th>\n",
              "      <th>EU_Sales</th>\n",
              "      <th>JP_Sales</th>\n",
              "      <th>Other_Sales</th>\n",
              "      <th>Global_Sales</th>\n",
              "    </tr>\n",
              "  </thead>\n",
              "  <tbody>\n",
              "    <tr>\n",
              "      <th>0</th>\n",
              "      <td>count</td>\n",
              "      <td>16324</td>\n",
              "      <td>16324</td>\n",
              "      <td>16324</td>\n",
              "      <td>16324</td>\n",
              "      <td>16324</td>\n",
              "      <td>16324</td>\n",
              "      <td>16324</td>\n",
              "      <td>16324</td>\n",
              "      <td>16324</td>\n",
              "      <td>16324</td>\n",
              "      <td>16324</td>\n",
              "    </tr>\n",
              "    <tr>\n",
              "      <th>1</th>\n",
              "      <td>mean</td>\n",
              "      <td>8291.508270031854</td>\n",
              "      <td>1942.0</td>\n",
              "      <td>2600.0</td>\n",
              "      <td>2006.4042514089683</td>\n",
              "      <td>None</td>\n",
              "      <td>None</td>\n",
              "      <td>0.26546373437883625</td>\n",
              "      <td>0.14758147512864267</td>\n",
              "      <td>0.07867250673853998</td>\n",
              "      <td>0.048334354324916624</td>\n",
              "      <td>0.5403277382994689</td>\n",
              "    </tr>\n",
              "    <tr>\n",
              "      <th>2</th>\n",
              "      <td>stddev</td>\n",
              "      <td>4792.04373419048</td>\n",
              "      <td>NaN</td>\n",
              "      <td>0.0</td>\n",
              "      <td>5.826744311455716</td>\n",
              "      <td>None</td>\n",
              "      <td>None</td>\n",
              "      <td>0.8216584668393672</td>\n",
              "      <td>0.5088085165507903</td>\n",
              "      <td>0.3115844508522971</td>\n",
              "      <td>0.18990174560162928</td>\n",
              "      <td>1.5658596703325407</td>\n",
              "    </tr>\n",
              "    <tr>\n",
              "      <th>3</th>\n",
              "      <td>min</td>\n",
              "      <td>1</td>\n",
              "      <td>'98 Koshien</td>\n",
              "      <td>2600</td>\n",
              "      <td>1980</td>\n",
              "      <td>Action</td>\n",
              "      <td>10TACLE Studios</td>\n",
              "      <td>0.0</td>\n",
              "      <td>0.0</td>\n",
              "      <td>0.0</td>\n",
              "      <td>0.0</td>\n",
              "      <td>0.01</td>\n",
              "    </tr>\n",
              "    <tr>\n",
              "      <th>4</th>\n",
              "      <td>max</td>\n",
              "      <td>16600</td>\n",
              "      <td>¡Shin Chan Flipa en colores!</td>\n",
              "      <td>XOne</td>\n",
              "      <td>2016</td>\n",
              "      <td>Strategy</td>\n",
              "      <td>responDESIGN</td>\n",
              "      <td>41.49</td>\n",
              "      <td>29.02</td>\n",
              "      <td>10.22</td>\n",
              "      <td>10.57</td>\n",
              "      <td>82.74</td>\n",
              "    </tr>\n",
              "  </tbody>\n",
              "</table>\n",
              "</div>"
            ],
            "text/plain": [
              "  summary               Rank  ...           Other_Sales        Global_Sales\n",
              "0   count              16324  ...                 16324               16324\n",
              "1    mean  8291.508270031854  ...  0.048334354324916624  0.5403277382994689\n",
              "2  stddev   4792.04373419048  ...   0.18990174560162928  1.5658596703325407\n",
              "3     min                  1  ...                   0.0                0.01\n",
              "4     max              16600  ...                 10.57               82.74\n",
              "\n",
              "[5 rows x 12 columns]"
            ]
          },
          "metadata": {
            "tags": []
          },
          "execution_count": 76
        }
      ]
    },
    {
      "cell_type": "code",
      "metadata": {
        "id": "F1U-5F0ewZSX",
        "outputId": "71872714-7d82-4fd3-ee48-a71fb0196f79",
        "colab": {
          "base_uri": "https://localhost:8080/"
        }
      },
      "source": [
        "# SparkSQL\n",
        "\n",
        "df.createGlobalTempView(\"vgsales\")\n",
        "\n",
        "spark.sql(\"\"\"\n",
        "    SELECT \n",
        "    SUM(Global_Sales) as Total_vendas,\n",
        "    COUNT(Global_Sales),\n",
        "    Genre\n",
        "    FROM\n",
        "    vgsales\n",
        "    where\n",
        "    Platform = 'PS4'\n",
        "    AND Year BETWEEN 2013 and 2019\n",
        "    GROUP BY Genre\n",
        "    ORDER BY Total_vendas DESC\n",
        "    \"\"\"\n",
        ").show()\n",
        "\n",
        "\n"
      ],
      "execution_count": 103,
      "outputs": [
        {
          "output_type": "stream",
          "text": [
            "+------------------+-------------------+------------+\n",
            "|      Total_vendas|count(Global_Sales)|       Genre|\n",
            "+------------------+-------------------+------------+\n",
            "| 87.06000000000002|                122|      Action|\n",
            "|             75.32|                 34|     Shooter|\n",
            "| 50.07000000000001|                 43|      Sports|\n",
            "| 25.73999999999999|                 46|Role-Playing|\n",
            "|             11.53|                 17|      Racing|\n",
            "|              8.04|                 17|    Fighting|\n",
            "|7.3999999999999995|                 15|        Misc|\n",
            "| 7.010000000000001|                 11|    Platform|\n",
            "| 4.699999999999999|                 19|   Adventure|\n",
            "|0.7699999999999999|                  5|  Simulation|\n",
            "|              0.41|                  5|    Strategy|\n",
            "|              0.02|                  1|      Puzzle|\n",
            "+------------------+-------------------+------------+\n",
            "\n"
          ],
          "name": "stdout"
        }
      ]
    },
    {
      "cell_type": "code",
      "metadata": {
        "id": "Jz4MaQVtxg_j",
        "outputId": "a0878e2e-006b-4320-b132-3af4012435b5",
        "colab": {
          "base_uri": "https://localhost:8080/"
        }
      },
      "source": [
        "# Pyspark\n",
        "import pyspark.sql.functions as f\n",
        "df2 = df.select(\"Platform\", \"Year\", \"Genre\",\"Global_Sales\")\\\n",
        "  .where(\"Platform ='PS4' AND Year BETWEEN 2013 and 2019\" )\\\n",
        "  .groupBy(\"Genre\")\\\n",
        "  .agg(\n",
        "      \n",
        "      f.sum(\"Global_Sales\").alias(\"total_vendas\"),\n",
        "      f.count(\"Global_Sales\").alias(\"contagem_vendas\")\n",
        "  )\\\n",
        "  .orderBy(f.desc(\"total_vendas\"))\n",
        "\n",
        "df2.show()  "
      ],
      "execution_count": 114,
      "outputs": [
        {
          "output_type": "stream",
          "text": [
            "+------------+------------------+---------------+\n",
            "|       Genre|      total_vendas|contagem_vendas|\n",
            "+------------+------------------+---------------+\n",
            "|      Action| 87.06000000000002|            122|\n",
            "|     Shooter|             75.32|             34|\n",
            "|      Sports| 50.07000000000001|             43|\n",
            "|Role-Playing| 25.73999999999999|             46|\n",
            "|      Racing|             11.53|             17|\n",
            "|    Fighting|              8.04|             17|\n",
            "|        Misc|7.3999999999999995|             15|\n",
            "|    Platform| 7.010000000000001|             11|\n",
            "|   Adventure| 4.699999999999999|             19|\n",
            "|  Simulation|0.7699999999999999|              5|\n",
            "|    Strategy|              0.41|              5|\n",
            "|      Puzzle|              0.02|              1|\n",
            "+------------+------------------+---------------+\n",
            "\n"
          ],
          "name": "stdout"
        }
      ]
    },
    {
      "cell_type": "markdown",
      "metadata": {
        "id": "ltwodAhxyB8h"
      },
      "source": [
        "# Questão 2\n",
        "\n",
        "Imagine que você foi contratado como engenheiro de dados para construir e manter um data lake de dados. Uma das fontes que você pretende realizar a ingestão se encontra em um banco de dados relacional. Essa fonte consiste de uma tabela de vendas de uma organização contendo as seguintes colunas:\n",
        "\n",
        "- venda_id\n",
        "- data\n",
        "- tipo_produto\n",
        "- valor\n",
        "- usuario\n",
        "\n",
        "Além disso, você precisa disponibilizar essa informação para um usuário final que utilizará um servidor SparkSQL, permitindo que ele rode consultas utilizando a engine de processamento distribuído do Spark. Essas consultas serão executadas por uma ferramenta de visualização como o PowerBI.\n",
        "\n",
        "Foi constatado também que 95% das queries terão filtros por tipo_produto em sua composição.\n",
        "\n",
        "Como você desenharia a arquitetura dessa solução? Quais os melhores componentes? Como seria o seu pipeline de dados?\n",
        "\n",
        "Descreva utilizando um desenho. Pode mandar uma foto do desenho (a caneta) ou usar uma ferramenta web para desenhar a arquitura (draw.io). Favor enviar diretamente para o professor no Slack."
      ]
    },
    {
      "cell_type": "markdown",
      "metadata": {
        "id": "k_AGoIy4f1m5"
      },
      "source": [
        "# Questão 3\n",
        "\n",
        "Implemente um word count da frase abaixo utilizando as Low Level APIs:\n"
      ]
    },
    {
      "cell_type": "code",
      "metadata": {
        "id": "EzdRKmopzmHn"
      },
      "source": [
        "text = \"Apache Spark is a unified analytics engine for large-scale data processing. It provides high-level APIs in Java, Scala, Python and R, and an optimized engine that supports general execution graphs. It also supports a rich set of higher-level tools including Spark SQL for SQL and structured data processing, MLlib for machine learning, GraphX for graph processing, and Structured Streaming for incremental computation and stream processing.\"\n"
      ],
      "execution_count": 108,
      "outputs": []
    },
    {
      "cell_type": "code",
      "metadata": {
        "id": "zvF_Tbeg3YfO"
      },
      "source": [
        "word_list = text.split(\" \")"
      ],
      "execution_count": 109,
      "outputs": []
    },
    {
      "cell_type": "code",
      "metadata": {
        "id": "ugL9hV-P3gXj",
        "outputId": "e9f2f676-2167-4d2c-ce3f-2dc39f814d86",
        "colab": {
          "base_uri": "https://localhost:8080/"
        }
      },
      "source": [
        "sc = spark.sparkContext\n",
        "\n",
        "rdd = sc.parallelize(word_list)\\\n",
        "  .map(lambda word: (word, 1)) \\\n",
        "  .reduceByKey(lambda x , y: + x +y)\n",
        "rdd.take(10)  "
      ],
      "execution_count": 112,
      "outputs": [
        {
          "output_type": "execute_result",
          "data": {
            "text/plain": [
              "[('Apache', 1),\n",
              " ('Spark', 2),\n",
              " ('is', 1),\n",
              " ('unified', 1),\n",
              " ('analytics', 1),\n",
              " ('engine', 2),\n",
              " ('It', 2),\n",
              " ('provides', 1),\n",
              " ('high-level', 1),\n",
              " ('APIs', 1)]"
            ]
          },
          "metadata": {
            "tags": []
          },
          "execution_count": 112
        }
      ]
    },
    {
      "cell_type": "code",
      "metadata": {
        "id": "fTYE5tPP4ppV",
        "outputId": "76513a47-ba28-4318-95b3-857ee70aa022",
        "colab": {
          "base_uri": "https://localhost:8080/"
        }
      },
      "source": [
        "sc.parallelize(word_list).count()"
      ],
      "execution_count": 113,
      "outputs": [
        {
          "output_type": "execute_result",
          "data": {
            "text/plain": [
              "65"
            ]
          },
          "metadata": {
            "tags": []
          },
          "execution_count": 113
        }
      ]
    },
    {
      "cell_type": "code",
      "metadata": {
        "id": "PSeiIkiz45Ix"
      },
      "source": [
        ""
      ],
      "execution_count": null,
      "outputs": []
    }
  ]
}