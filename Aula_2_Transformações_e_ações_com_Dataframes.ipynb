{
  "nbformat": 4,
  "nbformat_minor": 0,
  "metadata": {
    "colab": {
      "name": "Aula 2 - Transformações e ações com Dataframes",
      "provenance": [],
      "collapsed_sections": [],
      "include_colab_link": true
    },
    "kernelspec": {
      "name": "python3",
      "display_name": "Python 3"
    }
  },
  "cells": [
    {
      "cell_type": "markdown",
      "metadata": {
        "id": "view-in-github",
        "colab_type": "text"
      },
      "source": [
        "<a href=\"https://colab.research.google.com/github/ALXAVIER-DEV/Spark/blob/master/Aula_2_Transforma%C3%A7%C3%B5es_e_a%C3%A7%C3%B5es_com_Dataframes.ipynb\" target=\"_parent\"><img src=\"https://colab.research.google.com/assets/colab-badge.svg\" alt=\"Open In Colab\"/></a>"
      ]
    },
    {
      "cell_type": "markdown",
      "metadata": {
        "id": "sq8U3BtmhtRx"
      },
      "source": [
        "\n",
        "# **Running Pyspark in Colab**\n",
        "\n",
        "To run spark in Colab, we need to first install all the dependencies in Colab environment i.e. Apache Spark 3.0.1 with hadoop 2.7 and Java 8. The tools installation can be carried out inside the Jupyter Notebook of the Colab. One important note is that if you are new in Spark, it is better to avoid Spark 2.4.0 version since some people have already complained about its compatibility issue with python. \n",
        "Follow the steps to install the dependencies:"
      ]
    },
    {
      "cell_type": "code",
      "metadata": {
        "id": "lh5NCoc8fsSO",
        "outputId": "db3635de-7a64-4d39-f99d-f3a2ee9c9fac",
        "colab": {
          "base_uri": "https://localhost:8080/"
        }
      },
      "source": [
        "!apt-get install openjdk-8-jdk-headless -qq > /dev/null\n",
        "!pip install pyspark"
      ],
      "execution_count": 96,
      "outputs": [
        {
          "output_type": "stream",
          "text": [
            "Requirement already satisfied: pyspark in /usr/local/lib/python3.6/dist-packages (3.0.1)\n",
            "Requirement already satisfied: py4j==0.10.9 in /usr/local/lib/python3.6/dist-packages (from pyspark) (0.10.9)\n"
          ],
          "name": "stdout"
        }
      ]
    },
    {
      "cell_type": "markdown",
      "metadata": {
        "id": "ILheUROOhprv"
      },
      "source": [
        "Now that you installed Spark and Java in Colab, it is time to set the environment path which enables you to run Pyspark in your Colab environment. Set the location of Java and Spark by running the following code:"
      ]
    },
    {
      "cell_type": "code",
      "metadata": {
        "id": "v1b8k_OVf2QF"
      },
      "source": [
        "import os\n",
        "os.environ[\"JAVA_HOME\"] = \"/usr/lib/jvm/java-8-openjdk-amd64\""
      ],
      "execution_count": 97,
      "outputs": []
    },
    {
      "cell_type": "markdown",
      "metadata": {
        "id": "KwrqMk3HiMiE"
      },
      "source": [
        "Run a local spark session to test your installation:"
      ]
    },
    {
      "cell_type": "code",
      "metadata": {
        "id": "9_Uz1NL4gHFx"
      },
      "source": [
        "from pyspark.sql import SparkSession\n",
        "spark = SparkSession.builder.master(\"local[*]\").getOrCreate()"
      ],
      "execution_count": 98,
      "outputs": []
    },
    {
      "cell_type": "code",
      "metadata": {
        "id": "14pXEN-M0hfV",
        "outputId": "d145c002-f065-4e24-8ccc-34329b3687b0",
        "colab": {
          "base_uri": "https://localhost:8080/",
          "height": 216
        }
      },
      "source": [
        "spark"
      ],
      "execution_count": 99,
      "outputs": [
        {
          "output_type": "execute_result",
          "data": {
            "text/html": [
              "\n",
              "            <div>\n",
              "                <p><b>SparkSession - in-memory</b></p>\n",
              "                \n",
              "        <div>\n",
              "            <p><b>SparkContext</b></p>\n",
              "\n",
              "            <p><a href=\"http://219224cbcde1:4040\">Spark UI</a></p>\n",
              "\n",
              "            <dl>\n",
              "              <dt>Version</dt>\n",
              "                <dd><code>v3.0.1</code></dd>\n",
              "              <dt>Master</dt>\n",
              "                <dd><code>local[*]</code></dd>\n",
              "              <dt>AppName</dt>\n",
              "                <dd><code>pyspark-shell</code></dd>\n",
              "            </dl>\n",
              "        </div>\n",
              "        \n",
              "            </div>\n",
              "        "
            ],
            "text/plain": [
              "<pyspark.sql.session.SparkSession at 0x7fe5c1958b00>"
            ]
          },
          "metadata": {
            "tags": []
          },
          "execution_count": 99
        }
      ]
    },
    {
      "cell_type": "markdown",
      "metadata": {
        "id": "l57w6j1HrcGr"
      },
      "source": [
        "# Reading a CSV from google drive\n",
        "\n",
        "Utilizando o Google Colab, é possível importar os datasets diretamente do Google Drive, sem ter que realizar o upload manual dos mesmos para a instância colab manualmente"
      ]
    },
    {
      "cell_type": "code",
      "metadata": {
        "id": "GyIlwwr7xENz",
        "outputId": "a26a3fc4-2339-455d-9bb2-a0230b3161e3",
        "colab": {
          "base_uri": "https://localhost:8080/"
        }
      },
      "source": [
        "from google.colab import drive\n",
        "drive.mount('/content/drive')"
      ],
      "execution_count": 100,
      "outputs": [
        {
          "output_type": "stream",
          "text": [
            "Drive already mounted at /content/drive; to attempt to forcibly remount, call drive.mount(\"/content/drive\", force_remount=True).\n"
          ],
          "name": "stdout"
        }
      ]
    },
    {
      "cell_type": "code",
      "metadata": {
        "id": "Y4LB-SAxzAFr",
        "outputId": "47b633c7-f1ee-4297-d988-f261416650a1",
        "colab": {
          "base_uri": "https://localhost:8080/"
        }
      },
      "source": [
        "spark.read\\\n",
        "  .option(\"inferSchema\", \"true\") \\\n",
        "  .option(\"header\", \"true\") \\\n",
        "  .option(\"delimiter\", \",\") \\\n",
        "  .csv(\"/content/drive/My Drive/Spark_Treinamento/vgsales.csv\") \\\n",
        "  .show()"
      ],
      "execution_count": 101,
      "outputs": [
        {
          "output_type": "stream",
          "text": [
            "+----+--------------------+--------+----+--------+------------+--------+--------+--------+-----------+------------+\n",
            "|Rank|                Name|Platform|Year|   Genre|   Publisher|NA_Sales|EU_Sales|JP_Sales|Other_Sales|Global_Sales|\n",
            "+----+--------------------+--------+----+--------+------------+--------+--------+--------+-----------+------------+\n",
            "| 259|           Asteroids|    2600|1980| Shooter|       Atari|     4.0|    0.26|     0.0|       0.05|        4.31|\n",
            "| 545|     Missile Command|    2600|1980| Shooter|       Atari|    2.56|    0.17|     0.0|       0.03|        2.76|\n",
            "|1768|             Kaboom!|    2600|1980|    Misc|  Activision|    1.07|    0.07|     0.0|       0.01|        1.15|\n",
            "|1971|            Defender|    2600|1980|    Misc|       Atari|    0.99|    0.05|     0.0|       0.01|        1.05|\n",
            "|2671|              Boxing|    2600|1980|Fighting|  Activision|    0.72|    0.04|     0.0|       0.01|        0.77|\n",
            "|4027|          Ice Hockey|    2600|1980|  Sports|  Activision|    0.46|    0.03|     0.0|       0.01|        0.49|\n",
            "|5368|             Freeway|    2600|1980|  Action|  Activision|    0.32|    0.02|     0.0|        0.0|        0.34|\n",
            "|6319|              Bridge|    2600|1980|    Misc|  Activision|    0.25|    0.02|     0.0|        0.0|        0.27|\n",
            "|6898|            Checkers|    2600|1980|    Misc|       Atari|    0.22|    0.01|     0.0|        0.0|        0.24|\n",
            "| 240|            Pitfall!|    2600|1981|Platform|  Activision|    4.21|    0.24|     0.0|       0.05|         4.5|\n",
            "| 736|             Frogger|    2600|1981|  Action|Parker Bros.|    2.06|    0.12|     0.0|       0.02|         2.2|\n",
            "| 768|        Demon Attack|    2600|1981| Shooter|      Imagic|    1.99|    0.12|     0.0|       0.02|        2.13|\n",
            "| 866|E.T.: The Extra T...|    2600|1981|  Action|       Atari|    1.84|    0.11|     0.0|       0.02|        1.97|\n",
            "|1108|         Ms. Pac-Man|    2600|1981|  Puzzle|       Atari|    1.54|     0.1|     0.0|       0.02|        1.65|\n",
            "|1155|          River Raid|    2600|1981| Shooter|  Activision|    1.49|    0.09|     0.0|       0.02|         1.6|\n",
            "|1308|         Donkey Kong|    2600|1981|Platform|      Coleco|    1.36|    0.08|     0.0|       0.02|        1.46|\n",
            "|1431|           Centipede|    2600|1981| Shooter|       Atari|    1.26|    0.08|     0.0|       0.01|        1.36|\n",
            "|1558|            Atlantis|    2600|1981| Shooter|      Imagic|    1.18|    0.08|     0.0|       0.01|        1.27|\n",
            "|1850|           Megamania|    2600|1981| Shooter|  Activision|    1.03|    0.06|     0.0|       0.01|         1.1|\n",
            "|1967|          Cosmic Ark|    2600|1981| Shooter|      Imagic|    0.99|    0.05|     0.0|       0.01|        1.05|\n",
            "+----+--------------------+--------+----+--------+------------+--------+--------+--------+-----------+------------+\n",
            "only showing top 20 rows\n",
            "\n"
          ],
          "name": "stdout"
        }
      ]
    },
    {
      "cell_type": "markdown",
      "metadata": {
        "id": "nfwvu6s1636N"
      },
      "source": [
        "# Transformações e ações com Dataframes\n",
        "Nessa aula, daremos passaremos sobre o que vem a ser transformação e ação. Veremos como esses conceitos são utilizados se tratando dos Dataframes e quais ações são possíveis de serem realizadas utilizando SparkSQL."
      ]
    },
    {
      "cell_type": "markdown",
      "metadata": {
        "id": "-6gNLcby7pjL"
      },
      "source": [
        "## Pré-requisitos:\n",
        "Instalar as bibliotecas `pandas` e `matplotlib`:\n"
      ]
    },
    {
      "cell_type": "code",
      "metadata": {
        "id": "VmsagFJr7mbE",
        "outputId": "88ce9e61-b890-4a35-8e93-89a6601b692d",
        "colab": {
          "base_uri": "https://localhost:8080/"
        }
      },
      "source": [
        "!pip install pandas\n",
        "!pip install matplotlib"
      ],
      "execution_count": 109,
      "outputs": [
        {
          "output_type": "stream",
          "text": [
            "Requirement already satisfied: pandas in /usr/local/lib/python3.6/dist-packages (1.1.4)\n",
            "Requirement already satisfied: numpy>=1.15.4 in /usr/local/lib/python3.6/dist-packages (from pandas) (1.18.5)\n",
            "Requirement already satisfied: python-dateutil>=2.7.3 in /usr/local/lib/python3.6/dist-packages (from pandas) (2.8.1)\n",
            "Requirement already satisfied: pytz>=2017.2 in /usr/local/lib/python3.6/dist-packages (from pandas) (2018.9)\n",
            "Requirement already satisfied: six>=1.5 in /usr/local/lib/python3.6/dist-packages (from python-dateutil>=2.7.3->pandas) (1.15.0)\n",
            "Requirement already satisfied: matplotlib in /usr/local/lib/python3.6/dist-packages (3.2.2)\n",
            "Requirement already satisfied: pyparsing!=2.0.4,!=2.1.2,!=2.1.6,>=2.0.1 in /usr/local/lib/python3.6/dist-packages (from matplotlib) (2.4.7)\n",
            "Requirement already satisfied: numpy>=1.11 in /usr/local/lib/python3.6/dist-packages (from matplotlib) (1.18.5)\n",
            "Requirement already satisfied: kiwisolver>=1.0.1 in /usr/local/lib/python3.6/dist-packages (from matplotlib) (1.3.1)\n",
            "Requirement already satisfied: cycler>=0.10 in /usr/local/lib/python3.6/dist-packages (from matplotlib) (0.10.0)\n",
            "Requirement already satisfied: python-dateutil>=2.1 in /usr/local/lib/python3.6/dist-packages (from matplotlib) (2.8.1)\n",
            "Requirement already satisfied: six in /usr/local/lib/python3.6/dist-packages (from cycler>=0.10->matplotlib) (1.15.0)\n"
          ],
          "name": "stdout"
        }
      ]
    },
    {
      "cell_type": "markdown",
      "metadata": {
        "id": "JrNJ_Ixm74Vq"
      },
      "source": [
        "## Carregando o dataset videogamesales\n"
      ]
    },
    {
      "cell_type": "code",
      "metadata": {
        "id": "Q-hMUQ327-6u"
      },
      "source": [
        "data_dir = \"/content/drive/My Drive/Spark_Treinamento/vgsales.csv\""
      ],
      "execution_count": 110,
      "outputs": []
    },
    {
      "cell_type": "markdown",
      "metadata": {
        "id": "LQJ6U0iR8HCj"
      },
      "source": [
        "Usando a opção para inferir o schema dos dados automaticamente"
      ]
    },
    {
      "cell_type": "code",
      "metadata": {
        "id": "e6FNn6MF8Joo",
        "outputId": "5542657d-4caf-4c48-8aee-32ff7277ac06",
        "colab": {
          "base_uri": "https://localhost:8080/"
        }
      },
      "source": [
        "df = spark.read.load(data_dir, format=\"csv\", inferSchema=\"true\", header=\"true\")\n",
        "df.printSchema()"
      ],
      "execution_count": 111,
      "outputs": [
        {
          "output_type": "stream",
          "text": [
            "root\n",
            " |-- Rank: integer (nullable = true)\n",
            " |-- Name: string (nullable = true)\n",
            " |-- Platform: string (nullable = true)\n",
            " |-- Year: integer (nullable = true)\n",
            " |-- Genre: string (nullable = true)\n",
            " |-- Publisher: string (nullable = true)\n",
            " |-- NA_Sales: double (nullable = true)\n",
            " |-- EU_Sales: double (nullable = true)\n",
            " |-- JP_Sales: double (nullable = true)\n",
            " |-- Other_Sales: double (nullable = true)\n",
            " |-- Global_Sales: double (nullable = true)\n",
            "\n"
          ],
          "name": "stdout"
        }
      ]
    },
    {
      "cell_type": "code",
      "metadata": {
        "id": "AAv_snD-8XIW",
        "outputId": "67661e19-97da-406f-ce78-4c59c473c1d3",
        "colab": {
          "base_uri": "https://localhost:8080/"
        }
      },
      "source": [
        "df.show()"
      ],
      "execution_count": 112,
      "outputs": [
        {
          "output_type": "stream",
          "text": [
            "+----+--------------------+--------+----+--------+------------+--------+--------+--------+-----------+------------+\n",
            "|Rank|                Name|Platform|Year|   Genre|   Publisher|NA_Sales|EU_Sales|JP_Sales|Other_Sales|Global_Sales|\n",
            "+----+--------------------+--------+----+--------+------------+--------+--------+--------+-----------+------------+\n",
            "| 259|           Asteroids|    2600|1980| Shooter|       Atari|     4.0|    0.26|     0.0|       0.05|        4.31|\n",
            "| 545|     Missile Command|    2600|1980| Shooter|       Atari|    2.56|    0.17|     0.0|       0.03|        2.76|\n",
            "|1768|             Kaboom!|    2600|1980|    Misc|  Activision|    1.07|    0.07|     0.0|       0.01|        1.15|\n",
            "|1971|            Defender|    2600|1980|    Misc|       Atari|    0.99|    0.05|     0.0|       0.01|        1.05|\n",
            "|2671|              Boxing|    2600|1980|Fighting|  Activision|    0.72|    0.04|     0.0|       0.01|        0.77|\n",
            "|4027|          Ice Hockey|    2600|1980|  Sports|  Activision|    0.46|    0.03|     0.0|       0.01|        0.49|\n",
            "|5368|             Freeway|    2600|1980|  Action|  Activision|    0.32|    0.02|     0.0|        0.0|        0.34|\n",
            "|6319|              Bridge|    2600|1980|    Misc|  Activision|    0.25|    0.02|     0.0|        0.0|        0.27|\n",
            "|6898|            Checkers|    2600|1980|    Misc|       Atari|    0.22|    0.01|     0.0|        0.0|        0.24|\n",
            "| 240|            Pitfall!|    2600|1981|Platform|  Activision|    4.21|    0.24|     0.0|       0.05|         4.5|\n",
            "| 736|             Frogger|    2600|1981|  Action|Parker Bros.|    2.06|    0.12|     0.0|       0.02|         2.2|\n",
            "| 768|        Demon Attack|    2600|1981| Shooter|      Imagic|    1.99|    0.12|     0.0|       0.02|        2.13|\n",
            "| 866|E.T.: The Extra T...|    2600|1981|  Action|       Atari|    1.84|    0.11|     0.0|       0.02|        1.97|\n",
            "|1108|         Ms. Pac-Man|    2600|1981|  Puzzle|       Atari|    1.54|     0.1|     0.0|       0.02|        1.65|\n",
            "|1155|          River Raid|    2600|1981| Shooter|  Activision|    1.49|    0.09|     0.0|       0.02|         1.6|\n",
            "|1308|         Donkey Kong|    2600|1981|Platform|      Coleco|    1.36|    0.08|     0.0|       0.02|        1.46|\n",
            "|1431|           Centipede|    2600|1981| Shooter|       Atari|    1.26|    0.08|     0.0|       0.01|        1.36|\n",
            "|1558|            Atlantis|    2600|1981| Shooter|      Imagic|    1.18|    0.08|     0.0|       0.01|        1.27|\n",
            "|1850|           Megamania|    2600|1981| Shooter|  Activision|    1.03|    0.06|     0.0|       0.01|         1.1|\n",
            "|1967|          Cosmic Ark|    2600|1981| Shooter|      Imagic|    0.99|    0.05|     0.0|       0.01|        1.05|\n",
            "+----+--------------------+--------+----+--------+------------+--------+--------+--------+-----------+------------+\n",
            "only showing top 20 rows\n",
            "\n"
          ],
          "name": "stdout"
        }
      ]
    },
    {
      "cell_type": "markdown",
      "metadata": {
        "id": "5N1TfjUA8qpi"
      },
      "source": [
        "Visualizar o dataset de uma forma mais amigável"
      ]
    },
    {
      "cell_type": "code",
      "metadata": {
        "id": "KuvJqBeX8k81",
        "outputId": "d5184471-c875-4596-e8a1-2650e5a210d8",
        "colab": {
          "base_uri": "https://localhost:8080/",
          "height": 204
        }
      },
      "source": [
        "df.toPandas().head()"
      ],
      "execution_count": 113,
      "outputs": [
        {
          "output_type": "execute_result",
          "data": {
            "text/html": [
              "<div>\n",
              "<style scoped>\n",
              "    .dataframe tbody tr th:only-of-type {\n",
              "        vertical-align: middle;\n",
              "    }\n",
              "\n",
              "    .dataframe tbody tr th {\n",
              "        vertical-align: top;\n",
              "    }\n",
              "\n",
              "    .dataframe thead th {\n",
              "        text-align: right;\n",
              "    }\n",
              "</style>\n",
              "<table border=\"1\" class=\"dataframe\">\n",
              "  <thead>\n",
              "    <tr style=\"text-align: right;\">\n",
              "      <th></th>\n",
              "      <th>Rank</th>\n",
              "      <th>Name</th>\n",
              "      <th>Platform</th>\n",
              "      <th>Year</th>\n",
              "      <th>Genre</th>\n",
              "      <th>Publisher</th>\n",
              "      <th>NA_Sales</th>\n",
              "      <th>EU_Sales</th>\n",
              "      <th>JP_Sales</th>\n",
              "      <th>Other_Sales</th>\n",
              "      <th>Global_Sales</th>\n",
              "    </tr>\n",
              "  </thead>\n",
              "  <tbody>\n",
              "    <tr>\n",
              "      <th>0</th>\n",
              "      <td>259</td>\n",
              "      <td>Asteroids</td>\n",
              "      <td>2600</td>\n",
              "      <td>1980</td>\n",
              "      <td>Shooter</td>\n",
              "      <td>Atari</td>\n",
              "      <td>4.00</td>\n",
              "      <td>0.26</td>\n",
              "      <td>0.0</td>\n",
              "      <td>0.05</td>\n",
              "      <td>4.31</td>\n",
              "    </tr>\n",
              "    <tr>\n",
              "      <th>1</th>\n",
              "      <td>545</td>\n",
              "      <td>Missile Command</td>\n",
              "      <td>2600</td>\n",
              "      <td>1980</td>\n",
              "      <td>Shooter</td>\n",
              "      <td>Atari</td>\n",
              "      <td>2.56</td>\n",
              "      <td>0.17</td>\n",
              "      <td>0.0</td>\n",
              "      <td>0.03</td>\n",
              "      <td>2.76</td>\n",
              "    </tr>\n",
              "    <tr>\n",
              "      <th>2</th>\n",
              "      <td>1768</td>\n",
              "      <td>Kaboom!</td>\n",
              "      <td>2600</td>\n",
              "      <td>1980</td>\n",
              "      <td>Misc</td>\n",
              "      <td>Activision</td>\n",
              "      <td>1.07</td>\n",
              "      <td>0.07</td>\n",
              "      <td>0.0</td>\n",
              "      <td>0.01</td>\n",
              "      <td>1.15</td>\n",
              "    </tr>\n",
              "    <tr>\n",
              "      <th>3</th>\n",
              "      <td>1971</td>\n",
              "      <td>Defender</td>\n",
              "      <td>2600</td>\n",
              "      <td>1980</td>\n",
              "      <td>Misc</td>\n",
              "      <td>Atari</td>\n",
              "      <td>0.99</td>\n",
              "      <td>0.05</td>\n",
              "      <td>0.0</td>\n",
              "      <td>0.01</td>\n",
              "      <td>1.05</td>\n",
              "    </tr>\n",
              "    <tr>\n",
              "      <th>4</th>\n",
              "      <td>2671</td>\n",
              "      <td>Boxing</td>\n",
              "      <td>2600</td>\n",
              "      <td>1980</td>\n",
              "      <td>Fighting</td>\n",
              "      <td>Activision</td>\n",
              "      <td>0.72</td>\n",
              "      <td>0.04</td>\n",
              "      <td>0.0</td>\n",
              "      <td>0.01</td>\n",
              "      <td>0.77</td>\n",
              "    </tr>\n",
              "  </tbody>\n",
              "</table>\n",
              "</div>"
            ],
            "text/plain": [
              "   Rank             Name Platform  ...  JP_Sales Other_Sales Global_Sales\n",
              "0   259        Asteroids     2600  ...       0.0        0.05         4.31\n",
              "1   545  Missile Command     2600  ...       0.0        0.03         2.76\n",
              "2  1768          Kaboom!     2600  ...       0.0        0.01         1.15\n",
              "3  1971         Defender     2600  ...       0.0        0.01         1.05\n",
              "4  2671           Boxing     2600  ...       0.0        0.01         0.77\n",
              "\n",
              "[5 rows x 11 columns]"
            ]
          },
          "metadata": {
            "tags": []
          },
          "execution_count": 113
        }
      ]
    },
    {
      "cell_type": "markdown",
      "metadata": {
        "id": "vWyh_zkG8zaL"
      },
      "source": [
        "## Definindo um método para plotar Dataframes Spark"
      ]
    },
    {
      "cell_type": "code",
      "metadata": {
        "id": "ifxwbJiL832k"
      },
      "source": [
        "def display_df(df, n=20):\n",
        "    return df.limit(n).toPandas()"
      ],
      "execution_count": 114,
      "outputs": []
    },
    {
      "cell_type": "markdown",
      "metadata": {
        "id": "tWorx6E8863S"
      },
      "source": [
        "## Descrevendo estatisticamente o Dataframe"
      ]
    },
    {
      "cell_type": "code",
      "metadata": {
        "id": "pz2Rhxtb84XY",
        "outputId": "1e9ce27b-0ef5-41fb-f4c6-d8f1cdf48ad5",
        "colab": {
          "base_uri": "https://localhost:8080/",
          "height": 292
        }
      },
      "source": [
        "display_df(df.describe(), 10)"
      ],
      "execution_count": 115,
      "outputs": [
        {
          "output_type": "execute_result",
          "data": {
            "text/html": [
              "<div>\n",
              "<style scoped>\n",
              "    .dataframe tbody tr th:only-of-type {\n",
              "        vertical-align: middle;\n",
              "    }\n",
              "\n",
              "    .dataframe tbody tr th {\n",
              "        vertical-align: top;\n",
              "    }\n",
              "\n",
              "    .dataframe thead th {\n",
              "        text-align: right;\n",
              "    }\n",
              "</style>\n",
              "<table border=\"1\" class=\"dataframe\">\n",
              "  <thead>\n",
              "    <tr style=\"text-align: right;\">\n",
              "      <th></th>\n",
              "      <th>summary</th>\n",
              "      <th>Rank</th>\n",
              "      <th>Name</th>\n",
              "      <th>Platform</th>\n",
              "      <th>Year</th>\n",
              "      <th>Genre</th>\n",
              "      <th>Publisher</th>\n",
              "      <th>NA_Sales</th>\n",
              "      <th>EU_Sales</th>\n",
              "      <th>JP_Sales</th>\n",
              "      <th>Other_Sales</th>\n",
              "      <th>Global_Sales</th>\n",
              "    </tr>\n",
              "  </thead>\n",
              "  <tbody>\n",
              "    <tr>\n",
              "      <th>0</th>\n",
              "      <td>count</td>\n",
              "      <td>16324</td>\n",
              "      <td>16324</td>\n",
              "      <td>16324</td>\n",
              "      <td>16324</td>\n",
              "      <td>16324</td>\n",
              "      <td>16324</td>\n",
              "      <td>16324</td>\n",
              "      <td>16324</td>\n",
              "      <td>16324</td>\n",
              "      <td>16324</td>\n",
              "      <td>16324</td>\n",
              "    </tr>\n",
              "    <tr>\n",
              "      <th>1</th>\n",
              "      <td>mean</td>\n",
              "      <td>8291.508270031854</td>\n",
              "      <td>1942.0</td>\n",
              "      <td>2600.0</td>\n",
              "      <td>2006.4042514089683</td>\n",
              "      <td>None</td>\n",
              "      <td>None</td>\n",
              "      <td>0.26546373437883625</td>\n",
              "      <td>0.14758147512864267</td>\n",
              "      <td>0.07867250673853998</td>\n",
              "      <td>0.048334354324916624</td>\n",
              "      <td>0.5403277382994689</td>\n",
              "    </tr>\n",
              "    <tr>\n",
              "      <th>2</th>\n",
              "      <td>stddev</td>\n",
              "      <td>4792.04373419048</td>\n",
              "      <td>NaN</td>\n",
              "      <td>0.0</td>\n",
              "      <td>5.826744311455716</td>\n",
              "      <td>None</td>\n",
              "      <td>None</td>\n",
              "      <td>0.8216584668393672</td>\n",
              "      <td>0.5088085165507903</td>\n",
              "      <td>0.3115844508522971</td>\n",
              "      <td>0.18990174560162928</td>\n",
              "      <td>1.5658596703325407</td>\n",
              "    </tr>\n",
              "    <tr>\n",
              "      <th>3</th>\n",
              "      <td>min</td>\n",
              "      <td>1</td>\n",
              "      <td>'98 Koshien</td>\n",
              "      <td>2600</td>\n",
              "      <td>1980</td>\n",
              "      <td>Action</td>\n",
              "      <td>10TACLE Studios</td>\n",
              "      <td>0.0</td>\n",
              "      <td>0.0</td>\n",
              "      <td>0.0</td>\n",
              "      <td>0.0</td>\n",
              "      <td>0.01</td>\n",
              "    </tr>\n",
              "    <tr>\n",
              "      <th>4</th>\n",
              "      <td>max</td>\n",
              "      <td>16600</td>\n",
              "      <td>¡Shin Chan Flipa en colores!</td>\n",
              "      <td>XOne</td>\n",
              "      <td>2016</td>\n",
              "      <td>Strategy</td>\n",
              "      <td>responDESIGN</td>\n",
              "      <td>41.49</td>\n",
              "      <td>29.02</td>\n",
              "      <td>10.22</td>\n",
              "      <td>10.57</td>\n",
              "      <td>82.74</td>\n",
              "    </tr>\n",
              "  </tbody>\n",
              "</table>\n",
              "</div>"
            ],
            "text/plain": [
              "  summary               Rank  ...           Other_Sales        Global_Sales\n",
              "0   count              16324  ...                 16324               16324\n",
              "1    mean  8291.508270031854  ...  0.048334354324916624  0.5403277382994689\n",
              "2  stddev   4792.04373419048  ...   0.18990174560162928  1.5658596703325407\n",
              "3     min                  1  ...                   0.0                0.01\n",
              "4     max              16600  ...                 10.57               82.74\n",
              "\n",
              "[5 rows x 12 columns]"
            ]
          },
          "metadata": {
            "tags": []
          },
          "execution_count": 115
        }
      ]
    },
    {
      "cell_type": "markdown",
      "metadata": {
        "id": "quCXPC2a9IQy"
      },
      "source": [
        "# Análise exploratória dos dados\n",
        "Vamos aqui realizar uma série de queries sobre os dados utilizando as APIs para Spark em Python (Pyspark) e o framework SparkSQL. Para isso, seguem algumas perguntas analiticas."
      ]
    },
    {
      "cell_type": "markdown",
      "metadata": {
        "id": "4_AIRYyX9VZx"
      },
      "source": [
        "### Quais foram os top 10 jogos mais vendidos até os anos 2000?\n",
        "**Pyspark API**"
      ]
    },
    {
      "cell_type": "code",
      "metadata": {
        "id": "CX9puuDF9Kq3",
        "outputId": "2aa22f6b-48cd-4524-ab49-074b50211df0",
        "colab": {
          "base_uri": "https://localhost:8080/",
          "height": 359
        }
      },
      "source": [
        "import pyspark.sql.functions as f\n",
        "\n",
        "# df -> T1 -> df2\n",
        "# df2 -> T2 -> df3\n",
        "# df3 -> T3 -> df4\n",
        "# df4 -> T4 -> df5\n",
        "# df5 -> A1\n",
        "\n",
        "sales_2000 = df.select(\"Name\", \"Global_Sales\", \"Year\") \\\n",
        "    .filter(f.col(\"Year\") <= 2000) \\\n",
        "    .orderBy(f.desc(\"Global_Sales\")) \\\n",
        "    .limit(10)\n",
        "\n",
        "display_df(sales_2000) "
      ],
      "execution_count": 118,
      "outputs": [
        {
          "output_type": "execute_result",
          "data": {
            "text/html": [
              "<div>\n",
              "<style scoped>\n",
              "    .dataframe tbody tr th:only-of-type {\n",
              "        vertical-align: middle;\n",
              "    }\n",
              "\n",
              "    .dataframe tbody tr th {\n",
              "        vertical-align: top;\n",
              "    }\n",
              "\n",
              "    .dataframe thead th {\n",
              "        text-align: right;\n",
              "    }\n",
              "</style>\n",
              "<table border=\"1\" class=\"dataframe\">\n",
              "  <thead>\n",
              "    <tr style=\"text-align: right;\">\n",
              "      <th></th>\n",
              "      <th>Name</th>\n",
              "      <th>Global_Sales</th>\n",
              "      <th>Year</th>\n",
              "    </tr>\n",
              "  </thead>\n",
              "  <tbody>\n",
              "    <tr>\n",
              "      <th>0</th>\n",
              "      <td>Super Mario Bros.</td>\n",
              "      <td>40.24</td>\n",
              "      <td>1985</td>\n",
              "    </tr>\n",
              "    <tr>\n",
              "      <th>1</th>\n",
              "      <td>Pokemon Red/Pokemon Blue</td>\n",
              "      <td>31.37</td>\n",
              "      <td>1996</td>\n",
              "    </tr>\n",
              "    <tr>\n",
              "      <th>2</th>\n",
              "      <td>Tetris</td>\n",
              "      <td>30.26</td>\n",
              "      <td>1989</td>\n",
              "    </tr>\n",
              "    <tr>\n",
              "      <th>3</th>\n",
              "      <td>Duck Hunt</td>\n",
              "      <td>28.31</td>\n",
              "      <td>1984</td>\n",
              "    </tr>\n",
              "    <tr>\n",
              "      <th>4</th>\n",
              "      <td>Pokemon Gold/Pokemon Silver</td>\n",
              "      <td>23.10</td>\n",
              "      <td>1999</td>\n",
              "    </tr>\n",
              "    <tr>\n",
              "      <th>5</th>\n",
              "      <td>Super Mario World</td>\n",
              "      <td>20.61</td>\n",
              "      <td>1990</td>\n",
              "    </tr>\n",
              "    <tr>\n",
              "      <th>6</th>\n",
              "      <td>Super Mario Land</td>\n",
              "      <td>18.14</td>\n",
              "      <td>1989</td>\n",
              "    </tr>\n",
              "    <tr>\n",
              "      <th>7</th>\n",
              "      <td>Super Mario Bros. 3</td>\n",
              "      <td>17.28</td>\n",
              "      <td>1988</td>\n",
              "    </tr>\n",
              "    <tr>\n",
              "      <th>8</th>\n",
              "      <td>Pokémon Yellow: Special Pikachu Edition</td>\n",
              "      <td>14.64</td>\n",
              "      <td>1998</td>\n",
              "    </tr>\n",
              "    <tr>\n",
              "      <th>9</th>\n",
              "      <td>Super Mario 64</td>\n",
              "      <td>11.89</td>\n",
              "      <td>1996</td>\n",
              "    </tr>\n",
              "  </tbody>\n",
              "</table>\n",
              "</div>"
            ],
            "text/plain": [
              "                                      Name  Global_Sales  Year\n",
              "0                        Super Mario Bros.         40.24  1985\n",
              "1                 Pokemon Red/Pokemon Blue         31.37  1996\n",
              "2                                   Tetris         30.26  1989\n",
              "3                                Duck Hunt         28.31  1984\n",
              "4              Pokemon Gold/Pokemon Silver         23.10  1999\n",
              "5                        Super Mario World         20.61  1990\n",
              "6                         Super Mario Land         18.14  1989\n",
              "7                      Super Mario Bros. 3         17.28  1988\n",
              "8  Pokémon Yellow: Special Pikachu Edition         14.64  1998\n",
              "9                           Super Mario 64         11.89  1996"
            ]
          },
          "metadata": {
            "tags": []
          },
          "execution_count": 118
        }
      ]
    },
    {
      "cell_type": "markdown",
      "metadata": {
        "id": "A5mbTpYZ9noL"
      },
      "source": [
        "**Spark SQL**"
      ]
    },
    {
      "cell_type": "code",
      "metadata": {
        "id": "MYYA3woG9kVf",
        "outputId": "1357c042-4b27-4d09-b8f7-44f819dbccae",
        "colab": {
          "base_uri": "https://localhost:8080/",
          "height": 359
        }
      },
      "source": [
        "df.createOrReplaceTempView(\"videogame_sales\")\n",
        "\n",
        "sales_2000 = spark.sql(\"\"\"\n",
        "    SELECT \n",
        "      Name, \n",
        "      Global_Sales\n",
        "    FROM videogame_sales\n",
        "    WHERE Year <= 2000\n",
        "    ORDER BY Global_Sales DESC\n",
        "    LIMIT 10\n",
        "\"\"\")\n",
        "\n",
        "display_df(sales_2000)"
      ],
      "execution_count": 119,
      "outputs": [
        {
          "output_type": "execute_result",
          "data": {
            "text/html": [
              "<div>\n",
              "<style scoped>\n",
              "    .dataframe tbody tr th:only-of-type {\n",
              "        vertical-align: middle;\n",
              "    }\n",
              "\n",
              "    .dataframe tbody tr th {\n",
              "        vertical-align: top;\n",
              "    }\n",
              "\n",
              "    .dataframe thead th {\n",
              "        text-align: right;\n",
              "    }\n",
              "</style>\n",
              "<table border=\"1\" class=\"dataframe\">\n",
              "  <thead>\n",
              "    <tr style=\"text-align: right;\">\n",
              "      <th></th>\n",
              "      <th>Name</th>\n",
              "      <th>Global_Sales</th>\n",
              "    </tr>\n",
              "  </thead>\n",
              "  <tbody>\n",
              "    <tr>\n",
              "      <th>0</th>\n",
              "      <td>Super Mario Bros.</td>\n",
              "      <td>40.24</td>\n",
              "    </tr>\n",
              "    <tr>\n",
              "      <th>1</th>\n",
              "      <td>Pokemon Red/Pokemon Blue</td>\n",
              "      <td>31.37</td>\n",
              "    </tr>\n",
              "    <tr>\n",
              "      <th>2</th>\n",
              "      <td>Tetris</td>\n",
              "      <td>30.26</td>\n",
              "    </tr>\n",
              "    <tr>\n",
              "      <th>3</th>\n",
              "      <td>Duck Hunt</td>\n",
              "      <td>28.31</td>\n",
              "    </tr>\n",
              "    <tr>\n",
              "      <th>4</th>\n",
              "      <td>Pokemon Gold/Pokemon Silver</td>\n",
              "      <td>23.10</td>\n",
              "    </tr>\n",
              "    <tr>\n",
              "      <th>5</th>\n",
              "      <td>Super Mario World</td>\n",
              "      <td>20.61</td>\n",
              "    </tr>\n",
              "    <tr>\n",
              "      <th>6</th>\n",
              "      <td>Super Mario Land</td>\n",
              "      <td>18.14</td>\n",
              "    </tr>\n",
              "    <tr>\n",
              "      <th>7</th>\n",
              "      <td>Super Mario Bros. 3</td>\n",
              "      <td>17.28</td>\n",
              "    </tr>\n",
              "    <tr>\n",
              "      <th>8</th>\n",
              "      <td>Pokémon Yellow: Special Pikachu Edition</td>\n",
              "      <td>14.64</td>\n",
              "    </tr>\n",
              "    <tr>\n",
              "      <th>9</th>\n",
              "      <td>Super Mario 64</td>\n",
              "      <td>11.89</td>\n",
              "    </tr>\n",
              "  </tbody>\n",
              "</table>\n",
              "</div>"
            ],
            "text/plain": [
              "                                      Name  Global_Sales\n",
              "0                        Super Mario Bros.         40.24\n",
              "1                 Pokemon Red/Pokemon Blue         31.37\n",
              "2                                   Tetris         30.26\n",
              "3                                Duck Hunt         28.31\n",
              "4              Pokemon Gold/Pokemon Silver         23.10\n",
              "5                        Super Mario World         20.61\n",
              "6                         Super Mario Land         18.14\n",
              "7                      Super Mario Bros. 3         17.28\n",
              "8  Pokémon Yellow: Special Pikachu Edition         14.64\n",
              "9                           Super Mario 64         11.89"
            ]
          },
          "metadata": {
            "tags": []
          },
          "execution_count": 119
        }
      ]
    },
    {
      "cell_type": "markdown",
      "metadata": {
        "id": "dOF3BZ2i96vy"
      },
      "source": [
        "### Qual foi o total de vendas em NA e Global por Platform no ano de 2005?\n",
        "**Pyspark API**"
      ]
    },
    {
      "cell_type": "code",
      "metadata": {
        "id": "ZC4uwVbcuN5Y",
        "outputId": "741bfa49-8c43-43ba-f502-692d187cae5c",
        "colab": {
          "base_uri": "https://localhost:8080/"
        }
      },
      "source": [
        "df.select(\"Platform\", \"Global_Sales\") \\\n",
        "    .filter(f.col(\"Year\") == 2005) \\\n",
        "    .groupBy(\"Platform\") \\\n",
        "    .sum(\"Global_Sales\")"
      ],
      "execution_count": 120,
      "outputs": [
        {
          "output_type": "execute_result",
          "data": {
            "text/plain": [
              "DataFrame[Platform: string, sum(Global_Sales): double]"
            ]
          },
          "metadata": {
            "tags": []
          },
          "execution_count": 120
        }
      ]
    },
    {
      "cell_type": "code",
      "metadata": {
        "id": "L6mPkVDA9rZe",
        "outputId": "ab06367c-4c2d-46db-890c-ad21ffcfa4ff",
        "colab": {
          "base_uri": "https://localhost:8080/",
          "height": 297
        }
      },
      "source": [
        "import pyspark.sql.functions as f\n",
        "\n",
        "# df -> T1 -> df2\n",
        "# df2 -> T2 -> df3\n",
        "# df3 -> T3 (group by + agg) -> df4\n",
        "# df4 -> T4 -> df5\n",
        "# df5 -> A1\n",
        "\n",
        "sales_publisher_2005 = df.select(\"Platform\", \"Global_Sales\", \"NA_Sales\") \\\n",
        "    .filter(f.col(\"Year\") == 2005) \\\n",
        "    .groupBy(\"Platform\") \\\n",
        "    .agg(\n",
        "        f.sum(\"Global_sales\").alias(\"Global_sales_Total\"), \n",
        "        f.sum(\"NA_Sales\").alias(\"NA_Sales_Total\")\n",
        "    ) \\\n",
        "    .orderBy(f.desc(\"Global_sales_Total\"))\n",
        "\n",
        "display_df(sales_publisher_2005)"
      ],
      "execution_count": 121,
      "outputs": [
        {
          "output_type": "execute_result",
          "data": {
            "text/html": [
              "<div>\n",
              "<style scoped>\n",
              "    .dataframe tbody tr th:only-of-type {\n",
              "        vertical-align: middle;\n",
              "    }\n",
              "\n",
              "    .dataframe tbody tr th {\n",
              "        vertical-align: top;\n",
              "    }\n",
              "\n",
              "    .dataframe thead th {\n",
              "        text-align: right;\n",
              "    }\n",
              "</style>\n",
              "<table border=\"1\" class=\"dataframe\">\n",
              "  <thead>\n",
              "    <tr style=\"text-align: right;\">\n",
              "      <th></th>\n",
              "      <th>Platform</th>\n",
              "      <th>Global_sales_Total</th>\n",
              "      <th>NA_Sales_Total</th>\n",
              "    </tr>\n",
              "  </thead>\n",
              "  <tbody>\n",
              "    <tr>\n",
              "      <th>0</th>\n",
              "      <td>PS2</td>\n",
              "      <td>160.65</td>\n",
              "      <td>85.60</td>\n",
              "    </tr>\n",
              "    <tr>\n",
              "      <th>1</th>\n",
              "      <td>DS</td>\n",
              "      <td>131.40</td>\n",
              "      <td>48.47</td>\n",
              "    </tr>\n",
              "    <tr>\n",
              "      <th>2</th>\n",
              "      <td>XB</td>\n",
              "      <td>49.17</td>\n",
              "      <td>34.84</td>\n",
              "    </tr>\n",
              "    <tr>\n",
              "      <th>3</th>\n",
              "      <td>PSP</td>\n",
              "      <td>44.23</td>\n",
              "      <td>24.48</td>\n",
              "    </tr>\n",
              "    <tr>\n",
              "      <th>4</th>\n",
              "      <td>GBA</td>\n",
              "      <td>33.90</td>\n",
              "      <td>21.70</td>\n",
              "    </tr>\n",
              "    <tr>\n",
              "      <th>5</th>\n",
              "      <td>GC</td>\n",
              "      <td>27.80</td>\n",
              "      <td>19.25</td>\n",
              "    </tr>\n",
              "    <tr>\n",
              "      <th>6</th>\n",
              "      <td>X360</td>\n",
              "      <td>8.32</td>\n",
              "      <td>6.89</td>\n",
              "    </tr>\n",
              "    <tr>\n",
              "      <th>7</th>\n",
              "      <td>PC</td>\n",
              "      <td>4.47</td>\n",
              "      <td>1.38</td>\n",
              "    </tr>\n",
              "  </tbody>\n",
              "</table>\n",
              "</div>"
            ],
            "text/plain": [
              "  Platform  Global_sales_Total  NA_Sales_Total\n",
              "0      PS2              160.65           85.60\n",
              "1       DS              131.40           48.47\n",
              "2       XB               49.17           34.84\n",
              "3      PSP               44.23           24.48\n",
              "4      GBA               33.90           21.70\n",
              "5       GC               27.80           19.25\n",
              "6     X360                8.32            6.89\n",
              "7       PC                4.47            1.38"
            ]
          },
          "metadata": {
            "tags": []
          },
          "execution_count": 121
        }
      ]
    },
    {
      "cell_type": "markdown",
      "metadata": {
        "id": "-xJv6E0V-T4C"
      },
      "source": [
        "**Spark SQL**"
      ]
    },
    {
      "cell_type": "code",
      "metadata": {
        "id": "qciGUAp0-OZR",
        "outputId": "9af488f1-a86e-4d69-bf9c-ce236283e720",
        "colab": {
          "base_uri": "https://localhost:8080/",
          "height": 297
        }
      },
      "source": [
        "\n",
        "df.createOrReplaceTempView(\"videogame_sales\")\n",
        "\n",
        "sales_publisher_2005 = spark.sql(\"\"\"\n",
        "    SELECT Platform, \n",
        "        SUM(Global_Sales) AS Global_sales_Total, \n",
        "        SUM(NA_Sales) AS NA_Sales_Total\n",
        "    FROM videogame_sales\n",
        "    WHERE Year = 2005\n",
        "    GROUP BY Platform\n",
        "    ORDER BY Global_sales_Total DESC\n",
        "\"\"\")\n",
        "\n",
        "display_df(sales_publisher_2005)"
      ],
      "execution_count": 122,
      "outputs": [
        {
          "output_type": "execute_result",
          "data": {
            "text/html": [
              "<div>\n",
              "<style scoped>\n",
              "    .dataframe tbody tr th:only-of-type {\n",
              "        vertical-align: middle;\n",
              "    }\n",
              "\n",
              "    .dataframe tbody tr th {\n",
              "        vertical-align: top;\n",
              "    }\n",
              "\n",
              "    .dataframe thead th {\n",
              "        text-align: right;\n",
              "    }\n",
              "</style>\n",
              "<table border=\"1\" class=\"dataframe\">\n",
              "  <thead>\n",
              "    <tr style=\"text-align: right;\">\n",
              "      <th></th>\n",
              "      <th>Platform</th>\n",
              "      <th>Global_sales_Total</th>\n",
              "      <th>NA_Sales_Total</th>\n",
              "    </tr>\n",
              "  </thead>\n",
              "  <tbody>\n",
              "    <tr>\n",
              "      <th>0</th>\n",
              "      <td>PS2</td>\n",
              "      <td>160.65</td>\n",
              "      <td>85.60</td>\n",
              "    </tr>\n",
              "    <tr>\n",
              "      <th>1</th>\n",
              "      <td>DS</td>\n",
              "      <td>131.40</td>\n",
              "      <td>48.47</td>\n",
              "    </tr>\n",
              "    <tr>\n",
              "      <th>2</th>\n",
              "      <td>XB</td>\n",
              "      <td>49.17</td>\n",
              "      <td>34.84</td>\n",
              "    </tr>\n",
              "    <tr>\n",
              "      <th>3</th>\n",
              "      <td>PSP</td>\n",
              "      <td>44.23</td>\n",
              "      <td>24.48</td>\n",
              "    </tr>\n",
              "    <tr>\n",
              "      <th>4</th>\n",
              "      <td>GBA</td>\n",
              "      <td>33.90</td>\n",
              "      <td>21.70</td>\n",
              "    </tr>\n",
              "    <tr>\n",
              "      <th>5</th>\n",
              "      <td>GC</td>\n",
              "      <td>27.80</td>\n",
              "      <td>19.25</td>\n",
              "    </tr>\n",
              "    <tr>\n",
              "      <th>6</th>\n",
              "      <td>X360</td>\n",
              "      <td>8.32</td>\n",
              "      <td>6.89</td>\n",
              "    </tr>\n",
              "    <tr>\n",
              "      <th>7</th>\n",
              "      <td>PC</td>\n",
              "      <td>4.47</td>\n",
              "      <td>1.38</td>\n",
              "    </tr>\n",
              "  </tbody>\n",
              "</table>\n",
              "</div>"
            ],
            "text/plain": [
              "  Platform  Global_sales_Total  NA_Sales_Total\n",
              "0      PS2              160.65           85.60\n",
              "1       DS              131.40           48.47\n",
              "2       XB               49.17           34.84\n",
              "3      PSP               44.23           24.48\n",
              "4      GBA               33.90           21.70\n",
              "5       GC               27.80           19.25\n",
              "6     X360                8.32            6.89\n",
              "7       PC                4.47            1.38"
            ]
          },
          "metadata": {
            "tags": []
          },
          "execution_count": 122
        }
      ]
    },
    {
      "cell_type": "markdown",
      "metadata": {
        "id": "E_8IIFgc-ezI"
      },
      "source": [
        "### Qual foi a evolução das arrecadações globais das plataformas PS2, PS3 e X360 ao longo dos anos?\n",
        "\n",
        "O objetivo aqui é exibir um gráfico de linha com a evolução das arrecadações nas plataformas ao longo do tempo. Utilizaremos a API Pyspark para realizar essa plotagem\n",
        "\n"
      ]
    },
    {
      "cell_type": "code",
      "metadata": {
        "id": "LU4Uukll-Xvm",
        "outputId": "086ad819-0c76-4cd0-d86e-9a24eaa05cf8",
        "colab": {
          "base_uri": "https://localhost:8080/",
          "height": 669
        }
      },
      "source": [
        "import pyspark.sql.functions as f\n",
        "\n",
        "timeline_sales = df.select(\"Platform\", \"Global_Sales\", \"Year\") \\\n",
        "    .where(\"Platform in ('PS2', 'PS3', 'X360')\") \\\n",
        "    .groupBy(\"Year\", \"Platform\") \\\n",
        "    .agg(\n",
        "        f.sum(\"Global_sales\").alias(\"Global_sales_Total\")\n",
        "    ) \\\n",
        "    .orderBy(f.asc(\"Year\"))\n",
        "\n",
        "display_df(timeline_sales)"
      ],
      "execution_count": 123,
      "outputs": [
        {
          "output_type": "execute_result",
          "data": {
            "text/html": [
              "<div>\n",
              "<style scoped>\n",
              "    .dataframe tbody tr th:only-of-type {\n",
              "        vertical-align: middle;\n",
              "    }\n",
              "\n",
              "    .dataframe tbody tr th {\n",
              "        vertical-align: top;\n",
              "    }\n",
              "\n",
              "    .dataframe thead th {\n",
              "        text-align: right;\n",
              "    }\n",
              "</style>\n",
              "<table border=\"1\" class=\"dataframe\">\n",
              "  <thead>\n",
              "    <tr style=\"text-align: right;\">\n",
              "      <th></th>\n",
              "      <th>Year</th>\n",
              "      <th>Platform</th>\n",
              "      <th>Global_sales_Total</th>\n",
              "    </tr>\n",
              "  </thead>\n",
              "  <tbody>\n",
              "    <tr>\n",
              "      <th>0</th>\n",
              "      <td>2000</td>\n",
              "      <td>PS2</td>\n",
              "      <td>39.11</td>\n",
              "    </tr>\n",
              "    <tr>\n",
              "      <th>1</th>\n",
              "      <td>2001</td>\n",
              "      <td>PS2</td>\n",
              "      <td>166.43</td>\n",
              "    </tr>\n",
              "    <tr>\n",
              "      <th>2</th>\n",
              "      <td>2002</td>\n",
              "      <td>PS2</td>\n",
              "      <td>205.11</td>\n",
              "    </tr>\n",
              "    <tr>\n",
              "      <th>3</th>\n",
              "      <td>2003</td>\n",
              "      <td>PS2</td>\n",
              "      <td>184.29</td>\n",
              "    </tr>\n",
              "    <tr>\n",
              "      <th>4</th>\n",
              "      <td>2004</td>\n",
              "      <td>PS2</td>\n",
              "      <td>211.78</td>\n",
              "    </tr>\n",
              "    <tr>\n",
              "      <th>5</th>\n",
              "      <td>2005</td>\n",
              "      <td>PS2</td>\n",
              "      <td>160.65</td>\n",
              "    </tr>\n",
              "    <tr>\n",
              "      <th>6</th>\n",
              "      <td>2005</td>\n",
              "      <td>X360</td>\n",
              "      <td>8.32</td>\n",
              "    </tr>\n",
              "    <tr>\n",
              "      <th>7</th>\n",
              "      <td>2006</td>\n",
              "      <td>X360</td>\n",
              "      <td>51.88</td>\n",
              "    </tr>\n",
              "    <tr>\n",
              "      <th>8</th>\n",
              "      <td>2006</td>\n",
              "      <td>PS2</td>\n",
              "      <td>103.42</td>\n",
              "    </tr>\n",
              "    <tr>\n",
              "      <th>9</th>\n",
              "      <td>2006</td>\n",
              "      <td>PS3</td>\n",
              "      <td>21.07</td>\n",
              "    </tr>\n",
              "    <tr>\n",
              "      <th>10</th>\n",
              "      <td>2007</td>\n",
              "      <td>PS2</td>\n",
              "      <td>76.00</td>\n",
              "    </tr>\n",
              "    <tr>\n",
              "      <th>11</th>\n",
              "      <td>2007</td>\n",
              "      <td>X360</td>\n",
              "      <td>95.84</td>\n",
              "    </tr>\n",
              "    <tr>\n",
              "      <th>12</th>\n",
              "      <td>2007</td>\n",
              "      <td>PS3</td>\n",
              "      <td>73.81</td>\n",
              "    </tr>\n",
              "    <tr>\n",
              "      <th>13</th>\n",
              "      <td>2008</td>\n",
              "      <td>PS2</td>\n",
              "      <td>53.83</td>\n",
              "    </tr>\n",
              "    <tr>\n",
              "      <th>14</th>\n",
              "      <td>2008</td>\n",
              "      <td>PS3</td>\n",
              "      <td>119.69</td>\n",
              "    </tr>\n",
              "    <tr>\n",
              "      <th>15</th>\n",
              "      <td>2008</td>\n",
              "      <td>X360</td>\n",
              "      <td>135.76</td>\n",
              "    </tr>\n",
              "    <tr>\n",
              "      <th>16</th>\n",
              "      <td>2009</td>\n",
              "      <td>X360</td>\n",
              "      <td>120.85</td>\n",
              "    </tr>\n",
              "    <tr>\n",
              "      <th>17</th>\n",
              "      <td>2009</td>\n",
              "      <td>PS3</td>\n",
              "      <td>132.34</td>\n",
              "    </tr>\n",
              "    <tr>\n",
              "      <th>18</th>\n",
              "      <td>2009</td>\n",
              "      <td>PS2</td>\n",
              "      <td>26.74</td>\n",
              "    </tr>\n",
              "    <tr>\n",
              "      <th>19</th>\n",
              "      <td>2010</td>\n",
              "      <td>X360</td>\n",
              "      <td>171.05</td>\n",
              "    </tr>\n",
              "  </tbody>\n",
              "</table>\n",
              "</div>"
            ],
            "text/plain": [
              "    Year Platform  Global_sales_Total\n",
              "0   2000      PS2               39.11\n",
              "1   2001      PS2              166.43\n",
              "2   2002      PS2              205.11\n",
              "3   2003      PS2              184.29\n",
              "4   2004      PS2              211.78\n",
              "5   2005      PS2              160.65\n",
              "6   2005     X360                8.32\n",
              "7   2006     X360               51.88\n",
              "8   2006      PS2              103.42\n",
              "9   2006      PS3               21.07\n",
              "10  2007      PS2               76.00\n",
              "11  2007     X360               95.84\n",
              "12  2007      PS3               73.81\n",
              "13  2008      PS2               53.83\n",
              "14  2008      PS3              119.69\n",
              "15  2008     X360              135.76\n",
              "16  2009     X360              120.85\n",
              "17  2009      PS3              132.34\n",
              "18  2009      PS2               26.74\n",
              "19  2010     X360              171.05"
            ]
          },
          "metadata": {
            "tags": []
          },
          "execution_count": 123
        }
      ]
    },
    {
      "cell_type": "markdown",
      "metadata": {
        "id": "H95a8550-2wY"
      },
      "source": [
        "Plotando a série temporal das vendas das plataformas (pivoteamento necessário)"
      ]
    },
    {
      "cell_type": "code",
      "metadata": {
        "id": "xAlnbEh8-2LG",
        "outputId": "72657cd8-2c0d-48ac-aeeb-bdbfba7771cf",
        "colab": {
          "base_uri": "https://localhost:8080/",
          "height": 296
        }
      },
      "source": [
        "import pyspark.sql.functions as f\n",
        "import matplotlib.pyplot as plt\n",
        "\n",
        "%matplotlib inline\n",
        "\n",
        "timeline_sales_pivot = timeline_sales \\\n",
        "    .groupBy(\"Year\")\\\n",
        "    .pivot(\"Platform\")\\\n",
        "    .agg(f.sum(\"Global_sales_Total\"))\n",
        "\n",
        "#display_df(timeline_sales_pivot)\n",
        "\n",
        "timeline_sales_pivot.toPandas()\\\n",
        "   .set_index(\"Year\").plot()"
      ],
      "execution_count": 124,
      "outputs": [
        {
          "output_type": "execute_result",
          "data": {
            "text/plain": [
              "<matplotlib.axes._subplots.AxesSubplot at 0x7fe5c032c668>"
            ]
          },
          "metadata": {
            "tags": []
          },
          "execution_count": 124
        },
        {
          "output_type": "display_data",
          "data": {
            "image/png": "[encoded data removed]",
            "text/plain": [
              "<Figure size 432x288 with 1 Axes>"
            ]
          },
          "metadata": {
            "tags": [],
            "needs_background": "light"
          }
        }
      ]
    },
    {
      "cell_type": "markdown",
      "metadata": {
        "id": "E2wJaU6z_LPf"
      },
      "source": [
        "# Exercícios - pt1\n",
        "\n",
        "1)  Utilizando a API em Python do Spark (PySpark) retorne um novo dataframe contendo duas colunas: o nome do console (coluna Platform) e a contagem de jogos em cada plataforma no ano de 2010, ordenado pela contagem decrescentemente:"
      ]
    },
    {
      "cell_type": "code",
      "metadata": {
        "id": "SJI_AGqa-6pM",
        "outputId": "c57facb4-5234-4fe4-970a-e9bd8212f473",
        "colab": {
          "base_uri": "https://localhost:8080/",
          "height": 130
        }
      },
      "source": [
        "import pyspark.sql.functions as f\n",
        "\n",
        "# df -> T1 -> df2\n",
        "# df2 -> T2 -> df3\n",
        "# df3 -> T3 -> df4\n",
        "# df4 -> T4 -> df5\n",
        "# df5 -> A1\n",
        "\n",
        "consoles_2010 = df.select(\"Platform\", \"Name\", \"Year\") \\\n",
        "  .filte(f.col(\"Year\") == 2010) \\\n",
        "  .groupBy(\"Platform\") \\\n",
        "  .agg(f.count(\"Name\").alias(\"Jogos\"))   \n",
        "  .orderBy(f.desc(\"Platform\"))\n",
        " \n",
        "display_df(consoles_2010) "
      ],
      "execution_count": 125,
      "outputs": [
        {
          "output_type": "error",
          "ename": "IndentationError",
          "evalue": "ignored",
          "traceback": [
            "\u001b[0;36m  File \u001b[0;32m\"<ipython-input-125-2ae305e6c558>\"\u001b[0;36m, line \u001b[0;32m10\u001b[0m\n\u001b[0;31m    .orderBy(f.desc(\"Platform\"))\u001b[0m\n\u001b[0m    ^\u001b[0m\n\u001b[0;31mIndentationError\u001b[0m\u001b[0;31m:\u001b[0m unexpected indent\n"
          ]
        }
      ]
    },
    {
      "cell_type": "markdown",
      "metadata": {
        "id": "DTJufXof_l4p"
      },
      "source": [
        "2)  Utilizando SQL, retorne o total arrecadado (coluna Global_Sales) por produtora (coluna Publisher) entre os anos 2000 e 2010 ordenado decrescentemente pelo total arrecadado"
      ]
    },
    {
      "cell_type": "code",
      "metadata": {
        "id": "y-CufjkV_qHe",
        "outputId": "9ae48993-6086-4a1c-f207-6f566b5f7d8f",
        "colab": {
          "base_uri": "https://localhost:8080/",
          "height": 297
        }
      },
      "source": [
        "df.createOrReplaceTempView(\"videogame_sales\")\n",
        "\n",
        "sales_publisher_2005 = spark.sql(\"\"\"\n",
        "    SELECT Platform, \n",
        "        SUM(Global_Sales) AS Global_sales_Total, \n",
        "        SUM(NA_Sales) AS NA_Sales_Total\n",
        "    FROM videogame_sales\n",
        "    WHERE Year = 2005\n",
        "    GROUP BY Platform\n",
        "    ORDER BY Global_sales_Total DESC\n",
        "\"\"\")\n",
        "\n",
        "display_df(sales_publisher_2005)"
      ],
      "execution_count": 94,
      "outputs": [
        {
          "output_type": "execute_result",
          "data": {
            "text/html": [
              "<div>\n",
              "<style scoped>\n",
              "    .dataframe tbody tr th:only-of-type {\n",
              "        vertical-align: middle;\n",
              "    }\n",
              "\n",
              "    .dataframe tbody tr th {\n",
              "        vertical-align: top;\n",
              "    }\n",
              "\n",
              "    .dataframe thead th {\n",
              "        text-align: right;\n",
              "    }\n",
              "</style>\n",
              "<table border=\"1\" class=\"dataframe\">\n",
              "  <thead>\n",
              "    <tr style=\"text-align: right;\">\n",
              "      <th></th>\n",
              "      <th>Platform</th>\n",
              "      <th>Global_sales_Total</th>\n",
              "      <th>NA_Sales_Total</th>\n",
              "    </tr>\n",
              "  </thead>\n",
              "  <tbody>\n",
              "    <tr>\n",
              "      <th>0</th>\n",
              "      <td>PS2</td>\n",
              "      <td>160.65</td>\n",
              "      <td>85.60</td>\n",
              "    </tr>\n",
              "    <tr>\n",
              "      <th>1</th>\n",
              "      <td>DS</td>\n",
              "      <td>131.40</td>\n",
              "      <td>48.47</td>\n",
              "    </tr>\n",
              "    <tr>\n",
              "      <th>2</th>\n",
              "      <td>XB</td>\n",
              "      <td>49.17</td>\n",
              "      <td>34.84</td>\n",
              "    </tr>\n",
              "    <tr>\n",
              "      <th>3</th>\n",
              "      <td>PSP</td>\n",
              "      <td>44.23</td>\n",
              "      <td>24.48</td>\n",
              "    </tr>\n",
              "    <tr>\n",
              "      <th>4</th>\n",
              "      <td>GBA</td>\n",
              "      <td>33.90</td>\n",
              "      <td>21.70</td>\n",
              "    </tr>\n",
              "    <tr>\n",
              "      <th>5</th>\n",
              "      <td>GC</td>\n",
              "      <td>27.80</td>\n",
              "      <td>19.25</td>\n",
              "    </tr>\n",
              "    <tr>\n",
              "      <th>6</th>\n",
              "      <td>X360</td>\n",
              "      <td>8.32</td>\n",
              "      <td>6.89</td>\n",
              "    </tr>\n",
              "    <tr>\n",
              "      <th>7</th>\n",
              "      <td>PC</td>\n",
              "      <td>4.47</td>\n",
              "      <td>1.38</td>\n",
              "    </tr>\n",
              "  </tbody>\n",
              "</table>\n",
              "</div>"
            ],
            "text/plain": [
              "  Platform  Global_sales_Total  NA_Sales_Total\n",
              "0      PS2              160.65           85.60\n",
              "1       DS              131.40           48.47\n",
              "2       XB               49.17           34.84\n",
              "3      PSP               44.23           24.48\n",
              "4      GBA               33.90           21.70\n",
              "5       GC               27.80           19.25\n",
              "6     X360                8.32            6.89\n",
              "7       PC                4.47            1.38"
            ]
          },
          "metadata": {
            "tags": []
          },
          "execution_count": 94
        }
      ]
    },
    {
      "cell_type": "markdown",
      "metadata": {
        "id": "l607gicS_sqP"
      },
      "source": [
        "3) Utilizando a API em Python do Spark (PySpark), escreva uma sequência de transformações que retorne um dataframe contendo o total das vendas Global_Sales por Publisher em cada ano compreendido entre 2000 e 2010:"
      ]
    },
    {
      "cell_type": "code",
      "metadata": {
        "id": "Nm4n5wce_xAe",
        "outputId": "a6ec8222-598f-4d94-e677-3f96357ca3f9",
        "colab": {
          "base_uri": "https://localhost:8080/",
          "height": 358
        }
      },
      "source": [
        "import pyspark.sql.functions as f\n",
        "\n",
        "df4 = df.select(\"Publisher\", \"Year\", \"Global_Sales\")\\\n",
        "  .filter((f.col(\"Year\")>= 2000)&(f.col(\"Year\") <=2010))\\\n",
        "  .groupBy(\"Pulisher\")\\\n",
        "  .pivot(\"Year\")\\\n",
        "  .agg(f.sum(\"Global_Sales\"))\\\n",
        "  .na.fill(0)\n",
        "\n",
        "display_df(df4)"
      ],
      "execution_count": 95,
      "outputs": [
        {
          "output_type": "error",
          "ename": "AnalysisException",
          "evalue": "ignored",
          "traceback": [
            "\u001b[0;31m---------------------------------------------------------------------------\u001b[0m",
            "\u001b[0;31mAnalysisException\u001b[0m                         Traceback (most recent call last)",
            "\u001b[0;32m<ipython-input-95-3589b326ec8d>\u001b[0m in \u001b[0;36m<module>\u001b[0;34m()\u001b[0m\n\u001b[1;32m      1\u001b[0m \u001b[0;32mimport\u001b[0m \u001b[0mpyspark\u001b[0m\u001b[0;34m.\u001b[0m\u001b[0msql\u001b[0m\u001b[0;34m.\u001b[0m\u001b[0mfunctions\u001b[0m \u001b[0;32mas\u001b[0m \u001b[0mf\u001b[0m\u001b[0;34m\u001b[0m\u001b[0;34m\u001b[0m\u001b[0m\n\u001b[1;32m      2\u001b[0m \u001b[0;34m\u001b[0m\u001b[0m\n\u001b[0;32m----> 3\u001b[0;31m \u001b[0mdf4\u001b[0m \u001b[0;34m=\u001b[0m \u001b[0mdf\u001b[0m\u001b[0;34m.\u001b[0m\u001b[0mselect\u001b[0m\u001b[0;34m(\u001b[0m\u001b[0;34m\"Publisher\"\u001b[0m\u001b[0;34m,\u001b[0m \u001b[0;34m\"Year\"\u001b[0m\u001b[0;34m,\u001b[0m \u001b[0;34m\"Global_Sales\"\u001b[0m\u001b[0;34m)\u001b[0m  \u001b[0;34m.\u001b[0m\u001b[0mfilter\u001b[0m\u001b[0;34m(\u001b[0m\u001b[0;34m(\u001b[0m\u001b[0mf\u001b[0m\u001b[0;34m.\u001b[0m\u001b[0mcol\u001b[0m\u001b[0;34m(\u001b[0m\u001b[0;34m\"Year\"\u001b[0m\u001b[0;34m)\u001b[0m\u001b[0;34m>=\u001b[0m \u001b[0;36m2000\u001b[0m\u001b[0;34m)\u001b[0m\u001b[0;34m&\u001b[0m\u001b[0;34m(\u001b[0m\u001b[0mf\u001b[0m\u001b[0;34m.\u001b[0m\u001b[0mcol\u001b[0m\u001b[0;34m(\u001b[0m\u001b[0;34m\"Year\"\u001b[0m\u001b[0;34m)\u001b[0m \u001b[0;34m<=\u001b[0m\u001b[0;36m2010\u001b[0m\u001b[0;34m)\u001b[0m\u001b[0;34m)\u001b[0m  \u001b[0;34m.\u001b[0m\u001b[0mgroupBy\u001b[0m\u001b[0;34m(\u001b[0m\u001b[0;34m\"Pulisher\"\u001b[0m\u001b[0;34m)\u001b[0m  \u001b[0;34m.\u001b[0m\u001b[0mpivot\u001b[0m\u001b[0;34m(\u001b[0m\u001b[0;34m\"Year\"\u001b[0m\u001b[0;34m)\u001b[0m  \u001b[0;34m.\u001b[0m\u001b[0magg\u001b[0m\u001b[0;34m(\u001b[0m\u001b[0mf\u001b[0m\u001b[0;34m.\u001b[0m\u001b[0msum\u001b[0m\u001b[0;34m(\u001b[0m\u001b[0;34m\"Global_Sales\"\u001b[0m\u001b[0;34m)\u001b[0m\u001b[0;34m)\u001b[0m  \u001b[0;34m.\u001b[0m\u001b[0mna\u001b[0m\u001b[0;34m.\u001b[0m\u001b[0mfill\u001b[0m\u001b[0;34m(\u001b[0m\u001b[0;36m0\u001b[0m\u001b[0;34m)\u001b[0m\u001b[0;34m\u001b[0m\u001b[0;34m\u001b[0m\u001b[0m\n\u001b[0m\u001b[1;32m      4\u001b[0m \u001b[0;34m\u001b[0m\u001b[0m\n\u001b[1;32m      5\u001b[0m \u001b[0mdisplay_df\u001b[0m\u001b[0;34m(\u001b[0m\u001b[0mdf4\u001b[0m\u001b[0;34m)\u001b[0m\u001b[0;34m\u001b[0m\u001b[0;34m\u001b[0m\u001b[0m\n",
            "\u001b[0;32m/usr/local/lib/python3.6/dist-packages/pyspark/sql/group.py\u001b[0m in \u001b[0;36magg\u001b[0;34m(self, *exprs)\u001b[0m\n\u001b[1;32m    112\u001b[0m             \u001b[0;32massert\u001b[0m \u001b[0mall\u001b[0m\u001b[0;34m(\u001b[0m\u001b[0misinstance\u001b[0m\u001b[0;34m(\u001b[0m\u001b[0mc\u001b[0m\u001b[0;34m,\u001b[0m \u001b[0mColumn\u001b[0m\u001b[0;34m)\u001b[0m \u001b[0;32mfor\u001b[0m \u001b[0mc\u001b[0m \u001b[0;32min\u001b[0m \u001b[0mexprs\u001b[0m\u001b[0;34m)\u001b[0m\u001b[0;34m,\u001b[0m \u001b[0;34m\"all exprs should be Column\"\u001b[0m\u001b[0;34m\u001b[0m\u001b[0;34m\u001b[0m\u001b[0m\n\u001b[1;32m    113\u001b[0m             jdf = self._jgd.agg(exprs[0]._jc,\n\u001b[0;32m--> 114\u001b[0;31m                                 _to_seq(self.sql_ctx._sc, [c._jc for c in exprs[1:]]))\n\u001b[0m\u001b[1;32m    115\u001b[0m         \u001b[0;32mreturn\u001b[0m \u001b[0mDataFrame\u001b[0m\u001b[0;34m(\u001b[0m\u001b[0mjdf\u001b[0m\u001b[0;34m,\u001b[0m \u001b[0mself\u001b[0m\u001b[0;34m.\u001b[0m\u001b[0msql_ctx\u001b[0m\u001b[0;34m)\u001b[0m\u001b[0;34m\u001b[0m\u001b[0;34m\u001b[0m\u001b[0m\n\u001b[1;32m    116\u001b[0m \u001b[0;34m\u001b[0m\u001b[0m\n",
            "\u001b[0;32m/usr/local/lib/python3.6/dist-packages/py4j/java_gateway.py\u001b[0m in \u001b[0;36m__call__\u001b[0;34m(self, *args)\u001b[0m\n\u001b[1;32m   1303\u001b[0m         \u001b[0manswer\u001b[0m \u001b[0;34m=\u001b[0m \u001b[0mself\u001b[0m\u001b[0;34m.\u001b[0m\u001b[0mgateway_client\u001b[0m\u001b[0;34m.\u001b[0m\u001b[0msend_command\u001b[0m\u001b[0;34m(\u001b[0m\u001b[0mcommand\u001b[0m\u001b[0;34m)\u001b[0m\u001b[0;34m\u001b[0m\u001b[0;34m\u001b[0m\u001b[0m\n\u001b[1;32m   1304\u001b[0m         return_value = get_return_value(\n\u001b[0;32m-> 1305\u001b[0;31m             answer, self.gateway_client, self.target_id, self.name)\n\u001b[0m\u001b[1;32m   1306\u001b[0m \u001b[0;34m\u001b[0m\u001b[0m\n\u001b[1;32m   1307\u001b[0m         \u001b[0;32mfor\u001b[0m \u001b[0mtemp_arg\u001b[0m \u001b[0;32min\u001b[0m \u001b[0mtemp_args\u001b[0m\u001b[0;34m:\u001b[0m\u001b[0;34m\u001b[0m\u001b[0;34m\u001b[0m\u001b[0m\n",
            "\u001b[0;32m/usr/local/lib/python3.6/dist-packages/pyspark/sql/utils.py\u001b[0m in \u001b[0;36mdeco\u001b[0;34m(*a, **kw)\u001b[0m\n\u001b[1;32m    132\u001b[0m                 \u001b[0;31m# Hide where the exception came from that shows a non-Pythonic\u001b[0m\u001b[0;34m\u001b[0m\u001b[0;34m\u001b[0m\u001b[0;34m\u001b[0m\u001b[0m\n\u001b[1;32m    133\u001b[0m                 \u001b[0;31m# JVM exception message.\u001b[0m\u001b[0;34m\u001b[0m\u001b[0;34m\u001b[0m\u001b[0;34m\u001b[0m\u001b[0m\n\u001b[0;32m--> 134\u001b[0;31m                 \u001b[0mraise_from\u001b[0m\u001b[0;34m(\u001b[0m\u001b[0mconverted\u001b[0m\u001b[0;34m)\u001b[0m\u001b[0;34m\u001b[0m\u001b[0;34m\u001b[0m\u001b[0m\n\u001b[0m\u001b[1;32m    135\u001b[0m             \u001b[0;32melse\u001b[0m\u001b[0;34m:\u001b[0m\u001b[0;34m\u001b[0m\u001b[0;34m\u001b[0m\u001b[0m\n\u001b[1;32m    136\u001b[0m                 \u001b[0;32mraise\u001b[0m\u001b[0;34m\u001b[0m\u001b[0;34m\u001b[0m\u001b[0m\n",
            "\u001b[0;32m/usr/local/lib/python3.6/dist-packages/pyspark/sql/utils.py\u001b[0m in \u001b[0;36mraise_from\u001b[0;34m(e)\u001b[0m\n",
            "\u001b[0;31mAnalysisException\u001b[0m: cannot resolve '`Pulisher`' given input columns: [Global_Sales, Publisher, Year];;\n'Pivot ArrayBuffer('Pulisher), Year#113: int, [2000, 2001, 2002, 2003, 2004, 2005, 2006, 2007, 2008, 2009, 2010], [sum(Global_Sales#120)]\n+- Filter ((Year#113 >= 2000) AND (Year#113 <= 2010))\n   +- Project [Publisher#115, Year#113, Global_Sales#120]\n      +- Relation[Rank#110,Name#111,Platform#112,Year#113,Genre#114,Publisher#115,NA_Sales#116,EU_Sales#117,JP_Sales#118,Other_Sales#119,Global_Sales#120] csv\n"
          ]
        }
      ]
    },
    {
      "cell_type": "markdown",
      "metadata": {
        "id": "4uEG8UV-AZYW"
      },
      "source": [
        "# Spark UDFs\n",
        "\n",
        "UDF ou User Defined Functions são funções específicas definidas pelo usuário e disponíveis para uso em tempo de execução. Nelas, o usuário pode definir um comportamento aplicável a todo parâmetro passado a ela"
      ]
    },
    {
      "cell_type": "markdown",
      "metadata": {
        "id": "wi8MittoAii-"
      },
      "source": [
        "## UDF simples\n",
        "Aqui faremos a definição das nossas UDFs de dois modos. O primeiro é para ser utilizado com a API do Spark para Python. Já a segunda estará disponível para uso dentro do SparkSQL"
      ]
    },
    {
      "cell_type": "code",
      "metadata": {
        "id": "3CIZgRFsAa1T"
      },
      "source": [
        "from pyspark.sql.types import DoubleType\n",
        "from pyspark.sql.functions import udf\n",
        "\n",
        "# Função Python para ser utilizada nos dataframes\n",
        "def tax_collected(value):\n",
        "    return value*0.1\n",
        "\n",
        "# Conversão da função em  UDF para uso em Pyspark API\n",
        "tax_collected_udf = udf(tax_collected, DoubleType())\n",
        "\n",
        "# Conversão da função em  UDF para uso em SparkSQL\n",
        "spark.udf.register(\"tax_collected_udf_sql\", tax_collected, DoubleType())"
      ],
      "execution_count": null,
      "outputs": []
    },
    {
      "cell_type": "markdown",
      "metadata": {
        "id": "egoRj2HaAr7W"
      },
      "source": [
        "**Spark SQL**"
      ]
    },
    {
      "cell_type": "code",
      "metadata": {
        "id": "qM9GocpyAoLC"
      },
      "source": [
        "display_df(spark.sql(\"\"\"\n",
        "    SELECT Platform, \n",
        "    NA_Sales,\n",
        "    tax_collected_udf_sql(NA_Sales) as tax_collected\n",
        "    FROM videogame_sales\n",
        "    LIMIT 10    \n",
        "\"\"\"))"
      ],
      "execution_count": null,
      "outputs": []
    },
    {
      "cell_type": "markdown",
      "metadata": {
        "id": "5Y1pvcb7A2Wd"
      },
      "source": [
        "**Pyspark API**"
      ]
    },
    {
      "cell_type": "code",
      "metadata": {
        "id": "WI1YAF8YAzzn"
      },
      "source": [
        "display_df(\n",
        "    df.select(\"Platform\", \"NA_Sales\", tax_collected_udf(\"NA_Sales\").alias(\"tax_collected\")) \\\n",
        "    .limit(10)\n",
        ")\n"
      ],
      "execution_count": null,
      "outputs": []
    },
    {
      "cell_type": "markdown",
      "metadata": {
        "id": "sKFllxArBDcN"
      },
      "source": [
        "## UDF com objetos externos\n",
        "É possível criar UDFs com objetos Python, de modo que possam ser usados de forma paralela pelo cluster de Spark"
      ]
    },
    {
      "cell_type": "code",
      "metadata": {
        "id": "1lcaWFMWA4OA"
      },
      "source": [
        "import hashlib\n",
        "from pyspark.sql.types import StringType\n",
        "\n",
        "def generate_hash(value):\n",
        "    hash_object = hashlib.md5(bytes(value, 'utf8'))\n",
        "    return hash_object.hexdigest()\n",
        "\n",
        "# Uso em SparkSQL\n",
        "spark.udf.register(\"generate_hash_sql\", generate_hash, StringType())"
      ],
      "execution_count": null,
      "outputs": []
    },
    {
      "cell_type": "code",
      "metadata": {
        "id": "UoWIStG5BL6W"
      },
      "source": [
        "display_df(spark.sql(\"\"\"\n",
        "    SELECT Platform, \n",
        "    generate_hash_sql(Platform) as Platform_handle\n",
        "    FROM videogame_sales\n",
        "    LIMIT 10\n",
        "\"\"\"))"
      ],
      "execution_count": null,
      "outputs": []
    },
    {
      "cell_type": "markdown",
      "metadata": {
        "id": "7Oo-ppgVBaoM"
      },
      "source": [
        "# Joins entre Dataframes Spark\n",
        "Frequentemente, ao lidar com analise de dados utilizando o Spark ou na criação de pipelines de transformação de dados, é comum realizar a junção de diferentes bases de dados de forma a ter o dado o mais completo o possível disponível para o cientista de dados. Esse conceito é contrário ao conceito de \"Normalização\" nos tradicionais bancos de dados, conhecido como \"Desnormalização\".\n",
        "\n",
        "**Preparando os datasets**"
      ]
    },
    {
      "cell_type": "code",
      "metadata": {
        "id": "XA2TE75nBOB2"
      },
      "source": [
        "values_a = [('Pirate',1),('Monkey',2),('Ninja',3),('Spaghetti',4)]\n",
        "table_a = spark.createDataFrame(values_a,['name','id'])\n",
        " \n",
        "values_b = [('Rutabaga',1),('Pirate',2),('Ninja',3),('Darth Vader',4)]\n",
        "table_b = spark.createDataFrame(values_b,['name','id'])\n",
        "\n",
        "display_df(table_a)\n",
        "#display_df(table_b)"
      ],
      "execution_count": null,
      "outputs": []
    },
    {
      "cell_type": "markdown",
      "metadata": {
        "id": "ATnzRIhEBwqk"
      },
      "source": [
        "**Inner Join**"
      ]
    },
    {
      "cell_type": "code",
      "metadata": {
        "id": "tCRLYj62CCgj"
      },
      "source": [
        "inner_join = table_a.join(table_b, table_a.name == table_b.name)\n",
        "display_df(inner_join)"
      ],
      "execution_count": null,
      "outputs": []
    },
    {
      "cell_type": "markdown",
      "metadata": {
        "id": "Dp3tPxl7B0Uf"
      },
      "source": [
        "**Left Join**"
      ]
    },
    {
      "cell_type": "code",
      "metadata": {
        "id": "AglNAWacCHSk"
      },
      "source": [
        "left_join = table_a.join(table_b, table_a.name == table_b.name, how=\"left\") # também pode ser usado o 'left_outer'\n",
        "display_df(left_join)"
      ],
      "execution_count": null,
      "outputs": []
    },
    {
      "cell_type": "markdown",
      "metadata": {
        "id": "hiAflUHUB29V"
      },
      "source": [
        "**Right Join**"
      ]
    },
    {
      "cell_type": "code",
      "metadata": {
        "id": "4MA5IMVVCJmL"
      },
      "source": [
        "right_join = table_a.join(table_b, table_a.name == table_b.name, how=\"right\") # também pode ser usado o 'right_outer'\n",
        "display_df(right_join)"
      ],
      "execution_count": null,
      "outputs": []
    },
    {
      "cell_type": "markdown",
      "metadata": {
        "id": "N54UE2CiB5cU"
      },
      "source": [
        "**Full Join**"
      ]
    },
    {
      "cell_type": "code",
      "metadata": {
        "id": "S8ZcZ2a9CLkc"
      },
      "source": [
        "full_join = table_a.join(table_b, table_a.name == table_b.name, how=\"full\") # também pode ser usado o 'full_outer'\n",
        "display_df(full_join)"
      ],
      "execution_count": null,
      "outputs": []
    },
    {
      "cell_type": "markdown",
      "metadata": {
        "id": "clk0nb1OB-xs"
      },
      "source": [
        "**Cross join ou produto cartesiano**"
      ]
    },
    {
      "cell_type": "code",
      "metadata": {
        "id": "IBXw6XzsCNzs"
      },
      "source": [
        "cross_join = table_a.crossJoin(table_b.select(\"name\"))\n",
        "display_df(cross_join)"
      ],
      "execution_count": null,
      "outputs": []
    },
    {
      "cell_type": "markdown",
      "metadata": {
        "id": "UkgPvtn7CkCw"
      },
      "source": [
        "# Exercícios - pt2\n",
        "\n",
        "4) Utilizando o dataset vgsales, crie uma UDF que cálcule o século em que o jogo foi lançado:"
      ]
    },
    {
      "cell_type": "code",
      "metadata": {
        "id": "0ExQnoFKBpuG",
        "outputId": "4f2aec8e-56dd-429b-cd0c-97ee350ba7d3",
        "colab": {
          "base_uri": "https://localhost:8080/",
          "height": 130
        }
      },
      "source": [
        "\n",
        "    \n",
        "\n",
        "from pyspark.sql.types import IntegerType\n",
        "from pyspark.sql.functions import udf\n",
        " \n",
        "# Função Python para ser utilizada nos dataframes\n",
        "def get_seculus(value):\n",
        "  last_first_two_digits = value[0:2] \n",
        "    if value[1:3] == \"00\":\n",
        "        return int(last_first_two_digits)\n",
        "    else:\n",
        "        return int(last_first_two_digits) + 1\n",
        " \n",
        "# Conversão da função em  UDF para uso em Pyspark API\n",
        "get_seculus_udf = udf(get_seculus, IntegerType())\n",
        " \n",
        "df.select(get_seculus_udf(\"year\").alias(\"seculus\"), \"year\").show()\n",
        "\n",
        "\n",
        "\n",
        "\n",
        "# df = ..."
      ],
      "execution_count": 151,
      "outputs": [
        {
          "output_type": "error",
          "ename": "IndentationError",
          "evalue": "ignored",
          "traceback": [
            "\u001b[0;36m  File \u001b[0;32m\"<ipython-input-151-d077392f19ba>\"\u001b[0;36m, line \u001b[0;32m10\u001b[0m\n\u001b[0;31m    if value[1:3] == \"00\":\u001b[0m\n\u001b[0m    ^\u001b[0m\n\u001b[0;31mIndentationError\u001b[0m\u001b[0;31m:\u001b[0m unexpected indent\n"
          ]
        }
      ]
    },
    {
      "cell_type": "markdown",
      "metadata": {
        "id": "pmu6x923DGT0"
      },
      "source": [
        "5) Utilizando os datasets do código abaixo:"
      ]
    },
    {
      "cell_type": "code",
      "metadata": {
        "id": "5SZOZqC8C_Ek"
      },
      "source": [
        "employees = [('Joao',1),('Marcos',2),('Tiago',3),('Pedro',4), ('Maria',5), ('Marta',6)]\n",
        "employees_df = spark.createDataFrame(employees,['name','id'])\n",
        " \n",
        "deptos = [('Administrativo',1),('Financeiro',2),('Financeiro',3),('Financeiro',5),('TI',5),('TI',6)]\n",
        "deptos_df = spark.createDataFrame(deptos,['dep_name','emp_id'])"
      ],
      "execution_count": 137,
      "outputs": []
    },
    {
      "cell_type": "markdown",
      "metadata": {
        "id": "RhgSjYImEKCm"
      },
      "source": [
        "Retorne a lista de empregados (employees) e a lista de departamentos (deptos), retorne uma lista de todos os empregados que estão em um departamento:"
      ]
    },
    {
      "cell_type": "code",
      "metadata": {
        "id": "8_Dlv_1_Ed9T",
        "outputId": "a3a3bd72-7c15-4495-b539-ffdb4fb94b25",
        "colab": {
          "base_uri": "https://localhost:8080/"
        }
      },
      "source": [
        "employees_df.join(deptos_df, employees_df.id == deptos_df.emp_id).show()"
      ],
      "execution_count": 138,
      "outputs": [
        {
          "output_type": "stream",
          "text": [
            "+------+---+--------------+------+\n",
            "|  name| id|      dep_name|emp_id|\n",
            "+------+---+--------------+------+\n",
            "| Marta|  6|            TI|     6|\n",
            "| Maria|  5|    Financeiro|     5|\n",
            "| Maria|  5|            TI|     5|\n",
            "|  Joao|  1|Administrativo|     1|\n",
            "| Tiago|  3|    Financeiro|     3|\n",
            "|Marcos|  2|    Financeiro|     2|\n",
            "+------+---+--------------+------+\n",
            "\n"
          ],
          "name": "stdout"
        }
      ]
    },
    {
      "cell_type": "code",
      "metadata": {
        "id": "uT1K5l1GGada"
      },
      "source": [
        ""
      ],
      "execution_count": null,
      "outputs": []
    }
  ]
}