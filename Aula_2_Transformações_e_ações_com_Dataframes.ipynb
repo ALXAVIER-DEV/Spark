{
  "nbformat": 4,
  "nbformat_minor": 0,
  "metadata": {
    "colab": {
      "name": "Aula 2 - Transformações e ações com Dataframes",
      "provenance": [],
      "collapsed_sections": [],
      "toc_visible": true,
      "include_colab_link": true
    },
    "kernelspec": {
      "name": "python3",
      "display_name": "Python 3"
    }
  },
  "cells": [
    {
      "cell_type": "markdown",
      "metadata": {
        "id": "view-in-github",
        "colab_type": "text"
      },
      "source": [
        "<a href=\"https://colab.research.google.com/github/ALXAVIER-DEV/Spark/blob/master/Aula_2_Transforma%C3%A7%C3%B5es_e_a%C3%A7%C3%B5es_com_Dataframes.ipynb\" target=\"_parent\"><img src=\"https://colab.research.google.com/assets/colab-badge.svg\" alt=\"Open In Colab\"/></a>"
      ]
    },
    {
      "cell_type": "markdown",
      "metadata": {
        "id": "sq8U3BtmhtRx"
      },
      "source": [
        "\n",
        "# **Running Pyspark in Colab**\n",
        "\n",
        "To run spark in Colab, we need to first install all the dependencies in Colab environment i.e. Apache Spark 3.0.1 with hadoop 2.7 and Java 8. The tools installation can be carried out inside the Jupyter Notebook of the Colab. One important note is that if you are new in Spark, it is better to avoid Spark 2.4.0 version since some people have already complained about its compatibility issue with python. \n",
        "Follow the steps to install the dependencies:"
      ]
    },
    {
      "cell_type": "code",
      "metadata": {
        "id": "lh5NCoc8fsSO",
        "outputId": "ccd4a887-82a9-46f3-f2f8-15837636823d",
        "colab": {
          "base_uri": "https://localhost:8080/"
        }
      },
      "source": [
        "!apt-get install openjdk-8-jdk-headless -qq > /dev/null\n",
        "!pip install pyspark"
      ],
      "execution_count": null,
      "outputs": [
        {
          "output_type": "stream",
          "text": [
            "Collecting pyspark\n",
            "\u001b[?25l  Downloading https://files.pythonhosted.org/packages/f0/26/198fc8c0b98580f617cb03cb298c6056587b8f0447e20fa40c5b634ced77/pyspark-3.0.1.tar.gz (204.2MB)\n",
            "\u001b[K     |████████████████████████████████| 204.2MB 65kB/s \n",
            "\u001b[?25hCollecting py4j==0.10.9\n",
            "\u001b[?25l  Downloading https://files.pythonhosted.org/packages/9e/b6/6a4fb90cd235dc8e265a6a2067f2a2c99f0d91787f06aca4bcf7c23f3f80/py4j-0.10.9-py2.py3-none-any.whl (198kB)\n",
            "\u001b[K     |████████████████████████████████| 204kB 43.5MB/s \n",
            "\u001b[?25hBuilding wheels for collected packages: pyspark\n",
            "  Building wheel for pyspark (setup.py) ... \u001b[?25l\u001b[?25hdone\n",
            "  Created wheel for pyspark: filename=pyspark-3.0.1-py2.py3-none-any.whl size=204612243 sha256=34cd2820194af478984ccc987fab2d35c21947cb43ac3e655be2b9a2dc063f71\n",
            "  Stored in directory: /root/.cache/pip/wheels/5e/bd/07/031766ca628adec8435bb40f0bd83bb676ce65ff4007f8e73f\n",
            "Successfully built pyspark\n",
            "Installing collected packages: py4j, pyspark\n",
            "Successfully installed py4j-0.10.9 pyspark-3.0.1\n"
          ],
          "name": "stdout"
        }
      ]
    },
    {
      "cell_type": "markdown",
      "metadata": {
        "id": "ILheUROOhprv"
      },
      "source": [
        "Now that you installed Spark and Java in Colab, it is time to set the environment path which enables you to run Pyspark in your Colab environment. Set the location of Java and Spark by running the following code:"
      ]
    },
    {
      "cell_type": "code",
      "metadata": {
        "id": "v1b8k_OVf2QF"
      },
      "source": [
        "import os\n",
        "os.environ[\"JAVA_HOME\"] = \"/usr/lib/jvm/java-8-openjdk-amd64\""
      ],
      "execution_count": null,
      "outputs": []
    },
    {
      "cell_type": "markdown",
      "metadata": {
        "id": "KwrqMk3HiMiE"
      },
      "source": [
        "Run a local spark session to test your installation:"
      ]
    },
    {
      "cell_type": "code",
      "metadata": {
        "id": "9_Uz1NL4gHFx"
      },
      "source": [
        "from pyspark.sql import SparkSession\n",
        "spark = SparkSession.builder.master(\"local[*]\").getOrCreate()"
      ],
      "execution_count": null,
      "outputs": []
    },
    {
      "cell_type": "code",
      "metadata": {
        "id": "14pXEN-M0hfV"
      },
      "source": [
        "spark"
      ],
      "execution_count": null,
      "outputs": []
    },
    {
      "cell_type": "markdown",
      "metadata": {
        "id": "l57w6j1HrcGr"
      },
      "source": [
        "# Reading a CSV from google drive\n",
        "\n",
        "Utilizando o Google Colab, é possível importar os datasets diretamente do Google Drive, sem ter que realizar o upload manual dos mesmos para a instância colab manualmente"
      ]
    },
    {
      "cell_type": "code",
      "metadata": {
        "id": "GyIlwwr7xENz"
      },
      "source": [
        "from google.colab import drive\n",
        "drive.mount('/content/drive')"
      ],
      "execution_count": null,
      "outputs": []
    },
    {
      "cell_type": "code",
      "metadata": {
        "id": "Y4LB-SAxzAFr"
      },
      "source": [
        "spark.read\\\n",
        "  .option(\"inferSchema\", \"true\") \\\n",
        "  .option(\"header\", \"true\") \\\n",
        "  .option(\"delimiter\", \",\") \\\n",
        "  .csv(\"drive/My\\ Drive/My\\ Professional\\ Carrer/Spark\\ course/virtual_classroom/colab_test/test.csv\") \\\n",
        "  .show()"
      ],
      "execution_count": null,
      "outputs": []
    },
    {
      "cell_type": "markdown",
      "metadata": {
        "id": "nfwvu6s1636N"
      },
      "source": [
        "# Transformações e ações com Dataframes\n",
        "Nessa aula, daremos passaremos sobre o que vem a ser transformação e ação. Veremos como esses conceitos são utilizados se tratando dos Dataframes e quais ações são possíveis de serem realizadas utilizando SparkSQL."
      ]
    },
    {
      "cell_type": "markdown",
      "metadata": {
        "id": "-6gNLcby7pjL"
      },
      "source": [
        "## Pré-requisitos:\n",
        "Instalar as bibliotecas `pandas` e `matplotlib`:\n"
      ]
    },
    {
      "cell_type": "code",
      "metadata": {
        "id": "VmsagFJr7mbE"
      },
      "source": [
        "!pip install pandas\n",
        "!pip install matplotlib"
      ],
      "execution_count": null,
      "outputs": []
    },
    {
      "cell_type": "markdown",
      "metadata": {
        "id": "JrNJ_Ixm74Vq"
      },
      "source": [
        "## Carregando o dataset videogamesales\n"
      ]
    },
    {
      "cell_type": "code",
      "metadata": {
        "id": "Q-hMUQ327-6u"
      },
      "source": [
        "data_dir = \"vgsales.csv\""
      ],
      "execution_count": null,
      "outputs": []
    },
    {
      "cell_type": "markdown",
      "metadata": {
        "id": "LQJ6U0iR8HCj"
      },
      "source": [
        "Usando a opção para inferir o schema dos dados automaticamente"
      ]
    },
    {
      "cell_type": "code",
      "metadata": {
        "id": "e6FNn6MF8Joo",
        "outputId": "fb491a5c-916e-4e70-a6dc-f31a1efbc56d",
        "colab": {
          "base_uri": "https://localhost:8080/"
        }
      },
      "source": [
        "df = spark.read.load(data_dir, format=\"csv\", inferSchema=\"true\", header=\"true\")\n",
        "df.printSchema()"
      ],
      "execution_count": null,
      "outputs": [
        {
          "output_type": "stream",
          "text": [
            "root\n",
            " |-- Rank: integer (nullable = true)\n",
            " |-- Name: string (nullable = true)\n",
            " |-- Platform: string (nullable = true)\n",
            " |-- Year: string (nullable = true)\n",
            " |-- Genre: string (nullable = true)\n",
            " |-- Publisher: string (nullable = true)\n",
            " |-- NA_Sales: double (nullable = true)\n",
            " |-- EU_Sales: double (nullable = true)\n",
            " |-- JP_Sales: double (nullable = true)\n",
            " |-- Other_Sales: double (nullable = true)\n",
            " |-- Global_Sales: double (nullable = true)\n",
            "\n"
          ],
          "name": "stdout"
        }
      ]
    },
    {
      "cell_type": "code",
      "metadata": {
        "id": "cPsuz_6HlsCn",
        "outputId": "7de8ad32-3649-4842-e73f-f87985a5cdab",
        "colab": {
          "base_uri": "https://localhost:8080/"
        }
      },
      "source": [
        "df.show()"
      ],
      "execution_count": null,
      "outputs": [
        {
          "output_type": "stream",
          "text": [
            "+----+--------------------+--------+----+------------+--------------------+--------+--------+--------+-----------+------------+\n",
            "|Rank|                Name|Platform|Year|       Genre|           Publisher|NA_Sales|EU_Sales|JP_Sales|Other_Sales|Global_Sales|\n",
            "+----+--------------------+--------+----+------------+--------------------+--------+--------+--------+-----------+------------+\n",
            "|   1|          Wii Sports|     Wii|2006|      Sports|            Nintendo|   41.49|   29.02|    3.77|       8.46|       82.74|\n",
            "|   2|   Super Mario Bros.|     NES|1985|    Platform|            Nintendo|   29.08|    3.58|    6.81|       0.77|       40.24|\n",
            "|   3|      Mario Kart Wii|     Wii|2008|      Racing|            Nintendo|   15.85|   12.88|    3.79|       3.31|       35.82|\n",
            "|   4|   Wii Sports Resort|     Wii|2009|      Sports|            Nintendo|   15.75|   11.01|    3.28|       2.96|        33.0|\n",
            "|   5|Pokemon Red/Pokem...|      GB|1996|Role-Playing|            Nintendo|   11.27|    8.89|   10.22|        1.0|       31.37|\n",
            "|   6|              Tetris|      GB|1989|      Puzzle|            Nintendo|    23.2|    2.26|    4.22|       0.58|       30.26|\n",
            "|   7|New Super Mario B...|      DS|2006|    Platform|            Nintendo|   11.38|    9.23|     6.5|        2.9|       30.01|\n",
            "|   8|            Wii Play|     Wii|2006|        Misc|            Nintendo|   14.03|     9.2|    2.93|       2.85|       29.02|\n",
            "|   9|New Super Mario B...|     Wii|2009|    Platform|            Nintendo|   14.59|    7.06|     4.7|       2.26|       28.62|\n",
            "|  10|           Duck Hunt|     NES|1984|     Shooter|            Nintendo|   26.93|    0.63|    0.28|       0.47|       28.31|\n",
            "|  11|          Nintendogs|      DS|2005|  Simulation|            Nintendo|    9.07|    11.0|    1.93|       2.75|       24.76|\n",
            "|  12|       Mario Kart DS|      DS|2005|      Racing|            Nintendo|    9.81|    7.57|    4.13|       1.92|       23.42|\n",
            "|  13|Pokemon Gold/Poke...|      GB|1999|Role-Playing|            Nintendo|     9.0|    6.18|     7.2|       0.71|        23.1|\n",
            "|  14|             Wii Fit|     Wii|2007|      Sports|            Nintendo|    8.94|    8.03|     3.6|       2.15|       22.72|\n",
            "|  15|        Wii Fit Plus|     Wii|2009|      Sports|            Nintendo|    9.09|    8.59|    2.53|       1.79|        22.0|\n",
            "|  16|  Kinect Adventures!|    X360|2010|        Misc|Microsoft Game St...|   14.97|    4.94|    0.24|       1.67|       21.82|\n",
            "|  17|  Grand Theft Auto V|     PS3|2013|      Action|Take-Two Interactive|    7.01|    9.27|    0.97|       4.14|        21.4|\n",
            "|  18|Grand Theft Auto:...|     PS2|2004|      Action|Take-Two Interactive|    9.43|     0.4|    0.41|      10.57|       20.81|\n",
            "|  19|   Super Mario World|    SNES|1990|    Platform|            Nintendo|   12.78|    3.75|    3.54|       0.55|       20.61|\n",
            "|  20|Brain Age: Train ...|      DS|2005|        Misc|            Nintendo|    4.75|    9.26|    4.16|       2.05|       20.22|\n",
            "+----+--------------------+--------+----+------------+--------------------+--------+--------+--------+-----------+------------+\n",
            "only showing top 20 rows\n",
            "\n"
          ],
          "name": "stdout"
        }
      ]
    },
    {
      "cell_type": "code",
      "metadata": {
        "id": "AAv_snD-8XIW",
        "outputId": "1b486999-11f0-425b-e987-b5c72a2848e7",
        "colab": {
          "base_uri": "https://localhost:8080/"
        }
      },
      "source": [
        "df.show()"
      ],
      "execution_count": null,
      "outputs": [
        {
          "output_type": "stream",
          "text": [
            "+----+--------------------+--------+----+------------+--------------------+--------+--------+--------+-----------+------------+\n",
            "|Rank|                Name|Platform|Year|       Genre|           Publisher|NA_Sales|EU_Sales|JP_Sales|Other_Sales|Global_Sales|\n",
            "+----+--------------------+--------+----+------------+--------------------+--------+--------+--------+-----------+------------+\n",
            "|   1|          Wii Sports|     Wii|2006|      Sports|            Nintendo|   41.49|   29.02|    3.77|       8.46|       82.74|\n",
            "|   2|   Super Mario Bros.|     NES|1985|    Platform|            Nintendo|   29.08|    3.58|    6.81|       0.77|       40.24|\n",
            "|   3|      Mario Kart Wii|     Wii|2008|      Racing|            Nintendo|   15.85|   12.88|    3.79|       3.31|       35.82|\n",
            "|   4|   Wii Sports Resort|     Wii|2009|      Sports|            Nintendo|   15.75|   11.01|    3.28|       2.96|        33.0|\n",
            "|   5|Pokemon Red/Pokem...|      GB|1996|Role-Playing|            Nintendo|   11.27|    8.89|   10.22|        1.0|       31.37|\n",
            "|   6|              Tetris|      GB|1989|      Puzzle|            Nintendo|    23.2|    2.26|    4.22|       0.58|       30.26|\n",
            "|   7|New Super Mario B...|      DS|2006|    Platform|            Nintendo|   11.38|    9.23|     6.5|        2.9|       30.01|\n",
            "|   8|            Wii Play|     Wii|2006|        Misc|            Nintendo|   14.03|     9.2|    2.93|       2.85|       29.02|\n",
            "|   9|New Super Mario B...|     Wii|2009|    Platform|            Nintendo|   14.59|    7.06|     4.7|       2.26|       28.62|\n",
            "|  10|           Duck Hunt|     NES|1984|     Shooter|            Nintendo|   26.93|    0.63|    0.28|       0.47|       28.31|\n",
            "|  11|          Nintendogs|      DS|2005|  Simulation|            Nintendo|    9.07|    11.0|    1.93|       2.75|       24.76|\n",
            "|  12|       Mario Kart DS|      DS|2005|      Racing|            Nintendo|    9.81|    7.57|    4.13|       1.92|       23.42|\n",
            "|  13|Pokemon Gold/Poke...|      GB|1999|Role-Playing|            Nintendo|     9.0|    6.18|     7.2|       0.71|        23.1|\n",
            "|  14|             Wii Fit|     Wii|2007|      Sports|            Nintendo|    8.94|    8.03|     3.6|       2.15|       22.72|\n",
            "|  15|        Wii Fit Plus|     Wii|2009|      Sports|            Nintendo|    9.09|    8.59|    2.53|       1.79|        22.0|\n",
            "|  16|  Kinect Adventures!|    X360|2010|        Misc|Microsoft Game St...|   14.97|    4.94|    0.24|       1.67|       21.82|\n",
            "|  17|  Grand Theft Auto V|     PS3|2013|      Action|Take-Two Interactive|    7.01|    9.27|    0.97|       4.14|        21.4|\n",
            "|  18|Grand Theft Auto:...|     PS2|2004|      Action|Take-Two Interactive|    9.43|     0.4|    0.41|      10.57|       20.81|\n",
            "|  19|   Super Mario World|    SNES|1990|    Platform|            Nintendo|   12.78|    3.75|    3.54|       0.55|       20.61|\n",
            "|  20|Brain Age: Train ...|      DS|2005|        Misc|            Nintendo|    4.75|    9.26|    4.16|       2.05|       20.22|\n",
            "+----+--------------------+--------+----+------------+--------------------+--------+--------+--------+-----------+------------+\n",
            "only showing top 20 rows\n",
            "\n"
          ],
          "name": "stdout"
        }
      ]
    },
    {
      "cell_type": "markdown",
      "metadata": {
        "id": "5N1TfjUA8qpi"
      },
      "source": [
        "Visualizar o dataset de uma forma mais amigável"
      ]
    },
    {
      "cell_type": "code",
      "metadata": {
        "id": "KuvJqBeX8k81",
        "outputId": "66ce32c3-0f7c-454e-db72-cea268778cc9",
        "colab": {
          "base_uri": "https://localhost:8080/",
          "height": 221
        }
      },
      "source": [
        "df.toPandas().head()"
      ],
      "execution_count": null,
      "outputs": [
        {
          "output_type": "execute_result",
          "data": {
            "text/html": [
              "<div>\n",
              "<style scoped>\n",
              "    .dataframe tbody tr th:only-of-type {\n",
              "        vertical-align: middle;\n",
              "    }\n",
              "\n",
              "    .dataframe tbody tr th {\n",
              "        vertical-align: top;\n",
              "    }\n",
              "\n",
              "    .dataframe thead th {\n",
              "        text-align: right;\n",
              "    }\n",
              "</style>\n",
              "<table border=\"1\" class=\"dataframe\">\n",
              "  <thead>\n",
              "    <tr style=\"text-align: right;\">\n",
              "      <th></th>\n",
              "      <th>Rank</th>\n",
              "      <th>Name</th>\n",
              "      <th>Platform</th>\n",
              "      <th>Year</th>\n",
              "      <th>Genre</th>\n",
              "      <th>Publisher</th>\n",
              "      <th>NA_Sales</th>\n",
              "      <th>EU_Sales</th>\n",
              "      <th>JP_Sales</th>\n",
              "      <th>Other_Sales</th>\n",
              "      <th>Global_Sales</th>\n",
              "    </tr>\n",
              "  </thead>\n",
              "  <tbody>\n",
              "    <tr>\n",
              "      <th>0</th>\n",
              "      <td>1</td>\n",
              "      <td>Wii Sports</td>\n",
              "      <td>Wii</td>\n",
              "      <td>2006</td>\n",
              "      <td>Sports</td>\n",
              "      <td>Nintendo</td>\n",
              "      <td>41.49</td>\n",
              "      <td>29.02</td>\n",
              "      <td>3.77</td>\n",
              "      <td>8.46</td>\n",
              "      <td>82.74</td>\n",
              "    </tr>\n",
              "    <tr>\n",
              "      <th>1</th>\n",
              "      <td>2</td>\n",
              "      <td>Super Mario Bros.</td>\n",
              "      <td>NES</td>\n",
              "      <td>1985</td>\n",
              "      <td>Platform</td>\n",
              "      <td>Nintendo</td>\n",
              "      <td>29.08</td>\n",
              "      <td>3.58</td>\n",
              "      <td>6.81</td>\n",
              "      <td>0.77</td>\n",
              "      <td>40.24</td>\n",
              "    </tr>\n",
              "    <tr>\n",
              "      <th>2</th>\n",
              "      <td>3</td>\n",
              "      <td>Mario Kart Wii</td>\n",
              "      <td>Wii</td>\n",
              "      <td>2008</td>\n",
              "      <td>Racing</td>\n",
              "      <td>Nintendo</td>\n",
              "      <td>15.85</td>\n",
              "      <td>12.88</td>\n",
              "      <td>3.79</td>\n",
              "      <td>3.31</td>\n",
              "      <td>35.82</td>\n",
              "    </tr>\n",
              "    <tr>\n",
              "      <th>3</th>\n",
              "      <td>4</td>\n",
              "      <td>Wii Sports Resort</td>\n",
              "      <td>Wii</td>\n",
              "      <td>2009</td>\n",
              "      <td>Sports</td>\n",
              "      <td>Nintendo</td>\n",
              "      <td>15.75</td>\n",
              "      <td>11.01</td>\n",
              "      <td>3.28</td>\n",
              "      <td>2.96</td>\n",
              "      <td>33.00</td>\n",
              "    </tr>\n",
              "    <tr>\n",
              "      <th>4</th>\n",
              "      <td>5</td>\n",
              "      <td>Pokemon Red/Pokemon Blue</td>\n",
              "      <td>GB</td>\n",
              "      <td>1996</td>\n",
              "      <td>Role-Playing</td>\n",
              "      <td>Nintendo</td>\n",
              "      <td>11.27</td>\n",
              "      <td>8.89</td>\n",
              "      <td>10.22</td>\n",
              "      <td>1.00</td>\n",
              "      <td>31.37</td>\n",
              "    </tr>\n",
              "  </tbody>\n",
              "</table>\n",
              "</div>"
            ],
            "text/plain": [
              "   Rank                      Name Platform  ... JP_Sales Other_Sales Global_Sales\n",
              "0     1                Wii Sports      Wii  ...     3.77        8.46        82.74\n",
              "1     2         Super Mario Bros.      NES  ...     6.81        0.77        40.24\n",
              "2     3            Mario Kart Wii      Wii  ...     3.79        3.31        35.82\n",
              "3     4         Wii Sports Resort      Wii  ...     3.28        2.96        33.00\n",
              "4     5  Pokemon Red/Pokemon Blue       GB  ...    10.22        1.00        31.37\n",
              "\n",
              "[5 rows x 11 columns]"
            ]
          },
          "metadata": {
            "tags": []
          },
          "execution_count": 10
        }
      ]
    },
    {
      "cell_type": "markdown",
      "metadata": {
        "id": "vWyh_zkG8zaL"
      },
      "source": [
        "## Definindo um método para plotar Dataframes Spark"
      ]
    },
    {
      "cell_type": "code",
      "metadata": {
        "id": "ifxwbJiL832k"
      },
      "source": [
        "def display_df(df, n=20):\n",
        "    return df.limit(n).toPandas()"
      ],
      "execution_count": null,
      "outputs": []
    },
    {
      "cell_type": "markdown",
      "metadata": {
        "id": "tWorx6E8863S"
      },
      "source": [
        "## Descrevendo estatisticamente o Dataframe"
      ]
    },
    {
      "cell_type": "code",
      "metadata": {
        "id": "pz2Rhxtb84XY",
        "outputId": "448aa7b8-8387-45f1-9298-11a069a5b497",
        "colab": {
          "base_uri": "https://localhost:8080/",
          "height": 292
        }
      },
      "source": [
        "display_df(df.describe(), 10)"
      ],
      "execution_count": null,
      "outputs": [
        {
          "output_type": "execute_result",
          "data": {
            "text/html": [
              "<div>\n",
              "<style scoped>\n",
              "    .dataframe tbody tr th:only-of-type {\n",
              "        vertical-align: middle;\n",
              "    }\n",
              "\n",
              "    .dataframe tbody tr th {\n",
              "        vertical-align: top;\n",
              "    }\n",
              "\n",
              "    .dataframe thead th {\n",
              "        text-align: right;\n",
              "    }\n",
              "</style>\n",
              "<table border=\"1\" class=\"dataframe\">\n",
              "  <thead>\n",
              "    <tr style=\"text-align: right;\">\n",
              "      <th></th>\n",
              "      <th>summary</th>\n",
              "      <th>Rank</th>\n",
              "      <th>Name</th>\n",
              "      <th>Platform</th>\n",
              "      <th>Year</th>\n",
              "      <th>Genre</th>\n",
              "      <th>Publisher</th>\n",
              "      <th>NA_Sales</th>\n",
              "      <th>EU_Sales</th>\n",
              "      <th>JP_Sales</th>\n",
              "      <th>Other_Sales</th>\n",
              "      <th>Global_Sales</th>\n",
              "    </tr>\n",
              "  </thead>\n",
              "  <tbody>\n",
              "    <tr>\n",
              "      <th>0</th>\n",
              "      <td>count</td>\n",
              "      <td>16598</td>\n",
              "      <td>16598</td>\n",
              "      <td>16598</td>\n",
              "      <td>16598</td>\n",
              "      <td>16598</td>\n",
              "      <td>16598</td>\n",
              "      <td>16598</td>\n",
              "      <td>16598</td>\n",
              "      <td>16598</td>\n",
              "      <td>16598</td>\n",
              "      <td>16598</td>\n",
              "    </tr>\n",
              "    <tr>\n",
              "      <th>1</th>\n",
              "      <td>mean</td>\n",
              "      <td>8300.605253645017</td>\n",
              "      <td>1942.0</td>\n",
              "      <td>2600.0</td>\n",
              "      <td>2006.4064433147546</td>\n",
              "      <td>None</td>\n",
              "      <td>None</td>\n",
              "      <td>0.26466742981084057</td>\n",
              "      <td>0.1466520062658483</td>\n",
              "      <td>0.07778166044101108</td>\n",
              "      <td>0.048063019640913515</td>\n",
              "      <td>0.53744065550074</td>\n",
              "    </tr>\n",
              "    <tr>\n",
              "      <th>2</th>\n",
              "      <td>stddev</td>\n",
              "      <td>4791.8539328964</td>\n",
              "      <td>NaN</td>\n",
              "      <td>0.0</td>\n",
              "      <td>5.828981114713253</td>\n",
              "      <td>None</td>\n",
              "      <td>None</td>\n",
              "      <td>0.8166830292988798</td>\n",
              "      <td>0.5053512312869136</td>\n",
              "      <td>0.3092906480822022</td>\n",
              "      <td>0.18858840291271395</td>\n",
              "      <td>1.5550279355699066</td>\n",
              "    </tr>\n",
              "    <tr>\n",
              "      <th>3</th>\n",
              "      <td>min</td>\n",
              "      <td>1</td>\n",
              "      <td>'98 Koshien</td>\n",
              "      <td>2600</td>\n",
              "      <td>1980</td>\n",
              "      <td>Action</td>\n",
              "      <td>10TACLE Studios</td>\n",
              "      <td>0.0</td>\n",
              "      <td>0.0</td>\n",
              "      <td>0.0</td>\n",
              "      <td>0.0</td>\n",
              "      <td>0.01</td>\n",
              "    </tr>\n",
              "    <tr>\n",
              "      <th>4</th>\n",
              "      <td>max</td>\n",
              "      <td>16600</td>\n",
              "      <td>¡Shin Chan Flipa en colores!</td>\n",
              "      <td>XOne</td>\n",
              "      <td>N/A</td>\n",
              "      <td>Strategy</td>\n",
              "      <td>responDESIGN</td>\n",
              "      <td>41.49</td>\n",
              "      <td>29.02</td>\n",
              "      <td>10.22</td>\n",
              "      <td>10.57</td>\n",
              "      <td>82.74</td>\n",
              "    </tr>\n",
              "  </tbody>\n",
              "</table>\n",
              "</div>"
            ],
            "text/plain": [
              "  summary               Rank  ...           Other_Sales        Global_Sales\n",
              "0   count              16598  ...                 16598               16598\n",
              "1    mean  8300.605253645017  ...  0.048063019640913515    0.53744065550074\n",
              "2  stddev    4791.8539328964  ...   0.18858840291271395  1.5550279355699066\n",
              "3     min                  1  ...                   0.0                0.01\n",
              "4     max              16600  ...                 10.57               82.74\n",
              "\n",
              "[5 rows x 12 columns]"
            ]
          },
          "metadata": {
            "tags": []
          },
          "execution_count": 12
        }
      ]
    },
    {
      "cell_type": "markdown",
      "metadata": {
        "id": "quCXPC2a9IQy"
      },
      "source": [
        "# Análise exploratória dos dados\n",
        "Vamos aqui realizar uma série de queries sobre os dados utilizando as APIs para Spark em Python (Pyspark) e o framework SparkSQL. Para isso, seguem algumas perguntas analiticas."
      ]
    },
    {
      "cell_type": "markdown",
      "metadata": {
        "id": "4_AIRYyX9VZx"
      },
      "source": [
        "### Quais foram os top 10 jogos mais vendidos até os anos 2000?\n",
        "**Pyspark API**"
      ]
    },
    {
      "cell_type": "code",
      "metadata": {
        "id": "CX9puuDF9Kq3",
        "outputId": "dd67c424-b5f6-405d-ad45-ba5014897c40",
        "colab": {
          "base_uri": "https://localhost:8080/",
          "height": 359
        }
      },
      "source": [
        "import pyspark.sql.functions as f\n",
        "\n",
        "# df -> T1 -> df2\n",
        "# df2 -> T2 -> df3\n",
        "# df3 -> T3 -> df4\n",
        "# df4 -> T4 -> df5\n",
        "# df5 -> A1\n",
        "\n",
        "sales_2000 = df.select(\"Name\", \"Global_Sales\", \"Year\") \\\n",
        "    .filter(f.col(\"Year\") <= 2000) \\\n",
        "    .orderBy(f.desc(\"Global_Sales\")) \\\n",
        "    .limit(10)\n",
        "\n",
        "display_df(sales_2000) "
      ],
      "execution_count": null,
      "outputs": [
        {
          "output_type": "execute_result",
          "data": {
            "text/html": [
              "<div>\n",
              "<style scoped>\n",
              "    .dataframe tbody tr th:only-of-type {\n",
              "        vertical-align: middle;\n",
              "    }\n",
              "\n",
              "    .dataframe tbody tr th {\n",
              "        vertical-align: top;\n",
              "    }\n",
              "\n",
              "    .dataframe thead th {\n",
              "        text-align: right;\n",
              "    }\n",
              "</style>\n",
              "<table border=\"1\" class=\"dataframe\">\n",
              "  <thead>\n",
              "    <tr style=\"text-align: right;\">\n",
              "      <th></th>\n",
              "      <th>Name</th>\n",
              "      <th>Global_Sales</th>\n",
              "      <th>Year</th>\n",
              "    </tr>\n",
              "  </thead>\n",
              "  <tbody>\n",
              "    <tr>\n",
              "      <th>0</th>\n",
              "      <td>Super Mario Bros.</td>\n",
              "      <td>40.24</td>\n",
              "      <td>1985</td>\n",
              "    </tr>\n",
              "    <tr>\n",
              "      <th>1</th>\n",
              "      <td>Pokemon Red/Pokemon Blue</td>\n",
              "      <td>31.37</td>\n",
              "      <td>1996</td>\n",
              "    </tr>\n",
              "    <tr>\n",
              "      <th>2</th>\n",
              "      <td>Tetris</td>\n",
              "      <td>30.26</td>\n",
              "      <td>1989</td>\n",
              "    </tr>\n",
              "    <tr>\n",
              "      <th>3</th>\n",
              "      <td>Duck Hunt</td>\n",
              "      <td>28.31</td>\n",
              "      <td>1984</td>\n",
              "    </tr>\n",
              "    <tr>\n",
              "      <th>4</th>\n",
              "      <td>Pokemon Gold/Pokemon Silver</td>\n",
              "      <td>23.10</td>\n",
              "      <td>1999</td>\n",
              "    </tr>\n",
              "    <tr>\n",
              "      <th>5</th>\n",
              "      <td>Super Mario World</td>\n",
              "      <td>20.61</td>\n",
              "      <td>1990</td>\n",
              "    </tr>\n",
              "    <tr>\n",
              "      <th>6</th>\n",
              "      <td>Super Mario Land</td>\n",
              "      <td>18.14</td>\n",
              "      <td>1989</td>\n",
              "    </tr>\n",
              "    <tr>\n",
              "      <th>7</th>\n",
              "      <td>Super Mario Bros. 3</td>\n",
              "      <td>17.28</td>\n",
              "      <td>1988</td>\n",
              "    </tr>\n",
              "    <tr>\n",
              "      <th>8</th>\n",
              "      <td>Pokémon Yellow: Special Pikachu Edition</td>\n",
              "      <td>14.64</td>\n",
              "      <td>1998</td>\n",
              "    </tr>\n",
              "    <tr>\n",
              "      <th>9</th>\n",
              "      <td>Super Mario 64</td>\n",
              "      <td>11.89</td>\n",
              "      <td>1996</td>\n",
              "    </tr>\n",
              "  </tbody>\n",
              "</table>\n",
              "</div>"
            ],
            "text/plain": [
              "                                      Name  Global_Sales  Year\n",
              "0                        Super Mario Bros.         40.24  1985\n",
              "1                 Pokemon Red/Pokemon Blue         31.37  1996\n",
              "2                                   Tetris         30.26  1989\n",
              "3                                Duck Hunt         28.31  1984\n",
              "4              Pokemon Gold/Pokemon Silver         23.10  1999\n",
              "5                        Super Mario World         20.61  1990\n",
              "6                         Super Mario Land         18.14  1989\n",
              "7                      Super Mario Bros. 3         17.28  1988\n",
              "8  Pokémon Yellow: Special Pikachu Edition         14.64  1998\n",
              "9                           Super Mario 64         11.89  1996"
            ]
          },
          "metadata": {
            "tags": []
          },
          "execution_count": 15
        }
      ]
    },
    {
      "cell_type": "markdown",
      "metadata": {
        "id": "A5mbTpYZ9noL"
      },
      "source": [
        "**Spark SQL**"
      ]
    },
    {
      "cell_type": "code",
      "metadata": {
        "id": "MYYA3woG9kVf",
        "outputId": "d4dce3ce-36b4-4f2d-c80b-544d2aa9e813",
        "colab": {
          "base_uri": "https://localhost:8080/",
          "height": 359
        }
      },
      "source": [
        "df.createOrReplaceTempView(\"videogame_sales\")\n",
        "\n",
        "sales_2000 = spark.sql(\"\"\"\n",
        "    SELECT \n",
        "      Name, \n",
        "      Global_Sales\n",
        "    FROM videogame_sales\n",
        "    WHERE Year <= 2000\n",
        "    ORDER BY Global_Sales DESC\n",
        "    LIMIT 10\n",
        "\"\"\")\n",
        "\n",
        "display_df(sales_2000)"
      ],
      "execution_count": null,
      "outputs": [
        {
          "output_type": "execute_result",
          "data": {
            "text/html": [
              "<div>\n",
              "<style scoped>\n",
              "    .dataframe tbody tr th:only-of-type {\n",
              "        vertical-align: middle;\n",
              "    }\n",
              "\n",
              "    .dataframe tbody tr th {\n",
              "        vertical-align: top;\n",
              "    }\n",
              "\n",
              "    .dataframe thead th {\n",
              "        text-align: right;\n",
              "    }\n",
              "</style>\n",
              "<table border=\"1\" class=\"dataframe\">\n",
              "  <thead>\n",
              "    <tr style=\"text-align: right;\">\n",
              "      <th></th>\n",
              "      <th>Name</th>\n",
              "      <th>Global_Sales</th>\n",
              "    </tr>\n",
              "  </thead>\n",
              "  <tbody>\n",
              "    <tr>\n",
              "      <th>0</th>\n",
              "      <td>Super Mario Bros.</td>\n",
              "      <td>40.24</td>\n",
              "    </tr>\n",
              "    <tr>\n",
              "      <th>1</th>\n",
              "      <td>Pokemon Red/Pokemon Blue</td>\n",
              "      <td>31.37</td>\n",
              "    </tr>\n",
              "    <tr>\n",
              "      <th>2</th>\n",
              "      <td>Tetris</td>\n",
              "      <td>30.26</td>\n",
              "    </tr>\n",
              "    <tr>\n",
              "      <th>3</th>\n",
              "      <td>Duck Hunt</td>\n",
              "      <td>28.31</td>\n",
              "    </tr>\n",
              "    <tr>\n",
              "      <th>4</th>\n",
              "      <td>Pokemon Gold/Pokemon Silver</td>\n",
              "      <td>23.10</td>\n",
              "    </tr>\n",
              "    <tr>\n",
              "      <th>5</th>\n",
              "      <td>Super Mario World</td>\n",
              "      <td>20.61</td>\n",
              "    </tr>\n",
              "    <tr>\n",
              "      <th>6</th>\n",
              "      <td>Super Mario Land</td>\n",
              "      <td>18.14</td>\n",
              "    </tr>\n",
              "    <tr>\n",
              "      <th>7</th>\n",
              "      <td>Super Mario Bros. 3</td>\n",
              "      <td>17.28</td>\n",
              "    </tr>\n",
              "    <tr>\n",
              "      <th>8</th>\n",
              "      <td>Pokémon Yellow: Special Pikachu Edition</td>\n",
              "      <td>14.64</td>\n",
              "    </tr>\n",
              "    <tr>\n",
              "      <th>9</th>\n",
              "      <td>Super Mario 64</td>\n",
              "      <td>11.89</td>\n",
              "    </tr>\n",
              "  </tbody>\n",
              "</table>\n",
              "</div>"
            ],
            "text/plain": [
              "                                      Name  Global_Sales\n",
              "0                        Super Mario Bros.         40.24\n",
              "1                 Pokemon Red/Pokemon Blue         31.37\n",
              "2                                   Tetris         30.26\n",
              "3                                Duck Hunt         28.31\n",
              "4              Pokemon Gold/Pokemon Silver         23.10\n",
              "5                        Super Mario World         20.61\n",
              "6                         Super Mario Land         18.14\n",
              "7                      Super Mario Bros. 3         17.28\n",
              "8  Pokémon Yellow: Special Pikachu Edition         14.64\n",
              "9                           Super Mario 64         11.89"
            ]
          },
          "metadata": {
            "tags": []
          },
          "execution_count": 16
        }
      ]
    },
    {
      "cell_type": "markdown",
      "metadata": {
        "id": "dOF3BZ2i96vy"
      },
      "source": [
        "### Qual foi o total de vendas em NA e Global por Platform no ano de 2005?\n",
        "**Pyspark API**"
      ]
    },
    {
      "cell_type": "code",
      "metadata": {
        "id": "ZC4uwVbcuN5Y",
        "outputId": "37a787d6-9d46-4100-810b-5e9b259d6d21",
        "colab": {
          "base_uri": "https://localhost:8080/"
        }
      },
      "source": [
        "df.select(\"Platform\", \"Global_Sales\") \\\n",
        "    .filter(f.col(\"Year\") == 2005) \\\n",
        "    .groupBy(\"Platform\") \\\n",
        "    .sum(\"Global_Sales\")"
      ],
      "execution_count": null,
      "outputs": [
        {
          "output_type": "execute_result",
          "data": {
            "text/plain": [
              "DataFrame[Platform: string, sum(Global_Sales): double]"
            ]
          },
          "metadata": {
            "tags": []
          },
          "execution_count": 24
        }
      ]
    },
    {
      "cell_type": "code",
      "metadata": {
        "id": "L6mPkVDA9rZe",
        "outputId": "bd6b8280-c464-4928-d695-216dca2619b6",
        "colab": {
          "base_uri": "https://localhost:8080/",
          "height": 297
        }
      },
      "source": [
        "import pyspark.sql.functions as f\n",
        "\n",
        "# df -> T1 -> df2\n",
        "# df2 -> T2 -> df3\n",
        "# df3 -> T3 (group by + agg) -> df4\n",
        "# df4 -> T4 -> df5\n",
        "# df5 -> A1\n",
        "\n",
        "sales_publisher_2005 = df.select(\"Platform\", \"Global_Sales\", \"NA_Sales\") \\\n",
        "    .filter(f.col(\"Year\") == 2005) \\\n",
        "    .groupBy(\"Platform\") \\\n",
        "    .agg(\n",
        "        f.sum(\"Global_sales\").alias(\"Global_sales_Total\"), \n",
        "        f.sum(\"NA_Sales\").alias(\"NA_Sales_Total\")\n",
        "    ) \\\n",
        "    .orderBy(f.desc(\"Global_sales_Total\"))\n",
        "\n",
        "display_df(sales_publisher_2005)"
      ],
      "execution_count": null,
      "outputs": [
        {
          "output_type": "execute_result",
          "data": {
            "text/html": [
              "<div>\n",
              "<style scoped>\n",
              "    .dataframe tbody tr th:only-of-type {\n",
              "        vertical-align: middle;\n",
              "    }\n",
              "\n",
              "    .dataframe tbody tr th {\n",
              "        vertical-align: top;\n",
              "    }\n",
              "\n",
              "    .dataframe thead th {\n",
              "        text-align: right;\n",
              "    }\n",
              "</style>\n",
              "<table border=\"1\" class=\"dataframe\">\n",
              "  <thead>\n",
              "    <tr style=\"text-align: right;\">\n",
              "      <th></th>\n",
              "      <th>Platform</th>\n",
              "      <th>Global_sales_Total</th>\n",
              "      <th>NA_Sales_Total</th>\n",
              "    </tr>\n",
              "  </thead>\n",
              "  <tbody>\n",
              "    <tr>\n",
              "      <th>0</th>\n",
              "      <td>PS2</td>\n",
              "      <td>160.65</td>\n",
              "      <td>85.60</td>\n",
              "    </tr>\n",
              "    <tr>\n",
              "      <th>1</th>\n",
              "      <td>DS</td>\n",
              "      <td>131.40</td>\n",
              "      <td>48.47</td>\n",
              "    </tr>\n",
              "    <tr>\n",
              "      <th>2</th>\n",
              "      <td>XB</td>\n",
              "      <td>49.17</td>\n",
              "      <td>34.84</td>\n",
              "    </tr>\n",
              "    <tr>\n",
              "      <th>3</th>\n",
              "      <td>PSP</td>\n",
              "      <td>44.23</td>\n",
              "      <td>24.48</td>\n",
              "    </tr>\n",
              "    <tr>\n",
              "      <th>4</th>\n",
              "      <td>GBA</td>\n",
              "      <td>33.90</td>\n",
              "      <td>21.70</td>\n",
              "    </tr>\n",
              "    <tr>\n",
              "      <th>5</th>\n",
              "      <td>GC</td>\n",
              "      <td>27.80</td>\n",
              "      <td>19.25</td>\n",
              "    </tr>\n",
              "    <tr>\n",
              "      <th>6</th>\n",
              "      <td>X360</td>\n",
              "      <td>8.32</td>\n",
              "      <td>6.89</td>\n",
              "    </tr>\n",
              "    <tr>\n",
              "      <th>7</th>\n",
              "      <td>PC</td>\n",
              "      <td>4.47</td>\n",
              "      <td>1.38</td>\n",
              "    </tr>\n",
              "  </tbody>\n",
              "</table>\n",
              "</div>"
            ],
            "text/plain": [
              "  Platform  Global_sales_Total  NA_Sales_Total\n",
              "0      PS2              160.65           85.60\n",
              "1       DS              131.40           48.47\n",
              "2       XB               49.17           34.84\n",
              "3      PSP               44.23           24.48\n",
              "4      GBA               33.90           21.70\n",
              "5       GC               27.80           19.25\n",
              "6     X360                8.32            6.89\n",
              "7       PC                4.47            1.38"
            ]
          },
          "metadata": {
            "tags": []
          },
          "execution_count": 21
        }
      ]
    },
    {
      "cell_type": "markdown",
      "metadata": {
        "id": "-xJv6E0V-T4C"
      },
      "source": [
        "**Spark SQL**"
      ]
    },
    {
      "cell_type": "code",
      "metadata": {
        "id": "qciGUAp0-OZR",
        "outputId": "79f91e28-8bbf-4c71-cc55-c4bc03eaf963",
        "colab": {
          "base_uri": "https://localhost:8080/",
          "height": 297
        }
      },
      "source": [
        "\n",
        "df.createOrReplaceTempView(\"videogame_sales\")\n",
        "\n",
        "sales_publisher_2005 = spark.sql(\"\"\"\n",
        "    SELECT Platform, \n",
        "        SUM(Global_Sales) AS Global_sales_Total, \n",
        "        SUM(NA_Sales) AS NA_Sales_Total\n",
        "    FROM videogame_sales\n",
        "    WHERE Year = 2005\n",
        "    GROUP BY Platform\n",
        "    ORDER BY Global_sales_Total DESC\n",
        "\"\"\")\n",
        "\n",
        "display_df(sales_publisher_2005)"
      ],
      "execution_count": null,
      "outputs": [
        {
          "output_type": "execute_result",
          "data": {
            "text/html": [
              "<div>\n",
              "<style scoped>\n",
              "    .dataframe tbody tr th:only-of-type {\n",
              "        vertical-align: middle;\n",
              "    }\n",
              "\n",
              "    .dataframe tbody tr th {\n",
              "        vertical-align: top;\n",
              "    }\n",
              "\n",
              "    .dataframe thead th {\n",
              "        text-align: right;\n",
              "    }\n",
              "</style>\n",
              "<table border=\"1\" class=\"dataframe\">\n",
              "  <thead>\n",
              "    <tr style=\"text-align: right;\">\n",
              "      <th></th>\n",
              "      <th>Platform</th>\n",
              "      <th>Global_sales_Total</th>\n",
              "      <th>NA_Sales_Total</th>\n",
              "    </tr>\n",
              "  </thead>\n",
              "  <tbody>\n",
              "    <tr>\n",
              "      <th>0</th>\n",
              "      <td>PS2</td>\n",
              "      <td>160.65</td>\n",
              "      <td>85.60</td>\n",
              "    </tr>\n",
              "    <tr>\n",
              "      <th>1</th>\n",
              "      <td>DS</td>\n",
              "      <td>131.40</td>\n",
              "      <td>48.47</td>\n",
              "    </tr>\n",
              "    <tr>\n",
              "      <th>2</th>\n",
              "      <td>XB</td>\n",
              "      <td>49.17</td>\n",
              "      <td>34.84</td>\n",
              "    </tr>\n",
              "    <tr>\n",
              "      <th>3</th>\n",
              "      <td>PSP</td>\n",
              "      <td>44.23</td>\n",
              "      <td>24.48</td>\n",
              "    </tr>\n",
              "    <tr>\n",
              "      <th>4</th>\n",
              "      <td>GBA</td>\n",
              "      <td>33.90</td>\n",
              "      <td>21.70</td>\n",
              "    </tr>\n",
              "    <tr>\n",
              "      <th>5</th>\n",
              "      <td>GC</td>\n",
              "      <td>27.80</td>\n",
              "      <td>19.25</td>\n",
              "    </tr>\n",
              "    <tr>\n",
              "      <th>6</th>\n",
              "      <td>X360</td>\n",
              "      <td>8.32</td>\n",
              "      <td>6.89</td>\n",
              "    </tr>\n",
              "    <tr>\n",
              "      <th>7</th>\n",
              "      <td>PC</td>\n",
              "      <td>4.47</td>\n",
              "      <td>1.38</td>\n",
              "    </tr>\n",
              "  </tbody>\n",
              "</table>\n",
              "</div>"
            ],
            "text/plain": [
              "  Platform  Global_sales_Total  NA_Sales_Total\n",
              "0      PS2              160.65           85.60\n",
              "1       DS              131.40           48.47\n",
              "2       XB               49.17           34.84\n",
              "3      PSP               44.23           24.48\n",
              "4      GBA               33.90           21.70\n",
              "5       GC               27.80           19.25\n",
              "6     X360                8.32            6.89\n",
              "7       PC                4.47            1.38"
            ]
          },
          "metadata": {
            "tags": []
          },
          "execution_count": 22
        }
      ]
    },
    {
      "cell_type": "markdown",
      "metadata": {
        "id": "E_8IIFgc-ezI"
      },
      "source": [
        "### Qual foi a evolução das arrecadações globais das plataformas PS2, PS3 e X360 ao longo dos anos?\n",
        "\n",
        "O objetivo aqui é exibir um gráfico de linha com a evolução das arrecadações nas plataformas ao longo do tempo. Utilizaremos a API Pyspark para realizar essa plotagem\n",
        "\n"
      ]
    },
    {
      "cell_type": "code",
      "metadata": {
        "id": "LU4Uukll-Xvm",
        "outputId": "ab0418f0-e423-48c5-cca0-a1a3a73cc2ea",
        "colab": {
          "base_uri": "https://localhost:8080/",
          "height": 669
        }
      },
      "source": [
        "import pyspark.sql.functions as f\n",
        "\n",
        "timeline_sales = df.select(\"Platform\", \"Global_Sales\", \"Year\") \\\n",
        "    .where(\"Platform in ('PS2', 'PS3', 'X360')\") \\\n",
        "    .groupBy(\"Year\", \"Platform\") \\\n",
        "    .agg(\n",
        "        f.sum(\"Global_sales\").alias(\"Global_sales_Total\")\n",
        "    ) \\\n",
        "    .orderBy(f.asc(\"Year\"))\n",
        "\n",
        "display_df(timeline_sales)"
      ],
      "execution_count": null,
      "outputs": [
        {
          "output_type": "execute_result",
          "data": {
            "text/html": [
              "<div>\n",
              "<style scoped>\n",
              "    .dataframe tbody tr th:only-of-type {\n",
              "        vertical-align: middle;\n",
              "    }\n",
              "\n",
              "    .dataframe tbody tr th {\n",
              "        vertical-align: top;\n",
              "    }\n",
              "\n",
              "    .dataframe thead th {\n",
              "        text-align: right;\n",
              "    }\n",
              "</style>\n",
              "<table border=\"1\" class=\"dataframe\">\n",
              "  <thead>\n",
              "    <tr style=\"text-align: right;\">\n",
              "      <th></th>\n",
              "      <th>Year</th>\n",
              "      <th>Platform</th>\n",
              "      <th>Global_sales_Total</th>\n",
              "    </tr>\n",
              "  </thead>\n",
              "  <tbody>\n",
              "    <tr>\n",
              "      <th>0</th>\n",
              "      <td>2000</td>\n",
              "      <td>PS2</td>\n",
              "      <td>39.11</td>\n",
              "    </tr>\n",
              "    <tr>\n",
              "      <th>1</th>\n",
              "      <td>2001</td>\n",
              "      <td>PS2</td>\n",
              "      <td>166.43</td>\n",
              "    </tr>\n",
              "    <tr>\n",
              "      <th>2</th>\n",
              "      <td>2002</td>\n",
              "      <td>PS2</td>\n",
              "      <td>205.40</td>\n",
              "    </tr>\n",
              "    <tr>\n",
              "      <th>3</th>\n",
              "      <td>2003</td>\n",
              "      <td>PS2</td>\n",
              "      <td>184.29</td>\n",
              "    </tr>\n",
              "    <tr>\n",
              "      <th>4</th>\n",
              "      <td>2004</td>\n",
              "      <td>PS2</td>\n",
              "      <td>211.78</td>\n",
              "    </tr>\n",
              "    <tr>\n",
              "      <th>5</th>\n",
              "      <td>2005</td>\n",
              "      <td>X360</td>\n",
              "      <td>8.32</td>\n",
              "    </tr>\n",
              "    <tr>\n",
              "      <th>6</th>\n",
              "      <td>2005</td>\n",
              "      <td>PS2</td>\n",
              "      <td>160.65</td>\n",
              "    </tr>\n",
              "    <tr>\n",
              "      <th>7</th>\n",
              "      <td>2006</td>\n",
              "      <td>PS2</td>\n",
              "      <td>103.42</td>\n",
              "    </tr>\n",
              "    <tr>\n",
              "      <th>8</th>\n",
              "      <td>2006</td>\n",
              "      <td>PS3</td>\n",
              "      <td>21.07</td>\n",
              "    </tr>\n",
              "    <tr>\n",
              "      <th>9</th>\n",
              "      <td>2006</td>\n",
              "      <td>X360</td>\n",
              "      <td>51.88</td>\n",
              "    </tr>\n",
              "    <tr>\n",
              "      <th>10</th>\n",
              "      <td>2007</td>\n",
              "      <td>PS3</td>\n",
              "      <td>73.81</td>\n",
              "    </tr>\n",
              "    <tr>\n",
              "      <th>11</th>\n",
              "      <td>2007</td>\n",
              "      <td>PS2</td>\n",
              "      <td>76.00</td>\n",
              "    </tr>\n",
              "    <tr>\n",
              "      <th>12</th>\n",
              "      <td>2007</td>\n",
              "      <td>X360</td>\n",
              "      <td>95.84</td>\n",
              "    </tr>\n",
              "    <tr>\n",
              "      <th>13</th>\n",
              "      <td>2008</td>\n",
              "      <td>PS3</td>\n",
              "      <td>119.69</td>\n",
              "    </tr>\n",
              "    <tr>\n",
              "      <th>14</th>\n",
              "      <td>2008</td>\n",
              "      <td>X360</td>\n",
              "      <td>135.76</td>\n",
              "    </tr>\n",
              "    <tr>\n",
              "      <th>15</th>\n",
              "      <td>2008</td>\n",
              "      <td>PS2</td>\n",
              "      <td>53.83</td>\n",
              "    </tr>\n",
              "    <tr>\n",
              "      <th>16</th>\n",
              "      <td>2009</td>\n",
              "      <td>X360</td>\n",
              "      <td>120.85</td>\n",
              "    </tr>\n",
              "    <tr>\n",
              "      <th>17</th>\n",
              "      <td>2009</td>\n",
              "      <td>PS2</td>\n",
              "      <td>26.45</td>\n",
              "    </tr>\n",
              "    <tr>\n",
              "      <th>18</th>\n",
              "      <td>2009</td>\n",
              "      <td>PS3</td>\n",
              "      <td>132.34</td>\n",
              "    </tr>\n",
              "    <tr>\n",
              "      <th>19</th>\n",
              "      <td>2010</td>\n",
              "      <td>PS2</td>\n",
              "      <td>5.63</td>\n",
              "    </tr>\n",
              "  </tbody>\n",
              "</table>\n",
              "</div>"
            ],
            "text/plain": [
              "    Year Platform  Global_sales_Total\n",
              "0   2000      PS2               39.11\n",
              "1   2001      PS2              166.43\n",
              "2   2002      PS2              205.40\n",
              "3   2003      PS2              184.29\n",
              "4   2004      PS2              211.78\n",
              "5   2005     X360                8.32\n",
              "6   2005      PS2              160.65\n",
              "7   2006      PS2              103.42\n",
              "8   2006      PS3               21.07\n",
              "9   2006     X360               51.88\n",
              "10  2007      PS3               73.81\n",
              "11  2007      PS2               76.00\n",
              "12  2007     X360               95.84\n",
              "13  2008      PS3              119.69\n",
              "14  2008     X360              135.76\n",
              "15  2008      PS2               53.83\n",
              "16  2009     X360              120.85\n",
              "17  2009      PS2               26.45\n",
              "18  2009      PS3              132.34\n",
              "19  2010      PS2                5.63"
            ]
          },
          "metadata": {
            "tags": []
          },
          "execution_count": 23
        }
      ]
    },
    {
      "cell_type": "markdown",
      "metadata": {
        "id": "H95a8550-2wY"
      },
      "source": [
        "Plotando a série temporal das vendas das plataformas (pivoteamento necessário)"
      ]
    },
    {
      "cell_type": "code",
      "metadata": {
        "id": "xAlnbEh8-2LG",
        "outputId": "e3705ae5-a2fe-412e-c4ee-3e4090a1f716",
        "colab": {
          "base_uri": "https://localhost:8080/",
          "height": 296
        }
      },
      "source": [
        "import pyspark.sql.functions as f\n",
        "import matplotlib.pyplot as plt\n",
        "\n",
        "%matplotlib inline\n",
        "\n",
        "timeline_sales_pivot = timeline_sales \\\n",
        "    .groupBy(\"Year\")\\\n",
        "    .pivot(\"Platform\")\\\n",
        "    .agg(f.sum(\"Global_sales_Total\"))\n",
        "\n",
        "#display_df(timeline_sales_pivot)\n",
        "\n",
        "timeline_sales_pivot.toPandas()\\\n",
        "    .set_index(\"Year\").plot()"
      ],
      "execution_count": null,
      "outputs": [
        {
          "output_type": "execute_result",
          "data": {
            "text/plain": [
              "<matplotlib.axes._subplots.AxesSubplot at 0x7f8b85dd3be0>"
            ]
          },
          "metadata": {
            "tags": []
          },
          "execution_count": 26
        },
        {
          "output_type": "display_data",
          "data": {
            "image/png": "[encoded data removed]",
            "text/plain": [
              "<Figure size 432x288 with 1 Axes>"
            ]
          },
          "metadata": {
            "tags": [],
            "needs_background": "light"
          }
        }
      ]
    },
    {
      "cell_type": "markdown",
      "metadata": {
        "id": "E2wJaU6z_LPf"
      },
      "source": [
        "\n",
        "# Exercícios - pt1\n",
        "\n",
        "1)  Utilizando a API em Python do Spark (PySpark) retorne um novo dataframe contendo duas colunas: o nome do console (coluna Platform) e a contagem de jogos em cada plataforma no ano de 2010, ordenado pela contagem decrescentemente:"
      ]
    },
    {
      "cell_type": "code",
      "metadata": {
        "id": "SJI_AGqa-6pM"
      },
      "source": [
        "import pyspark.sql.functions as f\n",
        "\n",
        "#"
      ],
      "execution_count": null,
      "outputs": []
    },
    {
      "cell_type": "markdown",
      "metadata": {
        "id": "DTJufXof_l4p"
      },
      "source": [
        "2)  Utilizando SQL, retorne o total arrecadado (coluna Global_Sales) por produtora (coluna Publisher) entre os anos 2000 e 2010 ordenado decrescentemente pelo total arrecadado"
      ]
    },
    {
      "cell_type": "code",
      "metadata": {
        "id": "y-CufjkV_qHe"
      },
      "source": [
        "# df = ..."
      ],
      "execution_count": null,
      "outputs": []
    },
    {
      "cell_type": "markdown",
      "metadata": {
        "id": "l607gicS_sqP"
      },
      "source": [
        "3) Utilizando a API em Python do Spark (PySpark), escreva uma sequência de transformações que retorne um dataframe contendo o total das vendas Global_Sales por Publisher em cada ano compreendido entre 2000 e 2010:"
      ]
    },
    {
      "cell_type": "code",
      "metadata": {
        "id": "Nm4n5wce_xAe"
      },
      "source": [
        "# df = ..."
      ],
      "execution_count": null,
      "outputs": []
    },
    {
      "cell_type": "markdown",
      "metadata": {
        "id": "4uEG8UV-AZYW"
      },
      "source": [
        "# Spark UDFs\n",
        "\n",
        "UDF ou User Defined Functions são funções específicas definidas pelo usuário e disponíveis para uso em tempo de execução. Nelas, o usuário pode definir um comportamento aplicável a todo parâmetro passado a ela"
      ]
    },
    {
      "cell_type": "markdown",
      "metadata": {
        "id": "wi8MittoAii-"
      },
      "source": [
        "## UDF simples\n",
        "Aqui faremos a definição das nossas UDFs de dois modos. O primeiro é para ser utilizado com a API do Spark para Python. Já a segunda estará disponível para uso dentro do SparkSQL"
      ]
    },
    {
      "cell_type": "code",
      "metadata": {
        "id": "3CIZgRFsAa1T"
      },
      "source": [
        "from pyspark.sql.types import DoubleType\n",
        "from pyspark.sql.functions import udf\n",
        "\n",
        "# Função Python para ser utilizada nos dataframes\n",
        "def tax_collected(value):\n",
        "    return value*0.1\n",
        "\n",
        "# Conversão da função em  UDF para uso em Pyspark API\n",
        "tax_collected_udf = udf(tax_collected, DoubleType())\n",
        "\n",
        "# Conversão da função em  UDF para uso em SparkSQL\n",
        "spark.udf.register(\"tax_collected_udf_sql\", tax_collected, DoubleType())"
      ],
      "execution_count": null,
      "outputs": []
    },
    {
      "cell_type": "markdown",
      "metadata": {
        "id": "egoRj2HaAr7W"
      },
      "source": [
        "**Spark SQL**"
      ]
    },
    {
      "cell_type": "code",
      "metadata": {
        "id": "qM9GocpyAoLC"
      },
      "source": [
        "display_df(spark.sql(\"\"\"\n",
        "    SELECT Platform, \n",
        "    NA_Sales,\n",
        "    tax_collected_udf_sql(NA_Sales) as tax_collected\n",
        "    FROM videogame_sales\n",
        "    LIMIT 10    \n",
        "\"\"\"))"
      ],
      "execution_count": null,
      "outputs": []
    },
    {
      "cell_type": "markdown",
      "metadata": {
        "id": "5Y1pvcb7A2Wd"
      },
      "source": [
        "**Pyspark API**"
      ]
    },
    {
      "cell_type": "code",
      "metadata": {
        "id": "WI1YAF8YAzzn"
      },
      "source": [
        "display_df(\n",
        "    df.select(\"Platform\", \"NA_Sales\", tax_collected_udf(\"NA_Sales\").alias(\"tax_collected\")) \\\n",
        "    .limit(10)\n",
        ")\n"
      ],
      "execution_count": null,
      "outputs": []
    },
    {
      "cell_type": "markdown",
      "metadata": {
        "id": "sKFllxArBDcN"
      },
      "source": [
        "## UDF com objetos externos\n",
        "É possível criar UDFs com objetos Python, de modo que possam ser usados de forma paralela pelo cluster de Spark"
      ]
    },
    {
      "cell_type": "code",
      "metadata": {
        "id": "1lcaWFMWA4OA"
      },
      "source": [
        "import hashlib\n",
        "from pyspark.sql.types import StringType\n",
        "\n",
        "def generate_hash(value):\n",
        "    hash_object = hashlib.md5(bytes(value, 'utf8'))\n",
        "    return hash_object.hexdigest()\n",
        "\n",
        "# Uso em SparkSQL\n",
        "spark.udf.register(\"generate_hash_sql\", generate_hash, StringType())"
      ],
      "execution_count": null,
      "outputs": []
    },
    {
      "cell_type": "code",
      "metadata": {
        "id": "UoWIStG5BL6W"
      },
      "source": [
        "display_df(spark.sql(\"\"\"\n",
        "    SELECT Platform, \n",
        "    generate_hash_sql(Platform) as Platform_handle\n",
        "    FROM videogame_sales\n",
        "    LIMIT 10\n",
        "\"\"\"))"
      ],
      "execution_count": null,
      "outputs": []
    },
    {
      "cell_type": "markdown",
      "metadata": {
        "id": "7Oo-ppgVBaoM"
      },
      "source": [
        "# Joins entre Dataframes Spark\n",
        "Frequentemente, ao lidar com analise de dados utilizando o Spark ou na criação de pipelines de transformação de dados, é comum realizar a junção de diferentes bases de dados de forma a ter o dado o mais completo o possível disponível para o cientista de dados. Esse conceito é contrário ao conceito de \"Normalização\" nos tradicionais bancos de dados, conhecido como \"Desnormalização\".\n",
        "\n",
        "**Preparando os datasets**"
      ]
    },
    {
      "cell_type": "code",
      "metadata": {
        "id": "XA2TE75nBOB2"
      },
      "source": [
        "values_a = [('Pirate',1),('Monkey',2),('Ninja',3),('Spaghetti',4)]\n",
        "table_a = spark.createDataFrame(values_a,['name','id'])\n",
        " \n",
        "values_b = [('Rutabaga',1),('Pirate',2),('Ninja',3),('Darth Vader',4)]\n",
        "table_b = spark.createDataFrame(values_b,['name','id'])\n",
        "\n",
        "display_df(table_a)\n",
        "#display_df(table_b)"
      ],
      "execution_count": null,
      "outputs": []
    },
    {
      "cell_type": "markdown",
      "metadata": {
        "id": "ATnzRIhEBwqk"
      },
      "source": [
        "**Inner Join**"
      ]
    },
    {
      "cell_type": "code",
      "metadata": {
        "id": "tCRLYj62CCgj"
      },
      "source": [
        "inner_join = table_a.join(table_b, table_a.name == table_b.name)\n",
        "display_df(inner_join)"
      ],
      "execution_count": null,
      "outputs": []
    },
    {
      "cell_type": "markdown",
      "metadata": {
        "id": "Dp3tPxl7B0Uf"
      },
      "source": [
        "**Left Join**"
      ]
    },
    {
      "cell_type": "code",
      "metadata": {
        "id": "AglNAWacCHSk"
      },
      "source": [
        "left_join = table_a.join(table_b, table_a.name == table_b.name, how=\"left\") # também pode ser usado o 'left_outer'\n",
        "display_df(left_join)"
      ],
      "execution_count": null,
      "outputs": []
    },
    {
      "cell_type": "markdown",
      "metadata": {
        "id": "hiAflUHUB29V"
      },
      "source": [
        "**Right Join**"
      ]
    },
    {
      "cell_type": "code",
      "metadata": {
        "id": "4MA5IMVVCJmL"
      },
      "source": [
        "right_join = table_a.join(table_b, table_a.name == table_b.name, how=\"right\") # também pode ser usado o 'right_outer'\n",
        "display_df(right_join)"
      ],
      "execution_count": null,
      "outputs": []
    },
    {
      "cell_type": "markdown",
      "metadata": {
        "id": "N54UE2CiB5cU"
      },
      "source": [
        "**Full Join**"
      ]
    },
    {
      "cell_type": "code",
      "metadata": {
        "id": "S8ZcZ2a9CLkc"
      },
      "source": [
        "full_join = table_a.join(table_b, table_a.name == table_b.name, how=\"full\") # também pode ser usado o 'full_outer'\n",
        "display_df(full_join)"
      ],
      "execution_count": null,
      "outputs": []
    },
    {
      "cell_type": "markdown",
      "metadata": {
        "id": "clk0nb1OB-xs"
      },
      "source": [
        "**Cross join ou produto cartesiano**"
      ]
    },
    {
      "cell_type": "code",
      "metadata": {
        "id": "IBXw6XzsCNzs"
      },
      "source": [
        "cross_join = table_a.crossJoin(table_b.select(\"name\"))\n",
        "display_df(cross_join)"
      ],
      "execution_count": null,
      "outputs": []
    },
    {
      "cell_type": "markdown",
      "metadata": {
        "id": "UkgPvtn7CkCw"
      },
      "source": [
        "# Exercícios - pt2\n",
        "\n",
        "4) Utilizando o dataset vgsales, crie uma UDF que cálcule o século em que o jogo foi lançado:"
      ]
    },
    {
      "cell_type": "code",
      "metadata": {
        "id": "tkyzcvofesj6",
        "outputId": "7b00bd0b-cecd-4e62-a625-d20b120f9b34",
        "colab": {
          "base_uri": "https://localhost:8080/"
        }
      },
      "source": [
        ""
      ],
      "execution_count": null,
      "outputs": [
        {
          "output_type": "execute_result",
          "data": {
            "text/plain": [
              "20"
            ]
          },
          "metadata": {
            "tags": []
          },
          "execution_count": 33
        }
      ]
    },
    {
      "cell_type": "code",
      "metadata": {
        "id": "0ExQnoFKBpuG",
        "outputId": "ffdfd835-04f6-48df-83b6-5aa5a453cc10",
        "colab": {
          "base_uri": "https://localhost:8080/"
        }
      },
      "source": [
        "from pyspark.sql.types import IntegerType\n",
        "from pyspark.sql.functions import udf\n",
        "\n",
        "# Função Python para ser utilizada nos dataframes\n",
        "def get_seculus(value):\n",
        "    last_first_two_digits = value[0:2]\n",
        "\n",
        "    if value[1:3] == \"00\":\n",
        "      return int(last_first_two_digits)\n",
        "    else:\n",
        "      return int(last_first_two_digits) + 1\n",
        "\n",
        "# Conversão da função em  UDF para uso em Pyspark API\n",
        "get_seculus_udf = udf(get_seculus, IntegerType())\n",
        "\n",
        "df.select(get_seculus_udf(\"year\").alias(\"seculus\"), \"year\").show()"
      ],
      "execution_count": null,
      "outputs": [
        {
          "output_type": "stream",
          "text": [
            "+-------+----+\n",
            "|seculus|year|\n",
            "+-------+----+\n",
            "|     20|2006|\n",
            "|     20|1985|\n",
            "|     20|2008|\n",
            "|     20|2009|\n",
            "|     20|1996|\n",
            "|     20|1989|\n",
            "|     20|2006|\n",
            "|     20|2006|\n",
            "|     20|2009|\n",
            "|     20|1984|\n",
            "|     20|2005|\n",
            "|     20|2005|\n",
            "|     20|1999|\n",
            "|     20|2007|\n",
            "|     20|2009|\n",
            "|     21|2010|\n",
            "|     21|2013|\n",
            "|     20|2004|\n",
            "|     20|1990|\n",
            "|     20|2005|\n",
            "+-------+----+\n",
            "only showing top 20 rows\n",
            "\n"
          ],
          "name": "stdout"
        }
      ]
    },
    {
      "cell_type": "markdown",
      "metadata": {
        "id": "pmu6x923DGT0"
      },
      "source": [
        "5) Utilizando os datasets do código abaixo:"
      ]
    },
    {
      "cell_type": "code",
      "metadata": {
        "id": "5SZOZqC8C_Ek"
      },
      "source": [
        "employees = [('Joao',1),('Marcos',2),('Tiago',3),('Pedro',4), ('Maria',5), ('Marta',6)]\n",
        "employees_df = spark.createDataFrame(employees,['name','id'])\n",
        " \n",
        "deptos = [('Administrativo',1),('Financeiro',2),('Financeiro',3),('Financeiro',5),('TI',5),('TI',6)]\n",
        "deptos_df = spark.createDataFrame(deptos,['dep_name','emp_id'])"
      ],
      "execution_count": null,
      "outputs": []
    },
    {
      "cell_type": "markdown",
      "metadata": {
        "id": "RhgSjYImEKCm"
      },
      "source": [
        "Retorne a lista de empregados (employees) e a lista de departamentos (deptos), retorne uma lista de todos os empregados que estão em um departamento:"
      ]
    },
    {
      "cell_type": "code",
      "metadata": {
        "id": "8_Dlv_1_Ed9T",
        "outputId": "cb8ed305-2b1a-4468-a72e-2a1606be1b63",
        "colab": {
          "base_uri": "https://localhost:8080/"
        }
      },
      "source": [
        "employees_df.join(deptos_df, employees_df.id == deptos_df.emp_id).show()"
      ],
      "execution_count": null,
      "outputs": [
        {
          "output_type": "stream",
          "text": [
            "+------+---+--------------+------+\n",
            "|  name| id|      dep_name|emp_id|\n",
            "+------+---+--------------+------+\n",
            "| Marta|  6|            TI|     6|\n",
            "| Maria|  5|    Financeiro|     5|\n",
            "| Maria|  5|            TI|     5|\n",
            "|  Joao|  1|Administrativo|     1|\n",
            "| Tiago|  3|    Financeiro|     3|\n",
            "|Marcos|  2|    Financeiro|     2|\n",
            "+------+---+--------------+------+\n",
            "\n"
          ],
          "name": "stdout"
        }
      ]
    },
    {
      "cell_type": "code",
      "metadata": {
        "id": "uT1K5l1GGada"
      },
      "source": [
        ""
      ],
      "execution_count": null,
      "outputs": []
    }
  ]
}